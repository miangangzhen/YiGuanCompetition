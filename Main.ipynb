{
 "cells": [
  {
   "cell_type": "markdown",
   "metadata": {},
   "source": [
    "# 年龄性别预测比赛\n",
    "## 数据概览\n",
    "### 训练数据 每个设备对应的性别、年龄段【deviceid_train.tsv】"
   ]
  },
  {
   "cell_type": "code",
   "execution_count": 38,
   "metadata": {},
   "outputs": [],
   "source": [
    "import matplotlib.pyplot as plt\n",
    "import pandas as pd\n",
    "from sklearn.linear_model import LogisticRegression\n",
    "from sklearn.svm import LinearSVC\n",
    "import numpy as np\n",
    "from sklearn.decomposition import PCA\n",
    "from sklearn.tree import DecisionTreeClassifier\n",
    "from sklearn.model_selection import train_test_split\n",
    "from sklearn.ensemble import GradientBoostingClassifier\n",
    "from sklearn.ensemble import RandomForestClassifier\n",
    "from sklearn.feature_extraction.text import TfidfTransformer\n",
    "from sklearn.feature_extraction.text import CountVectorizer\n",
    "from tqdm import tqdm\n",
    "from sklearn.decomposition import LatentDirichletAllocation\n",
    "import lightgbm as lgb"
   ]
  },
  {
   "cell_type": "code",
   "execution_count": 2,
   "metadata": {},
   "outputs": [
    {
     "name": "stdout",
     "output_type": "stream",
     "text": [
      "一个数据样例:\n",
      "device: 53bb60ec1eb01562b047ae6a56c0b943, gender: 1, age: 7\n"
     ]
    }
   ],
   "source": [
    "class DeviceGenderAge():\n",
    "    def __init__(self, device, gender, age):\n",
    "        self.device = device\n",
    "        self.gender = int(gender)\n",
    "        self.age = int(age)\n",
    "    def __str__(self):\n",
    "        return \"device: {0}, gender: {1}, age: {2}\".format(self.device, self.gender, self.age)\n",
    "device_gender_age_train_list = []\n",
    "with open(\"Demo/deviceid_train.tsv\", \"r\", encoding=\"utf-8\") as f:\n",
    "    for line in f.readlines():\n",
    "        line = line.strip()\n",
    "        items = line.split(\"\\t\")\n",
    "        device = DeviceGenderAge(items[0], items[1], items[2])\n",
    "        device_gender_age_train_list.append(device)\n",
    "\n",
    "print(\"一个数据样例:\")\n",
    "print(device_gender_age_train_list[50])"
   ]
  },
  {
   "cell_type": "code",
   "execution_count": 3,
   "metadata": {},
   "outputs": [
    {
     "name": "stdout",
     "output_type": "stream",
     "text": [
      "训练集大小50000\n"
     ]
    },
    {
     "data": {
      "image/png": "[encoded data removed]",
      "text/plain": [
       "<matplotlib.figure.Figure at 0x24b780fbcc0>"
      ]
     },
     "metadata": {},
     "output_type": "display_data"
    },
    {
     "data": {
      "image/png": "[encoded data removed]",
      "text/plain": [
       "<matplotlib.figure.Figure at 0x24b78150b70>"
      ]
     },
     "metadata": {},
     "output_type": "display_data"
    }
   ],
   "source": [
    "print(\"训练集大小{}\".format(len(device_gender_age_train_list)))\n",
    "\n",
    "gender_map = {}\n",
    "age_map = {}\n",
    "for item in device_gender_age_train_list:\n",
    "    gender_map[item.gender] = gender_map.get(item.gender, 0) + 1\n",
    "    age_map[item.age] = age_map.get(item.age, 0) + 1\n",
    "gender_list = sorted(gender_map.items(), key=lambda x: x[1], reverse=True)\n",
    "age_list = sorted(age_map.items(), key=lambda x: x[1], reverse=True)\n",
    "plt.bar(range(len(gender_list)), [x[1] for x in gender_list], tick_label = [x[0] for x in gender_list])\n",
    "plt.title(\"gender distribution\")\n",
    "plt.show()\n",
    "plt.bar(range(len(age_list)), [x[1] for x in age_list], tick_label = [x[0] for x in age_list])\n",
    "plt.title(\"age distribution\")\n",
    "plt.show()"
   ]
  },
  {
   "cell_type": "code",
   "execution_count": 4,
   "metadata": {},
   "outputs": [],
   "source": [
    "devices_in_traindata_set = set([x.device for x in device_gender_age_train_list])"
   ]
  },
  {
   "cell_type": "code",
   "execution_count": null,
   "metadata": {},
   "outputs": [],
   "source": []
  },
  {
   "cell_type": "markdown",
   "metadata": {},
   "source": [
    "### 设备数据 每个设备上的应用安装列表，设备应用名都进行了hash处理【deviceid_packages.tsv】"
   ]
  },
  {
   "cell_type": "code",
   "execution_count": 5,
   "metadata": {},
   "outputs": [],
   "source": [
    "device_packages_map = {}\n",
    "with open(\"Demo/deviceid_packages.tsv\", \"r\", encoding=\"utf-8\") as f:\n",
    "    for line in f.readlines():\n",
    "        line = line.strip()\n",
    "        items = line.split(\"\\t\")\n",
    "        device_packages_map[items[0]] = items[1].split(\",\")\n"
   ]
  },
  {
   "cell_type": "markdown",
   "metadata": {},
   "source": [
    "#### 看看统计数据"
   ]
  },
  {
   "cell_type": "code",
   "execution_count": 6,
   "metadata": {},
   "outputs": [
    {
     "name": "stdout",
     "output_type": "stream",
     "text": [
      "平均每个手机安装10.528400731502742款app\n"
     ]
    }
   ],
   "source": [
    "mean_app_per_device = np.mean([len(value) for key, value in device_packages_map.items()])\n",
    "print(\"平均每个手机安装{}款app\".format(mean_app_per_device))"
   ]
  },
  {
   "cell_type": "code",
   "execution_count": 7,
   "metadata": {},
   "outputs": [
    {
     "name": "stdout",
     "output_type": "stream",
     "text": [
      "一共35000款不同的app\n"
     ]
    }
   ],
   "source": [
    "app_set = set()\n",
    "for value in device_packages_map.values():\n",
    "    for item in value:\n",
    "        app_set.add(item)\n",
    "print(\"一共{}款不同的app\".format(len(app_set)))"
   ]
  },
  {
   "cell_type": "code",
   "execution_count": 8,
   "metadata": {
    "scrolled": true
   },
   "outputs": [
    {
     "data": {
      "image/png": "[encoded data removed]",
      "text/plain": [
       "<matplotlib.figure.Figure at 0x24b78110cf8>"
      ]
     },
     "metadata": {},
     "output_type": "display_data"
    }
   ],
   "source": [
    "app_count_map = {}\n",
    "for value in device_packages_map.values():\n",
    "    for item in value:\n",
    "        app_count_map[item] = app_count_map.get(item, 0) + 1\n",
    "top_app = sorted(app_count_map.items(), key=lambda x: x[1], reverse=True)[:100]\n",
    "plt.bar(range(len(top_app)), [x[1] for x in top_app])\n",
    "plt.title(\"top 100 app distribution\")\n",
    "plt.show()"
   ]
  },
  {
   "cell_type": "code",
   "execution_count": 9,
   "metadata": {},
   "outputs": [],
   "source": [
    "top_app_set = set([x[0] for x in top_app])"
   ]
  },
  {
   "cell_type": "code",
   "execution_count": null,
   "metadata": {},
   "outputs": [],
   "source": []
  },
  {
   "cell_type": "code",
   "execution_count": null,
   "metadata": {},
   "outputs": [],
   "source": []
  },
  {
   "cell_type": "markdown",
   "metadata": {},
   "source": [
    "### 应用数据 每个设备上各个应用的打开、关闭行为数据【deviceid_package_start_close.tsv】"
   ]
  },
  {
   "cell_type": "code",
   "execution_count": 10,
   "metadata": {},
   "outputs": [],
   "source": [
    "# 每台手机，各应用使用频次、时间统计\n",
    "device_app_open_close_map = {}\n",
    "class Container():\n",
    "    def __init__(self):\n",
    "        self.freq = 0\n",
    "        self.time = 0\n",
    "    def __str__(self):\n",
    "        return \"freq: {0}, time: {1}\".format(self.freq, self.time)\n",
    "with open(\"Demo/deviceid_package_start_close.tsv\", \"r\", encoding=\"utf-8\") as f:\n",
    "    for line in f.readlines():\n",
    "        items = line.strip().split(\"\\t\")\n",
    "        if items[1] not in top_app_set:\n",
    "            continue\n",
    "        time_delta = (int(items[3]) - int(items[2])) // 1000\n",
    "        \n",
    "        device_app_open_close_map[items[0]] = device_app_open_close_map.get(items[0], {})\n",
    "        device_app_open_close_map[items[0]][items[1]] = device_app_open_close_map[items[0]].get(items[1], Container())\n",
    "        device_app_open_close_map[items[0]][items[1]].freq += 1\n",
    "        device_app_open_close_map[items[0]][items[1]].time += time_delta\n"
   ]
  },
  {
   "cell_type": "code",
   "execution_count": 11,
   "metadata": {},
   "outputs": [
    {
     "name": "stdout",
     "output_type": "stream",
     "text": [
      "随机抽取一个人，一个app，它的使用次数: 1，使用时间: 35\n"
     ]
    }
   ],
   "source": [
    "device_app_open_close_map[\"f39d80ff140836ed76b226ae3b23ada4\"][\"07e967d75aab2f6a52c558695a572a7c\"].freq\n",
    "device_app_open_close_map[\"f39d80ff140836ed76b226ae3b23ada4\"][\"07e967d75aab2f6a52c558695a572a7c\"].time\n",
    "print(\"随机抽取一个人，一个app，它的使用次数: {}，使用时间: {}\"\n",
    "      .format(\n",
    "          device_app_open_close_map[\"f39d80ff140836ed76b226ae3b23ada4\"][\"07e967d75aab2f6a52c558695a572a7c\"].freq,\n",
    "          device_app_open_close_map[\"f39d80ff140836ed76b226ae3b23ada4\"][\"07e967d75aab2f6a52c558695a572a7c\"].time))"
   ]
  },
  {
   "cell_type": "code",
   "execution_count": null,
   "metadata": {},
   "outputs": [],
   "source": []
  },
  {
   "cell_type": "markdown",
   "metadata": {},
   "source": [
    "### 机型数据 每个设备的品牌和型号【deviceid_brand.tsv】"
   ]
  },
  {
   "cell_type": "code",
   "execution_count": 12,
   "metadata": {},
   "outputs": [
    {
     "name": "stdout",
     "output_type": "stream",
     "text": [
      "某个人: f39d80ff140836ed76b226ae3b23ada4的手机是: samsung，型号是: GT-N7105\n"
     ]
    }
   ],
   "source": [
    "device_factory_model_map = {}\n",
    "with open(\"Demo/deviceid_brand.tsv\", \"r\", encoding=\"utf-8\") as f:\n",
    "    for line in f.readlines():\n",
    "        line = line.strip()\n",
    "        items = line.split()\n",
    "        device_factory_model_map[items[0]] = (items[1], items[2])\n",
    "        \n",
    "print(\"某个人: {}的手机是: {}，型号是: {}\".format(\n",
    "    \"f39d80ff140836ed76b226ae3b23ada4\",\n",
    "    device_factory_model_map[\"f39d80ff140836ed76b226ae3b23ada4\"][0],\n",
    "    device_factory_model_map[\"f39d80ff140836ed76b226ae3b23ada4\"][1]\n",
    "))\n",
    "# 手机厂商_id映射\n",
    "factory_id_map = {}\n",
    "# 手机型号_id映射\n",
    "model_id_map = {}\n",
    "for key, value in enumerate(set([x[0] for x in device_factory_model_map.values()])):\n",
    "    factory_id_map[value] = key\n",
    "    \n",
    "for key, value in enumerate(set([x[1] for x in device_factory_model_map.values()])):\n",
    "    model_id_map[value] = key\n"
   ]
  },
  {
   "cell_type": "code",
   "execution_count": null,
   "metadata": {},
   "outputs": [],
   "source": []
  },
  {
   "cell_type": "markdown",
   "metadata": {},
   "source": [
    "### APP数据 每个应用的类别信息【package_label.tsv】"
   ]
  },
  {
   "cell_type": "code",
   "execution_count": 13,
   "metadata": {},
   "outputs": [
    {
     "name": "stdout",
     "output_type": "stream",
     "text": [
      "某app: 6b812b3636e43508a3db2a3537c9a654是: 体育类目中的: 体育资讯\n"
     ]
    }
   ],
   "source": [
    "app_info_map = {}\n",
    "with open(\"Demo/package_label.tsv\", \"r\", encoding=\"utf-8\") as f:\n",
    "    for line in f.readlines():\n",
    "        line = line.strip()\n",
    "        items = line.split()\n",
    "        app_info_map[items[0]] = (items[1], items[2])\n",
    "print(\"某app: {}是: {}类目中的: {}\".format(\n",
    "    \"6b812b3636e43508a3db2a3537c9a654\",\n",
    "    app_info_map[\"6b812b3636e43508a3db2a3537c9a654\"][0],\n",
    "    app_info_map[\"6b812b3636e43508a3db2a3537c9a654\"][1]\n",
    "))"
   ]
  },
  {
   "cell_type": "code",
   "execution_count": null,
   "metadata": {},
   "outputs": [],
   "source": []
  },
  {
   "cell_type": "markdown",
   "metadata": {},
   "source": [
    "## 准备训练数据\n",
    "由于数据挺多，所以把训练数据输出至文件"
   ]
  },
  {
   "cell_type": "code",
   "execution_count": 14,
   "metadata": {},
   "outputs": [],
   "source": [
    "def getAppInstallInfo(device):\n",
    "    \"\"\"\n",
    "    返回top100款app的使用情况。\n",
    "    如果没有安装，则返回[0, 0]\n",
    "    如有安装，则返回[使用次数，平均时长]\n",
    "    \"\"\"\n",
    "    appInstallInfo = device_app_open_close_map.get(device)\n",
    "    if not appInstallInfo:\n",
    "        return [0] * 200\n",
    "    buffer = [0 for i in range(200)]\n",
    "    index = 0\n",
    "    for app in top_app_set:\n",
    "        container = appInstallInfo.get(app)\n",
    "        if container:\n",
    "            buffer[index] = container.freq\n",
    "            index += 1\n",
    "            buffer[index] = container.time // container.freq\n",
    "            index += 1\n",
    "        else:\n",
    "            index += 2\n",
    "    return buffer\n",
    "\n",
    "def getFactoryInfo(device):\n",
    "    \"\"\"\n",
    "    返回手机厂商id和手机型号id\n",
    "    如果没搜索到，则返回[-1, -1]\n",
    "    \"\"\"\n",
    "    factoryInfo = device_factory_model_map.get(device)\n",
    "    if not factoryInfo:\n",
    "        return [-1, -1]\n",
    "    return [factory_id_map.get(factoryInfo[0]), model_id_map.get(factoryInfo[1])]\n",
    "\n",
    "\n",
    "with open(\"train.data\", \"w\", encoding=\"utf-8\") as f:\n",
    "    f.write(\"gender,age,\" + \",\".join([str(i) for i in range(202)])+ \"\\n\")\n",
    "    for person in device_gender_age_train_list:\n",
    "        line = [person.gender, person.age]\n",
    "        \n",
    "        appInstallInfoList = getAppInstallInfo(person.device)\n",
    "        line.extend(appInstallInfoList)\n",
    "        \n",
    "        factoryInfoList = getFactoryInfo(person.device)\n",
    "        line.extend(factoryInfoList)\n",
    "        \n",
    "        f.write(\",\".join([str(x) for x in line]) + \"\\n\")\n",
    "        \n"
   ]
  },
  {
   "cell_type": "markdown",
   "metadata": {},
   "source": [
    "## 准备预测数据"
   ]
  },
  {
   "cell_type": "code",
   "execution_count": 15,
   "metadata": {},
   "outputs": [],
   "source": [
    "with open(\"Demo/deviceid_test.tsv\", \"r\", encoding=\"utf-8\") as fi:\n",
    "    users = [x.strip() for x in fi.readlines()]\n",
    "with open(\"test.data\", \"w\", encoding=\"utf-8\") as f:\n",
    "    f.write(\",\".join([str(i) for i in range(202)]) + \"\\n\")\n",
    "    for device in users:\n",
    "        line = []\n",
    "        \n",
    "        appInstallInfoList = getAppInstallInfo(device)\n",
    "        line.extend(appInstallInfoList)\n",
    "        \n",
    "        factoryInfoList = getFactoryInfo(device)\n",
    "        line.extend(factoryInfoList)\n",
    "        f.write(\",\".join([str(x) for x in line]) + \"\\n\")"
   ]
  },
  {
   "cell_type": "code",
   "execution_count": null,
   "metadata": {},
   "outputs": [],
   "source": []
  },
  {
   "cell_type": "markdown",
   "metadata": {},
   "source": [
    "## 训练模型\n",
    "(后面用其他分类器替代SVC了，它又慢又不好)"
   ]
  },
  {
   "cell_type": "code",
   "execution_count": 16,
   "metadata": {},
   "outputs": [],
   "source": [
    "#train_df = pd.read_csv(\"train.data\")"
   ]
  },
  {
   "cell_type": "code",
   "execution_count": 17,
   "metadata": {},
   "outputs": [],
   "source": [
    "# y_gender = train_df[\"gender\"]\n",
    "# y_age = train_df[\"age\"]\n",
    "# train_df.drop([\"gender\", \"age\"], axis=1,inplace=True)"
   ]
  },
  {
   "cell_type": "code",
   "execution_count": 18,
   "metadata": {},
   "outputs": [],
   "source": [
    "# svc_age_model = LinearSVC()\n",
    "# svc_age_model.fit(train_df, y_age)\n",
    "# svc_age_model.score(train_df, y_age)"
   ]
  },
  {
   "cell_type": "code",
   "execution_count": 19,
   "metadata": {},
   "outputs": [],
   "source": [
    "# svc_gender_model = LinearSVC()\n",
    "# svc_gender_model.fit(train_df, y_gender)\n",
    "# svc_gender_model.score(train_df, y_gender)"
   ]
  },
  {
   "cell_type": "markdown",
   "metadata": {},
   "source": [
    "## 预测模型"
   ]
  },
  {
   "cell_type": "code",
   "execution_count": 20,
   "metadata": {},
   "outputs": [],
   "source": [
    "# test_df = pd.read_csv(\"test.data\")"
   ]
  },
  {
   "cell_type": "code",
   "execution_count": 21,
   "metadata": {},
   "outputs": [],
   "source": [
    "# predict_age = svc_age_model.predict(test_df)"
   ]
  },
  {
   "cell_type": "code",
   "execution_count": 22,
   "metadata": {},
   "outputs": [],
   "source": [
    "# predict_gender = svc_gender_model.predict(test_df)"
   ]
  },
  {
   "cell_type": "code",
   "execution_count": 23,
   "metadata": {},
   "outputs": [],
   "source": [
    "# predict_gender"
   ]
  },
  {
   "cell_type": "code",
   "execution_count": null,
   "metadata": {},
   "outputs": [],
   "source": []
  },
  {
   "cell_type": "markdown",
   "metadata": {},
   "source": [
    "## 输出结果"
   ]
  },
  {
   "cell_type": "code",
   "execution_count": 24,
   "metadata": {},
   "outputs": [],
   "source": [
    "# with open(\"Demo/deviceid_test.tsv\", \"r\", encoding=\"utf-8\") as fi:\n",
    "#     users = [x.strip() for x in fi.readlines()]\n",
    "# with open(\"result.csv\", \"w\", encoding=\"utf-8\") as f:\n",
    "#     f.write(\"DeviceID,1-0,1-1,1-2,1-3,1-4,1-5,1-6,1-7,1-8,1-9,1-10,2-0,2-1,2-2,2-3,2-4,2-5,2-6,2-7,2-8,2-9,2-10\\n\")\n",
    "#     for i in range(len(users)):\n",
    "#         predict = [0.0 for i in range(22)]\n",
    "#         gender = predict_gender[i]\n",
    "#         age = predict_age[i]\n",
    "#         predict[(gender-1) * 11 + age] = 1.0\n",
    "#         f.write(users[i]+\",\" + \",\".join([str(x) for x in predict]) + \"\\n\")\n",
    "        "
   ]
  },
  {
   "cell_type": "code",
   "execution_count": null,
   "metadata": {},
   "outputs": [],
   "source": []
  },
  {
   "cell_type": "markdown",
   "metadata": {},
   "source": [
    "## 进阶\n",
    "看到用线性svm，基于原始特征跑出来的结果很糟糕\n",
    "\n",
    "### 尝试1.标准化与分段 \n",
    "\n",
    "可能是因为像[app使用次数][平均使用时间]这种特征，取值范围太大所导致。所以，这里分别试试标准化，和分段化，看看哪种效果更好。"
   ]
  },
  {
   "cell_type": "code",
   "execution_count": 25,
   "metadata": {},
   "outputs": [],
   "source": [
    "# train_df = pd.read_csv(\"train.data\")\n",
    "# columns = [\"{}\".format(x) for x in range(0, 200)]\n",
    "# train_df[columns].describe()"
   ]
  },
  {
   "cell_type": "markdown",
   "metadata": {},
   "source": [
    "看一下上表，筛选出了奇数命名的列。它们是top100常用app中每个用户的平均使用时间。\n",
    "\n",
    "均值较大，方差也大，先试试标准化"
   ]
  },
  {
   "cell_type": "code",
   "execution_count": 26,
   "metadata": {},
   "outputs": [],
   "source": [
    "# train_df[columns] = (train_df[columns] - train_df[columns].mean()) / train_df[columns].std()"
   ]
  },
  {
   "cell_type": "code",
   "execution_count": 27,
   "metadata": {},
   "outputs": [],
   "source": [
    "# train_df[columns].describe()"
   ]
  },
  {
   "cell_type": "code",
   "execution_count": 28,
   "metadata": {},
   "outputs": [],
   "source": [
    "# y_gender = train_df[\"gender\"]\n",
    "# y_age = train_df[\"age\"]\n",
    "# train_df.drop([\"gender\", \"age\"], axis=1,inplace=True)\n",
    "\n",
    "# svc_age_model = LinearSVC()\n",
    "# svc_age_model.fit(train_df, y_age)\n",
    "# svc_age_model.score(train_df, y_age)"
   ]
  },
  {
   "cell_type": "markdown",
   "metadata": {},
   "source": [
    "提升不是很明显，下面再试试分段"
   ]
  },
  {
   "cell_type": "code",
   "execution_count": 29,
   "metadata": {},
   "outputs": [],
   "source": [
    "# train_df = pd.read_csv(\"train.data\")\n",
    "# columns = [\"{}\".format(x) for x in range(0, 200)]\n",
    "# train_df[columns] = train_df[columns].apply(lambda x: pd.cut(x, 10, labels=False))"
   ]
  },
  {
   "cell_type": "code",
   "execution_count": 30,
   "metadata": {
    "scrolled": false
   },
   "outputs": [],
   "source": [
    "# y_gender = train_df[\"gender\"]\n",
    "# y_age = train_df[\"age\"]\n",
    "# train_df.drop([\"gender\", \"age\"], axis=1,inplace=True)\n",
    "\n",
    "# svc_age_model = LinearSVC()\n",
    "# svc_age_model.fit(train_df, y_age)\n",
    "# svc_age_model.score(train_df, y_age)"
   ]
  },
  {
   "cell_type": "markdown",
   "metadata": {},
   "source": [
    "效果更不好。看了下数据分布，的确不适用于分段"
   ]
  },
  {
   "cell_type": "markdown",
   "metadata": {},
   "source": [
    "### 尝试2.特征变换取对数\n"
   ]
  },
  {
   "cell_type": "code",
   "execution_count": 31,
   "metadata": {},
   "outputs": [],
   "source": [
    "# train_df = pd.read_csv(\"train.data\")\n",
    "# columns = [\"{}\".format(x) for x in range(0, 200)]\n",
    "# train_df[columns].describe()"
   ]
  },
  {
   "cell_type": "code",
   "execution_count": 32,
   "metadata": {},
   "outputs": [],
   "source": [
    "# columns = [\"{}\".format(x) for x in range(0, 200)]\n",
    "# train_df[columns] = train_df[columns].apply(lambda x: np.log(x + 1))\n",
    "# train_df[columns].describe()"
   ]
  },
  {
   "cell_type": "code",
   "execution_count": 33,
   "metadata": {},
   "outputs": [],
   "source": [
    "# y_gender = train_df[\"gender\"]\n",
    "# y_age = train_df[\"age\"]\n",
    "# train_df.drop([\"gender\", \"age\"], axis=1,inplace=True)\n",
    "\n",
    "# svc_age_model = LinearSVC()\n",
    "# svc_age_model.fit(train_df, y_age)\n",
    "# svc_age_model.score(train_df, y_age)"
   ]
  },
  {
   "cell_type": "markdown",
   "metadata": {},
   "source": [
    "### 尝试3.降维"
   ]
  },
  {
   "cell_type": "code",
   "execution_count": 34,
   "metadata": {},
   "outputs": [],
   "source": [
    "# train_df = pd.read_csv(\"train.data\")\n",
    "# columns = [\"{}\".format(x) for x in range(0, 200)]\n",
    "# train_df[columns].describe()"
   ]
  },
  {
   "cell_type": "code",
   "execution_count": 35,
   "metadata": {},
   "outputs": [],
   "source": [
    "# pca = PCA(n_components=\"mle\", svd_solver =\"full\")\n",
    "# pca.fit(train_df[columns])"
   ]
  },
  {
   "cell_type": "code",
   "execution_count": 36,
   "metadata": {},
   "outputs": [],
   "source": [
    "# result = pca.transform(train_df[columns])"
   ]
  },
  {
   "cell_type": "code",
   "execution_count": 37,
   "metadata": {},
   "outputs": [],
   "source": [
    "# columns_pca = [str(x) + \"_pac\" for x in range(result.shape[1])]\n",
    "# train_df = pd.concat([train_df, pd.DataFrame(columns=columns_pca)])\n",
    "# train_df[columns_pca] = result"
   ]
  },
  {
   "cell_type": "code",
   "execution_count": 38,
   "metadata": {
    "scrolled": true
   },
   "outputs": [],
   "source": [
    "# train_df[columns_pca].describe()"
   ]
  },
  {
   "cell_type": "code",
   "execution_count": 39,
   "metadata": {},
   "outputs": [],
   "source": [
    "# y_gender = train_df[\"gender\"]\n",
    "# y_age = train_df[\"age\"]\n",
    "# train_df.drop([\"gender\", \"age\"] + columns, axis=1,inplace=True)\n",
    "\n",
    "# svc_age_model = LinearSVC()\n",
    "# svc_age_model.fit(train_df, y_age)\n",
    "# svc_age_model.score(train_df, y_age)"
   ]
  },
  {
   "cell_type": "markdown",
   "metadata": {},
   "source": [
    "总体看来，只有取对数有些提升，但提升有限。"
   ]
  },
  {
   "cell_type": "markdown",
   "metadata": {},
   "source": [
    "### 引入新的特征\n",
    "从上面的结果看出，是预测年龄拖了后腿。\n",
    "\n",
    "所以试试把app类型加入进来。"
   ]
  },
  {
   "cell_type": "code",
   "execution_count": 40,
   "metadata": {},
   "outputs": [
    {
     "data": {
      "text/plain": [
       "{'1896072db9ce6406febfc17f681c2086': '社交',\n",
       " '1cd8e0a97bf3552196f0f60eb3566ac7': '金融',\n",
       " '200cf557b3703944f1f68af08484d2bd': '系统工具',\n",
       " '2338f5519ae89cb819360870c849ac62': '移动购物',\n",
       " '2c94bf3242575e85879b036c109b39ea': '摄影摄像',\n",
       " '4fa7fb86712941bb3fab15596e081b0a': '金融',\n",
       " '4fc981a85c96ef6f91b8123b179e671c': '金融',\n",
       " '616120feb399049e89585756e0cfc4d1': '系统工具',\n",
       " '79eeda5f4c7fd2a0d483dc3d46fa5b3b': '实用工具',\n",
       " '8574dff94054503ee7f7986378e21118': '移动购物',\n",
       " '8c8544b6c129ad4a431be753143ed1c3': '应用管理',\n",
       " '9bc5b0fe46aa2192f199df1af00639c8': 'TAB(桌面游戏)',\n",
       " 'b2d3e3faa159e396f4408a3c3aab7970': '系统工具',\n",
       " 'dd23bbcd2da4282d178ca4e3646cbb00': '其它',\n",
       " 'de54c4c46133bd8e06c5e2de6a38e846': '移动购物',\n",
       " 'fc4b11cd2f4db02b2fb39f372b3ef905': '输入法',\n",
       " 'fd6cc9bde865fe8cbf771d2f3f000770': '系统工具'}"
      ]
     },
     "execution_count": 40,
     "metadata": {},
     "output_type": "execute_result"
    }
   ],
   "source": [
    "packages_label_map = {}\n",
    "with open(\"Demo/package_label.tsv\", \"r\", encoding=\"utf-8\") as f:\n",
    "    for line in f.readlines():\n",
    "        line = line.strip()\n",
    "        items = line.split(\"\\t\")\n",
    "        packages_label_map[items[0]] = items[1]\n",
    "\n",
    "packages_label_map = {k:v for k, v in packages_label_map.items() if k in top_app_set}\n",
    "packages_label_map"
   ]
  },
  {
   "cell_type": "markdown",
   "metadata": {},
   "source": [
    "我惊奇的发现，app类型表是不全的，我统计的top100热门app，只有17款被收录了类型信息。\n",
    "\n",
    "所以只能换一种方式来引入新特征：加入每个用户，对各类型app的喜好强弱\n",
    "\n",
    "先看下一共有多少个一级分类，多少个二级分类"
   ]
  },
  {
   "cell_type": "code",
   "execution_count": 41,
   "metadata": {},
   "outputs": [
    {
     "data": {
      "text/plain": [
       "'一共有45个一级类别，和288个二级类别'"
      ]
     },
     "execution_count": 41,
     "metadata": {},
     "output_type": "execute_result"
    }
   ],
   "source": [
    "label_lv1_set = set()\n",
    "label_lv2_set = set()\n",
    "with open(\"Demo/package_label.tsv\", \"r\", encoding=\"utf-8\") as f:\n",
    "    for line in f.readlines():\n",
    "        line = line.strip()\n",
    "        items = line.split(\"\\t\")\n",
    "        packages_label_map[items[0]] = items[1]\n",
    "        label_lv1_set.add(items[1])\n",
    "        label_lv2_set.add(items[2])\n",
    "\"一共有{}个一级类别，和{}个二级类别\".format(str(len(label_lv1_set)), str(len(label_lv2_set)))\n"
   ]
  },
  {
   "cell_type": "markdown",
   "metadata": {},
   "source": [
    "用这45个一级类别创建新特征，每个用户对这45个类别的喜好程度，由app打开次数决定\n",
    "\n",
    "device_label_hot_map\n",
    "\n",
    "key: device, value:[label1, label2, ..., label45]"
   ]
  },
  {
   "cell_type": "code",
   "execution_count": 42,
   "metadata": {},
   "outputs": [],
   "source": [
    "label_lv1_list = list(label_lv1_set)\n",
    "device_label_hot_map = {}\n",
    "\n",
    "# 所有的用户id\n",
    "with open(\"Demo/deviceid_test.tsv\", \"r\", encoding=\"utf-8\") as fi:\n",
    "    users = [x.strip() for x in fi.readlines()]\n",
    "device_train_and_test_set = devices_in_traindata_set | set(users)\n",
    "\n",
    "with open(\"Demo/deviceid_package_start_close.tsv\", \"r\", encoding=\"utf-8\") as f:\n",
    "    for line in f.readlines():\n",
    "        items = line.strip().split(\"\\t\")\n",
    "        if items[0] not in device_train_and_test_set:\n",
    "            continue\n",
    "            \n",
    "        device_label_hot_map[items[0]] = device_label_hot_map.get(items[0], [0]*45)\n",
    "        label = packages_label_map.get(items[1], None)\n",
    "        if label:\n",
    "            index = label_lv1_list.index(label)\n",
    "            device_label_hot_map[items[0]][index] += 1\n"
   ]
  },
  {
   "cell_type": "markdown",
   "metadata": {},
   "source": [
    "组合新旧特征，重新创建训练语料"
   ]
  },
  {
   "cell_type": "code",
   "execution_count": 43,
   "metadata": {},
   "outputs": [
    {
     "data": {
      "text/html": [
       "<div>\n",
       "<style>\n",
       "    .dataframe thead tr:only-child th {\n",
       "        text-align: right;\n",
       "    }\n",
       "\n",
       "    .dataframe thead th {\n",
       "        text-align: left;\n",
       "    }\n",
       "\n",
       "    .dataframe tbody tr th {\n",
       "        vertical-align: top;\n",
       "    }\n",
       "</style>\n",
       "<table border=\"1\" class=\"dataframe\">\n",
       "  <thead>\n",
       "    <tr style=\"text-align: right;\">\n",
       "      <th></th>\n",
       "      <th>gender</th>\n",
       "      <th>age</th>\n",
       "      <th>0</th>\n",
       "      <th>1</th>\n",
       "      <th>2</th>\n",
       "      <th>3</th>\n",
       "      <th>4</th>\n",
       "      <th>5</th>\n",
       "      <th>6</th>\n",
       "      <th>7</th>\n",
       "      <th>...</th>\n",
       "      <th>192</th>\n",
       "      <th>193</th>\n",
       "      <th>194</th>\n",
       "      <th>195</th>\n",
       "      <th>196</th>\n",
       "      <th>197</th>\n",
       "      <th>198</th>\n",
       "      <th>199</th>\n",
       "      <th>200</th>\n",
       "      <th>201</th>\n",
       "    </tr>\n",
       "  </thead>\n",
       "  <tbody>\n",
       "    <tr>\n",
       "      <th>0</th>\n",
       "      <td>1</td>\n",
       "      <td>3</td>\n",
       "      <td>0</td>\n",
       "      <td>0</td>\n",
       "      <td>0</td>\n",
       "      <td>0</td>\n",
       "      <td>0</td>\n",
       "      <td>0</td>\n",
       "      <td>0</td>\n",
       "      <td>0</td>\n",
       "      <td>...</td>\n",
       "      <td>0</td>\n",
       "      <td>0</td>\n",
       "      <td>0</td>\n",
       "      <td>0</td>\n",
       "      <td>0</td>\n",
       "      <td>0</td>\n",
       "      <td>0</td>\n",
       "      <td>0</td>\n",
       "      <td>696</td>\n",
       "      <td>948</td>\n",
       "    </tr>\n",
       "    <tr>\n",
       "      <th>1</th>\n",
       "      <td>1</td>\n",
       "      <td>5</td>\n",
       "      <td>0</td>\n",
       "      <td>0</td>\n",
       "      <td>0</td>\n",
       "      <td>0</td>\n",
       "      <td>0</td>\n",
       "      <td>0</td>\n",
       "      <td>0</td>\n",
       "      <td>0</td>\n",
       "      <td>...</td>\n",
       "      <td>0</td>\n",
       "      <td>0</td>\n",
       "      <td>0</td>\n",
       "      <td>0</td>\n",
       "      <td>0</td>\n",
       "      <td>0</td>\n",
       "      <td>0</td>\n",
       "      <td>0</td>\n",
       "      <td>673</td>\n",
       "      <td>1104</td>\n",
       "    </tr>\n",
       "    <tr>\n",
       "      <th>2</th>\n",
       "      <td>2</td>\n",
       "      <td>5</td>\n",
       "      <td>0</td>\n",
       "      <td>0</td>\n",
       "      <td>0</td>\n",
       "      <td>0</td>\n",
       "      <td>0</td>\n",
       "      <td>0</td>\n",
       "      <td>0</td>\n",
       "      <td>0</td>\n",
       "      <td>...</td>\n",
       "      <td>0</td>\n",
       "      <td>0</td>\n",
       "      <td>0</td>\n",
       "      <td>0</td>\n",
       "      <td>0</td>\n",
       "      <td>0</td>\n",
       "      <td>0</td>\n",
       "      <td>0</td>\n",
       "      <td>236</td>\n",
       "      <td>1671</td>\n",
       "    </tr>\n",
       "    <tr>\n",
       "      <th>3</th>\n",
       "      <td>1</td>\n",
       "      <td>4</td>\n",
       "      <td>0</td>\n",
       "      <td>0</td>\n",
       "      <td>0</td>\n",
       "      <td>0</td>\n",
       "      <td>0</td>\n",
       "      <td>0</td>\n",
       "      <td>0</td>\n",
       "      <td>0</td>\n",
       "      <td>...</td>\n",
       "      <td>0</td>\n",
       "      <td>0</td>\n",
       "      <td>9</td>\n",
       "      <td>158</td>\n",
       "      <td>0</td>\n",
       "      <td>0</td>\n",
       "      <td>0</td>\n",
       "      <td>0</td>\n",
       "      <td>673</td>\n",
       "      <td>1347</td>\n",
       "    </tr>\n",
       "    <tr>\n",
       "      <th>4</th>\n",
       "      <td>1</td>\n",
       "      <td>3</td>\n",
       "      <td>0</td>\n",
       "      <td>0</td>\n",
       "      <td>0</td>\n",
       "      <td>0</td>\n",
       "      <td>2</td>\n",
       "      <td>16</td>\n",
       "      <td>0</td>\n",
       "      <td>0</td>\n",
       "      <td>...</td>\n",
       "      <td>0</td>\n",
       "      <td>0</td>\n",
       "      <td>0</td>\n",
       "      <td>0</td>\n",
       "      <td>0</td>\n",
       "      <td>0</td>\n",
       "      <td>0</td>\n",
       "      <td>0</td>\n",
       "      <td>673</td>\n",
       "      <td>648</td>\n",
       "    </tr>\n",
       "  </tbody>\n",
       "</table>\n",
       "<p>5 rows × 204 columns</p>\n",
       "</div>"
      ],
      "text/plain": [
       "   gender  age  0  1  2  3  4   5  6  7  ...   192  193  194  195  196  197  \\\n",
       "0       1    3  0  0  0  0  0   0  0  0  ...     0    0    0    0    0    0   \n",
       "1       1    5  0  0  0  0  0   0  0  0  ...     0    0    0    0    0    0   \n",
       "2       2    5  0  0  0  0  0   0  0  0  ...     0    0    0    0    0    0   \n",
       "3       1    4  0  0  0  0  0   0  0  0  ...     0    0    9  158    0    0   \n",
       "4       1    3  0  0  0  0  2  16  0  0  ...     0    0    0    0    0    0   \n",
       "\n",
       "   198  199  200   201  \n",
       "0    0    0  696   948  \n",
       "1    0    0  673  1104  \n",
       "2    0    0  236  1671  \n",
       "3    0    0  673  1347  \n",
       "4    0    0  673   648  \n",
       "\n",
       "[5 rows x 204 columns]"
      ]
     },
     "execution_count": 43,
     "metadata": {},
     "output_type": "execute_result"
    }
   ],
   "source": [
    "train_df = pd.read_csv(\"train.data\")\n",
    "train_df.head(5)"
   ]
  },
  {
   "cell_type": "code",
   "execution_count": 44,
   "metadata": {},
   "outputs": [],
   "source": [
    "with open(\"train_1.data\", \"w\", encoding=\"utf-8\") as f:\n",
    "    f.write(\"gender,age,\" + \",\".join([str(i) for i in range(202+45)])+ \"\\n\")\n",
    "    for index in range(len(device_gender_age_train_list)):\n",
    "        x = device_gender_age_train_list[index]\n",
    "        new_features = device_label_hot_map[x.device]\n",
    "        merged = train_df.loc[index].tolist() + new_features\n",
    "        f.write(\",\".join([str(x) for x in merged]) + \"\\n\")"
   ]
  },
  {
   "cell_type": "code",
   "execution_count": 45,
   "metadata": {
    "scrolled": true
   },
   "outputs": [
    {
     "data": {
      "text/html": [
       "<div>\n",
       "<style>\n",
       "    .dataframe thead tr:only-child th {\n",
       "        text-align: right;\n",
       "    }\n",
       "\n",
       "    .dataframe thead th {\n",
       "        text-align: left;\n",
       "    }\n",
       "\n",
       "    .dataframe tbody tr th {\n",
       "        vertical-align: top;\n",
       "    }\n",
       "</style>\n",
       "<table border=\"1\" class=\"dataframe\">\n",
       "  <thead>\n",
       "    <tr style=\"text-align: right;\">\n",
       "      <th></th>\n",
       "      <th>gender</th>\n",
       "      <th>age</th>\n",
       "      <th>0</th>\n",
       "      <th>1</th>\n",
       "      <th>2</th>\n",
       "      <th>3</th>\n",
       "      <th>4</th>\n",
       "      <th>5</th>\n",
       "      <th>6</th>\n",
       "      <th>7</th>\n",
       "      <th>...</th>\n",
       "      <th>237</th>\n",
       "      <th>238</th>\n",
       "      <th>239</th>\n",
       "      <th>240</th>\n",
       "      <th>241</th>\n",
       "      <th>242</th>\n",
       "      <th>243</th>\n",
       "      <th>244</th>\n",
       "      <th>245</th>\n",
       "      <th>246</th>\n",
       "    </tr>\n",
       "  </thead>\n",
       "  <tbody>\n",
       "    <tr>\n",
       "      <th>0</th>\n",
       "      <td>1</td>\n",
       "      <td>3</td>\n",
       "      <td>0</td>\n",
       "      <td>0</td>\n",
       "      <td>0</td>\n",
       "      <td>0</td>\n",
       "      <td>0</td>\n",
       "      <td>0</td>\n",
       "      <td>0</td>\n",
       "      <td>0</td>\n",
       "      <td>...</td>\n",
       "      <td>0</td>\n",
       "      <td>0</td>\n",
       "      <td>0</td>\n",
       "      <td>0</td>\n",
       "      <td>0</td>\n",
       "      <td>0</td>\n",
       "      <td>0</td>\n",
       "      <td>0</td>\n",
       "      <td>0</td>\n",
       "      <td>0</td>\n",
       "    </tr>\n",
       "    <tr>\n",
       "      <th>1</th>\n",
       "      <td>1</td>\n",
       "      <td>5</td>\n",
       "      <td>0</td>\n",
       "      <td>0</td>\n",
       "      <td>0</td>\n",
       "      <td>0</td>\n",
       "      <td>0</td>\n",
       "      <td>0</td>\n",
       "      <td>0</td>\n",
       "      <td>0</td>\n",
       "      <td>...</td>\n",
       "      <td>0</td>\n",
       "      <td>0</td>\n",
       "      <td>1</td>\n",
       "      <td>0</td>\n",
       "      <td>0</td>\n",
       "      <td>0</td>\n",
       "      <td>0</td>\n",
       "      <td>0</td>\n",
       "      <td>0</td>\n",
       "      <td>0</td>\n",
       "    </tr>\n",
       "    <tr>\n",
       "      <th>2</th>\n",
       "      <td>2</td>\n",
       "      <td>5</td>\n",
       "      <td>0</td>\n",
       "      <td>0</td>\n",
       "      <td>0</td>\n",
       "      <td>0</td>\n",
       "      <td>0</td>\n",
       "      <td>0</td>\n",
       "      <td>0</td>\n",
       "      <td>0</td>\n",
       "      <td>...</td>\n",
       "      <td>0</td>\n",
       "      <td>0</td>\n",
       "      <td>0</td>\n",
       "      <td>0</td>\n",
       "      <td>0</td>\n",
       "      <td>0</td>\n",
       "      <td>0</td>\n",
       "      <td>0</td>\n",
       "      <td>0</td>\n",
       "      <td>0</td>\n",
       "    </tr>\n",
       "    <tr>\n",
       "      <th>3</th>\n",
       "      <td>1</td>\n",
       "      <td>4</td>\n",
       "      <td>0</td>\n",
       "      <td>0</td>\n",
       "      <td>0</td>\n",
       "      <td>0</td>\n",
       "      <td>0</td>\n",
       "      <td>0</td>\n",
       "      <td>0</td>\n",
       "      <td>0</td>\n",
       "      <td>...</td>\n",
       "      <td>0</td>\n",
       "      <td>0</td>\n",
       "      <td>0</td>\n",
       "      <td>0</td>\n",
       "      <td>0</td>\n",
       "      <td>0</td>\n",
       "      <td>0</td>\n",
       "      <td>0</td>\n",
       "      <td>0</td>\n",
       "      <td>0</td>\n",
       "    </tr>\n",
       "    <tr>\n",
       "      <th>4</th>\n",
       "      <td>1</td>\n",
       "      <td>3</td>\n",
       "      <td>0</td>\n",
       "      <td>0</td>\n",
       "      <td>0</td>\n",
       "      <td>0</td>\n",
       "      <td>2</td>\n",
       "      <td>16</td>\n",
       "      <td>0</td>\n",
       "      <td>0</td>\n",
       "      <td>...</td>\n",
       "      <td>0</td>\n",
       "      <td>0</td>\n",
       "      <td>0</td>\n",
       "      <td>0</td>\n",
       "      <td>0</td>\n",
       "      <td>0</td>\n",
       "      <td>0</td>\n",
       "      <td>0</td>\n",
       "      <td>0</td>\n",
       "      <td>0</td>\n",
       "    </tr>\n",
       "  </tbody>\n",
       "</table>\n",
       "<p>5 rows × 249 columns</p>\n",
       "</div>"
      ],
      "text/plain": [
       "   gender  age  0  1  2  3  4   5  6  7 ...   237  238  239  240  241  242  \\\n",
       "0       1    3  0  0  0  0  0   0  0  0 ...     0    0    0    0    0    0   \n",
       "1       1    5  0  0  0  0  0   0  0  0 ...     0    0    1    0    0    0   \n",
       "2       2    5  0  0  0  0  0   0  0  0 ...     0    0    0    0    0    0   \n",
       "3       1    4  0  0  0  0  0   0  0  0 ...     0    0    0    0    0    0   \n",
       "4       1    3  0  0  0  0  2  16  0  0 ...     0    0    0    0    0    0   \n",
       "\n",
       "   243  244  245  246  \n",
       "0    0    0    0    0  \n",
       "1    0    0    0    0  \n",
       "2    0    0    0    0  \n",
       "3    0    0    0    0  \n",
       "4    0    0    0    0  \n",
       "\n",
       "[5 rows x 249 columns]"
      ]
     },
     "execution_count": 45,
     "metadata": {},
     "output_type": "execute_result"
    }
   ],
   "source": [
    "train_df = pd.read_csv(\"train_1.data\")\n",
    "train_df.head(5)"
   ]
  },
  {
   "cell_type": "markdown",
   "metadata": {},
   "source": [
    "创建包含新特征的预测语料"
   ]
  },
  {
   "cell_type": "code",
   "execution_count": 46,
   "metadata": {},
   "outputs": [],
   "source": [
    "test_df = pd.read_csv(\"test.data\")\n",
    "\n",
    "with open(\"Demo/deviceid_test.tsv\", \"r\", encoding=\"utf-8\") as fi:\n",
    "    users = [x.strip() for x in fi.readlines()]\n",
    "with open(\"test_1.data\", \"w\", encoding=\"utf-8\") as f:\n",
    "    f.write(\",\".join([str(i) for i in range(202+45)])+ \"\\n\")\n",
    "    for index in range(len(users)):\n",
    "        new_features = device_label_hot_map[users[index]]\n",
    "        merged = test_df.loc[index].tolist() + new_features\n",
    "        f.write(\",\".join([str(x) for x in merged]) + \"\\n\")"
   ]
  },
  {
   "cell_type": "code",
   "execution_count": 47,
   "metadata": {},
   "outputs": [
    {
     "data": {
      "text/html": [
       "<div>\n",
       "<style>\n",
       "    .dataframe thead tr:only-child th {\n",
       "        text-align: right;\n",
       "    }\n",
       "\n",
       "    .dataframe thead th {\n",
       "        text-align: left;\n",
       "    }\n",
       "\n",
       "    .dataframe tbody tr th {\n",
       "        vertical-align: top;\n",
       "    }\n",
       "</style>\n",
       "<table border=\"1\" class=\"dataframe\">\n",
       "  <thead>\n",
       "    <tr style=\"text-align: right;\">\n",
       "      <th></th>\n",
       "      <th>0</th>\n",
       "      <th>1</th>\n",
       "      <th>2</th>\n",
       "      <th>3</th>\n",
       "      <th>4</th>\n",
       "      <th>5</th>\n",
       "      <th>6</th>\n",
       "      <th>7</th>\n",
       "      <th>8</th>\n",
       "      <th>9</th>\n",
       "      <th>...</th>\n",
       "      <th>237</th>\n",
       "      <th>238</th>\n",
       "      <th>239</th>\n",
       "      <th>240</th>\n",
       "      <th>241</th>\n",
       "      <th>242</th>\n",
       "      <th>243</th>\n",
       "      <th>244</th>\n",
       "      <th>245</th>\n",
       "      <th>246</th>\n",
       "    </tr>\n",
       "  </thead>\n",
       "  <tbody>\n",
       "    <tr>\n",
       "      <th>0</th>\n",
       "      <td>0</td>\n",
       "      <td>0</td>\n",
       "      <td>0</td>\n",
       "      <td>0</td>\n",
       "      <td>0</td>\n",
       "      <td>0</td>\n",
       "      <td>0</td>\n",
       "      <td>0</td>\n",
       "      <td>0</td>\n",
       "      <td>0</td>\n",
       "      <td>...</td>\n",
       "      <td>0</td>\n",
       "      <td>0</td>\n",
       "      <td>0</td>\n",
       "      <td>0</td>\n",
       "      <td>1</td>\n",
       "      <td>0</td>\n",
       "      <td>0</td>\n",
       "      <td>0</td>\n",
       "      <td>0</td>\n",
       "      <td>0</td>\n",
       "    </tr>\n",
       "    <tr>\n",
       "      <th>1</th>\n",
       "      <td>23</td>\n",
       "      <td>102</td>\n",
       "      <td>0</td>\n",
       "      <td>0</td>\n",
       "      <td>0</td>\n",
       "      <td>0</td>\n",
       "      <td>0</td>\n",
       "      <td>0</td>\n",
       "      <td>0</td>\n",
       "      <td>0</td>\n",
       "      <td>...</td>\n",
       "      <td>0</td>\n",
       "      <td>0</td>\n",
       "      <td>0</td>\n",
       "      <td>0</td>\n",
       "      <td>0</td>\n",
       "      <td>0</td>\n",
       "      <td>0</td>\n",
       "      <td>0</td>\n",
       "      <td>0</td>\n",
       "      <td>0</td>\n",
       "    </tr>\n",
       "    <tr>\n",
       "      <th>2</th>\n",
       "      <td>0</td>\n",
       "      <td>0</td>\n",
       "      <td>54</td>\n",
       "      <td>4062</td>\n",
       "      <td>2</td>\n",
       "      <td>125</td>\n",
       "      <td>0</td>\n",
       "      <td>0</td>\n",
       "      <td>0</td>\n",
       "      <td>0</td>\n",
       "      <td>...</td>\n",
       "      <td>0</td>\n",
       "      <td>0</td>\n",
       "      <td>0</td>\n",
       "      <td>0</td>\n",
       "      <td>0</td>\n",
       "      <td>0</td>\n",
       "      <td>0</td>\n",
       "      <td>0</td>\n",
       "      <td>0</td>\n",
       "      <td>0</td>\n",
       "    </tr>\n",
       "    <tr>\n",
       "      <th>3</th>\n",
       "      <td>0</td>\n",
       "      <td>0</td>\n",
       "      <td>0</td>\n",
       "      <td>0</td>\n",
       "      <td>0</td>\n",
       "      <td>0</td>\n",
       "      <td>0</td>\n",
       "      <td>0</td>\n",
       "      <td>0</td>\n",
       "      <td>0</td>\n",
       "      <td>...</td>\n",
       "      <td>0</td>\n",
       "      <td>0</td>\n",
       "      <td>0</td>\n",
       "      <td>0</td>\n",
       "      <td>0</td>\n",
       "      <td>0</td>\n",
       "      <td>0</td>\n",
       "      <td>0</td>\n",
       "      <td>0</td>\n",
       "      <td>0</td>\n",
       "    </tr>\n",
       "    <tr>\n",
       "      <th>4</th>\n",
       "      <td>27</td>\n",
       "      <td>16</td>\n",
       "      <td>0</td>\n",
       "      <td>0</td>\n",
       "      <td>1</td>\n",
       "      <td>64</td>\n",
       "      <td>0</td>\n",
       "      <td>0</td>\n",
       "      <td>7</td>\n",
       "      <td>119</td>\n",
       "      <td>...</td>\n",
       "      <td>0</td>\n",
       "      <td>0</td>\n",
       "      <td>0</td>\n",
       "      <td>0</td>\n",
       "      <td>2</td>\n",
       "      <td>0</td>\n",
       "      <td>0</td>\n",
       "      <td>0</td>\n",
       "      <td>0</td>\n",
       "      <td>0</td>\n",
       "    </tr>\n",
       "  </tbody>\n",
       "</table>\n",
       "<p>5 rows × 247 columns</p>\n",
       "</div>"
      ],
      "text/plain": [
       "    0    1   2     3  4    5  6  7  8    9 ...   237  238  239  240  241  242  \\\n",
       "0   0    0   0     0  0    0  0  0  0    0 ...     0    0    0    0    1    0   \n",
       "1  23  102   0     0  0    0  0  0  0    0 ...     0    0    0    0    0    0   \n",
       "2   0    0  54  4062  2  125  0  0  0    0 ...     0    0    0    0    0    0   \n",
       "3   0    0   0     0  0    0  0  0  0    0 ...     0    0    0    0    0    0   \n",
       "4  27   16   0     0  1   64  0  0  7  119 ...     0    0    0    0    2    0   \n",
       "\n",
       "   243  244  245  246  \n",
       "0    0    0    0    0  \n",
       "1    0    0    0    0  \n",
       "2    0    0    0    0  \n",
       "3    0    0    0    0  \n",
       "4    0    0    0    0  \n",
       "\n",
       "[5 rows x 247 columns]"
      ]
     },
     "execution_count": 47,
     "metadata": {},
     "output_type": "execute_result"
    }
   ],
   "source": [
    "test_df = pd.read_csv(\"test_1.data\")\n",
    "test_df.head(5)"
   ]
  },
  {
   "cell_type": "code",
   "execution_count": null,
   "metadata": {},
   "outputs": [],
   "source": []
  },
  {
   "cell_type": "code",
   "execution_count": 48,
   "metadata": {},
   "outputs": [],
   "source": [
    "y_gender = train_df[\"gender\"]\n",
    "y_age = train_df[\"age\"]\n",
    "train_df.drop([\"gender\", \"age\"], axis=1,inplace=True)\n",
    "\n",
    "X_train_age, X_test_age, y_train_age, y_test_age = train_test_split(train_df, y_age, test_size=0.33, random_state=42)\n",
    "X_train_gender, X_test_gender, y_train_gender, y_test_gender = train_test_split(train_df, y_gender, test_size=0.33, random_state=42)"
   ]
  },
  {
   "cell_type": "code",
   "execution_count": 49,
   "metadata": {},
   "outputs": [
    {
     "data": {
      "text/plain": [
       "0.20763636363636365"
      ]
     },
     "execution_count": 49,
     "metadata": {},
     "output_type": "execute_result"
    }
   ],
   "source": [
    "dtc_age = DecisionTreeClassifier(max_depth=4)\n",
    "dtc_age.fit(X_train_age, y_train_age)\n",
    "dtc_age.score(X_test_age, y_test_age)"
   ]
  },
  {
   "cell_type": "code",
   "execution_count": 50,
   "metadata": {},
   "outputs": [
    {
     "data": {
      "text/plain": [
       "0.6495151515151515"
      ]
     },
     "execution_count": 50,
     "metadata": {},
     "output_type": "execute_result"
    }
   ],
   "source": [
    "dtc_gender = DecisionTreeClassifier(max_depth=8)\n",
    "dtc_gender.fit(X_train_gender, y_train_gender)\n",
    "dtc_gender.score(X_test_gender, y_test_gender)"
   ]
  },
  {
   "cell_type": "code",
   "execution_count": 51,
   "metadata": {},
   "outputs": [
    {
     "data": {
      "text/plain": [
       "0.21745454545454546"
      ]
     },
     "execution_count": 51,
     "metadata": {},
     "output_type": "execute_result"
    }
   ],
   "source": [
    "gbc_age = GradientBoostingClassifier(n_estimators=10)\n",
    "gbc_age.fit(X_train_age, y_train_age)\n",
    "gbc_age.score(X_test_age, y_test_age)"
   ]
  },
  {
   "cell_type": "code",
   "execution_count": 52,
   "metadata": {},
   "outputs": [
    {
     "data": {
      "text/plain": [
       "0.6481818181818182"
      ]
     },
     "execution_count": 52,
     "metadata": {},
     "output_type": "execute_result"
    }
   ],
   "source": [
    "gbc_gender = GradientBoostingClassifier(n_estimators=10)\n",
    "gbc_gender.fit(X_train_gender, y_train_gender)\n",
    "gbc_gender.score(X_test_gender, y_test_gender)"
   ]
  },
  {
   "cell_type": "markdown",
   "metadata": {},
   "source": [
    "偶然发现，决策树才是正确的选择！\n",
    "\n",
    "改SVC为决策树"
   ]
  },
  {
   "cell_type": "code",
   "execution_count": 53,
   "metadata": {},
   "outputs": [],
   "source": [
    "test_df = pd.read_csv(\"test_1.data\")\n",
    "predict_age = dtc_age.predict(test_df)\n",
    "predict_gender = dtc_gender.predict(test_df)\n",
    "\n",
    "with open(\"Demo/deviceid_test.tsv\", \"r\", encoding=\"utf-8\") as fi:\n",
    "    users = [x.strip() for x in fi.readlines()]\n",
    "with open(\"result.csv\", \"w\", encoding=\"utf-8\") as f:\n",
    "    f.write(\"DeviceID,1-0,1-1,1-2,1-3,1-4,1-5,1-6,1-7,1-8,1-9,1-10,2-0,2-1,2-2,2-3,2-4,2-5,2-6,2-7,2-8,2-9,2-10\\n\")\n",
    "    for i in range(len(users)):\n",
    "        predict = [0.0 for i in range(22)]\n",
    "        gender = predict_gender[i]\n",
    "        age = predict_age[i]\n",
    "        predict[(gender-1) * 11 + age] = 1.0\n",
    "        f.write(users[i]+\",\" + \",\".join([str(x) for x in predict]) + \"\\n\")"
   ]
  },
  {
   "cell_type": "markdown",
   "metadata": {},
   "source": [
    "### 试一下同时分类age与gender"
   ]
  },
  {
   "cell_type": "markdown",
   "metadata": {},
   "source": [
    "训练"
   ]
  },
  {
   "cell_type": "code",
   "execution_count": 4,
   "metadata": {},
   "outputs": [],
   "source": [
    "train_df = pd.read_csv(\"train_1.data\")\n",
    "y = train_df[\"age\"] + ((train_df[\"gender\"] -1) * 11)\n",
    "train_df.drop([\"gender\", \"age\"], axis=1,inplace=True)\n",
    "X_train, X_test, y_train, y_test = train_test_split(train_df, y, test_size=0.33, random_state=42)"
   ]
  },
  {
   "cell_type": "code",
   "execution_count": 55,
   "metadata": {},
   "outputs": [
    {
     "data": {
      "text/plain": [
       "(0.18429850746268656, 0.1390909090909091)"
      ]
     },
     "execution_count": 55,
     "metadata": {},
     "output_type": "execute_result"
    }
   ],
   "source": [
    "dct = DecisionTreeClassifier(max_depth=10)\n",
    "dct.fit(X_train, y_train)\n",
    "dct.score(X_train, y_train), dct.score(X_test, y_test)"
   ]
  },
  {
   "cell_type": "code",
   "execution_count": 8,
   "metadata": {},
   "outputs": [
    {
     "data": {
      "text/plain": [
       "(0.21835820895522387, 0.1416969696969697)"
      ]
     },
     "execution_count": 8,
     "metadata": {},
     "output_type": "execute_result"
    }
   ],
   "source": [
    "gbc = GradientBoostingClassifier(n_estimators=5, max_depth=5)\n",
    "gbc.fit(X_train, y_train)\n",
    "gbc.score(X_train, y_train),gbc.score(X_test, y_test)"
   ]
  },
  {
   "cell_type": "code",
   "execution_count": 58,
   "metadata": {},
   "outputs": [
    {
     "data": {
      "text/plain": [
       "(0.40373134328358207, 0.13872727272727273)"
      ]
     },
     "execution_count": 58,
     "metadata": {},
     "output_type": "execute_result"
    }
   ],
   "source": [
    "gbc = GradientBoostingClassifier(n_estimators=50, max_depth=5)\n",
    "gbc.fit(X_train, y_train)\n",
    "gbc.score(X_train, y_train),gbc.score(X_test, y_test)"
   ]
  },
  {
   "cell_type": "code",
   "execution_count": 59,
   "metadata": {},
   "outputs": [
    {
     "data": {
      "text/plain": [
       "(0.49456716417910446, 0.1373939393939394)"
      ]
     },
     "execution_count": 59,
     "metadata": {},
     "output_type": "execute_result"
    }
   ],
   "source": [
    "gbc = GradientBoostingClassifier(n_estimators=100, max_depth=5)\n",
    "gbc.fit(X_train, y_train)\n",
    "gbc.score(X_train, y_train),gbc.score(X_test, y_test)"
   ]
  },
  {
   "cell_type": "code",
   "execution_count": 64,
   "metadata": {},
   "outputs": [
    {
     "data": {
      "text/plain": [
       "(0.15480597014925374, 0.1373939393939394)"
      ]
     },
     "execution_count": 64,
     "metadata": {},
     "output_type": "execute_result"
    }
   ],
   "source": [
    "rfc = RandomForestClassifier(n_estimators=100, max_depth=5)\n",
    "rfc.fit(X_train, y_train)\n",
    "rfc.score(X_train, y_train),rfc.score(X_test, y_test)"
   ]
  },
  {
   "cell_type": "markdown",
   "metadata": {},
   "source": [
    "预测"
   ]
  },
  {
   "cell_type": "code",
   "execution_count": 11,
   "metadata": {},
   "outputs": [],
   "source": [
    "test_df = pd.read_csv(\"test_1.data\")\n",
    "predict_array = gbc.predict(test_df)\n",
    "\n",
    "with open(\"Demo/deviceid_test.tsv\", \"r\", encoding=\"utf-8\") as fi:\n",
    "    users = [x.strip() for x in fi.readlines()]\n",
    "with open(\"result.csv\", \"w\", encoding=\"utf-8\") as f:\n",
    "    f.write(\"DeviceID,1-0,1-1,1-2,1-3,1-4,1-5,1-6,1-7,1-8,1-9,1-10,2-0,2-1,2-2,2-3,2-4,2-5,2-6,2-7,2-8,2-9,2-10\\n\")\n",
    "    for i in range(len(users)):\n",
    "        predict = [0.0 for i in range(22)]\n",
    "        index = predict_array[i]\n",
    "        predict[index] = 1.0\n",
    "        f.write(users[i]+\",\" + \",\".join([str(x) for x in predict]) + \"\\n\")"
   ]
  },
  {
   "cell_type": "markdown",
   "metadata": {},
   "source": [
    "## 修改特征\n",
    "到目前为止，结果并不好，推测是特征仍然不足。考虑到之前只使用了top100款app作为特征，现在想扩大范围，把所有app的使用情况都作为特征输入进去。"
   ]
  },
  {
   "cell_type": "code",
   "execution_count": 2,
   "metadata": {},
   "outputs": [
    {
     "data": {
      "text/html": [
       "<div>\n",
       "<style>\n",
       "    .dataframe thead tr:only-child th {\n",
       "        text-align: right;\n",
       "    }\n",
       "\n",
       "    .dataframe thead th {\n",
       "        text-align: left;\n",
       "    }\n",
       "\n",
       "    .dataframe tbody tr th {\n",
       "        vertical-align: top;\n",
       "    }\n",
       "</style>\n",
       "<table border=\"1\" class=\"dataframe\">\n",
       "  <thead>\n",
       "    <tr style=\"text-align: right;\">\n",
       "      <th></th>\n",
       "      <th>device_id</th>\n",
       "      <th>apps</th>\n",
       "      <th>app_lenghth</th>\n",
       "    </tr>\n",
       "  </thead>\n",
       "  <tbody>\n",
       "    <tr>\n",
       "      <th>0</th>\n",
       "      <td>00009270c4ec26e1d76f5d86847009c9</td>\n",
       "      <td>[1896072db9ce6406febfc17f681c2086, 90cb852cf34...</td>\n",
       "      <td>3</td>\n",
       "    </tr>\n",
       "    <tr>\n",
       "      <th>1</th>\n",
       "      <td>000189ef5d5b951841d416a8c6c5b995</td>\n",
       "      <td>[1896072db9ce6406febfc17f681c2086, 97d0422a331...</td>\n",
       "      <td>19</td>\n",
       "    </tr>\n",
       "    <tr>\n",
       "      <th>2</th>\n",
       "      <td>00026d79a6f0955fc860947724e24765</td>\n",
       "      <td>[c33b35d6254ad9c0c238233eb97a6c60]</td>\n",
       "      <td>1</td>\n",
       "    </tr>\n",
       "    <tr>\n",
       "      <th>3</th>\n",
       "      <td>0002e3afb8146bc08e40575e45f0eca6</td>\n",
       "      <td>[1896072db9ce6406febfc17f681c2086, 07e967d75aa...</td>\n",
       "      <td>3</td>\n",
       "    </tr>\n",
       "    <tr>\n",
       "      <th>4</th>\n",
       "      <td>0004709a296f9b925ae283efe2f043e7</td>\n",
       "      <td>[4538778ad75aa8ce61c9d13fb9cb661b, 86f9f299cdb...</td>\n",
       "      <td>16</td>\n",
       "    </tr>\n",
       "  </tbody>\n",
       "</table>\n",
       "</div>"
      ],
      "text/plain": [
       "                          device_id  \\\n",
       "0  00009270c4ec26e1d76f5d86847009c9   \n",
       "1  000189ef5d5b951841d416a8c6c5b995   \n",
       "2  00026d79a6f0955fc860947724e24765   \n",
       "3  0002e3afb8146bc08e40575e45f0eca6   \n",
       "4  0004709a296f9b925ae283efe2f043e7   \n",
       "\n",
       "                                                apps  app_lenghth  \n",
       "0  [1896072db9ce6406febfc17f681c2086, 90cb852cf34...            3  \n",
       "1  [1896072db9ce6406febfc17f681c2086, 97d0422a331...           19  \n",
       "2                 [c33b35d6254ad9c0c238233eb97a6c60]            1  \n",
       "3  [1896072db9ce6406febfc17f681c2086, 07e967d75aa...            3  \n",
       "4  [4538778ad75aa8ce61c9d13fb9cb661b, 86f9f299cdb...           16  "
      ]
     },
     "execution_count": 2,
     "metadata": {},
     "output_type": "execute_result"
    }
   ],
   "source": [
    "# 从开源的代码中学习到的方法\n",
    "# 把每个用户安装的app列表，看做一篇文章，文章每个单词是一款app\n",
    "# 然后就可以用count vectorizer 和 tfidf 提取特征了\n",
    "deviceid_packages=pd.read_csv('Demo/deviceid_packages.tsv',sep='\\t',names=['device_id','apps'])\n",
    "deviceid_packages['apps']=deviceid_packages['apps'].apply(lambda x:x.split(','))\n",
    "deviceid_packages['app_lenghth']=deviceid_packages['apps'].apply(lambda x:len(x))\n",
    "deviceid_packages.head(5)"
   ]
  },
  {
   "cell_type": "code",
   "execution_count": 3,
   "metadata": {},
   "outputs": [
    {
     "name": "stdout",
     "output_type": "stream",
     "text": [
      "[[0. 0. 0. ... 0. 0. 0.]\n",
      " [0. 0. 0. ... 0. 0. 0.]\n",
      " [0. 0. 0. ... 0. 0. 0.]\n",
      " ...\n",
      " [0. 0. 0. ... 0. 0. 0.]\n",
      " [0. 0. 0. ... 0. 0. 0.]\n",
      " [0. 0. 0. ... 0. 0. 0.]]\n"
     ]
    }
   ],
   "source": [
    "# 有了上表后，就可以把apps列用CountVectorizer和Tfidf\n",
    "apps = deviceid_packages[\"apps\"].apply(lambda x: \" \".join(x)).tolist()\n",
    "vectorizer=CountVectorizer()\n",
    "transformer=TfidfTransformer()\n",
    "# 每个用户安装的app特征，变成了一个长度为35000的稀疏向量\n",
    "cntTf = vectorizer.fit_transform(apps)\n",
    "# 再用tfidf计算35000个特征对于每个用户的权重\n",
    "tfidf=transformer.fit_transform(cntTf)\n",
    "# countvectorizer的特征列表，就是35000个app的名字列表\n",
    "word=vectorizer.get_feature_names()\n",
    "# tfidf权重\n",
    "weight=tfidf.toarray()\n",
    "print(weight)"
   ]
  },
  {
   "cell_type": "code",
   "execution_count": 18,
   "metadata": {},
   "outputs": [
    {
     "name": "stderr",
     "output_type": "stream",
     "text": [
      "100%|███████████████████████████████████████████████████████████████████████████| 35000/35000 [04:03<00:00, 143.73it/s]\n"
     ]
    }
   ],
   "source": [
    "# 如此，每个用户都能得到一个35000个特征tfidf值的sum\n",
    "# 个人觉得也可以用 df_weight['sum'] = weight.sum(axis=0)\n",
    "df_weight=pd.DataFrame(weight)\n",
    "feature=df_weight.columns\n",
    "df_weight['sum']=0\n",
    "for f in tqdm(feature):\n",
    "    df_weight['sum']+=df_weight[f]\n",
    "deviceid_packages['tfidf_sum']=df_weight['sum']"
   ]
  },
  {
   "cell_type": "code",
   "execution_count": 20,
   "metadata": {},
   "outputs": [
    {
     "name": "stderr",
     "output_type": "stream",
     "text": [
      "d:\\python35\\lib\\site-packages\\sklearn\\decomposition\\online_lda.py:294: DeprecationWarning: n_topics has been renamed to n_components in version 0.19 and will be removed in 0.21\n",
      "  DeprecationWarning)\n",
      "d:\\python35\\lib\\site-packages\\sklearn\\decomposition\\online_lda.py:536: DeprecationWarning: The default value for 'learning_method' will be changed from 'online' to 'batch' in the release 0.20. This warning was introduced in 0.18.\n",
      "  DeprecationWarning)\n"
     ]
    }
   ],
   "source": [
    "# 用lda对count_vectorizer的结果聚类降维\n",
    "# 每个人对35000个app的使用特征被降维至5个特征\n",
    "lda = LatentDirichletAllocation(n_components=5,\n",
    "                                learning_offset=50.,\n",
    "                                random_state=666)\n",
    "docres = lda.fit_transform(cntTf)"
   ]
  },
  {
   "cell_type": "code",
   "execution_count": 23,
   "metadata": {},
   "outputs": [
    {
     "data": {
      "text/html": [
       "<div>\n",
       "<style>\n",
       "    .dataframe thead tr:only-child th {\n",
       "        text-align: right;\n",
       "    }\n",
       "\n",
       "    .dataframe thead th {\n",
       "        text-align: left;\n",
       "    }\n",
       "\n",
       "    .dataframe tbody tr th {\n",
       "        vertical-align: top;\n",
       "    }\n",
       "</style>\n",
       "<table border=\"1\" class=\"dataframe\">\n",
       "  <thead>\n",
       "    <tr style=\"text-align: right;\">\n",
       "      <th></th>\n",
       "      <th>device_id</th>\n",
       "      <th>apps</th>\n",
       "      <th>app_lenghth</th>\n",
       "      <th>tfidf_sum</th>\n",
       "      <th>0</th>\n",
       "      <th>1</th>\n",
       "      <th>2</th>\n",
       "      <th>3</th>\n",
       "      <th>4</th>\n",
       "    </tr>\n",
       "  </thead>\n",
       "  <tbody>\n",
       "    <tr>\n",
       "      <th>0</th>\n",
       "      <td>00009270c4ec26e1d76f5d86847009c9</td>\n",
       "      <td>[1896072db9ce6406febfc17f681c2086, 90cb852cf34...</td>\n",
       "      <td>3</td>\n",
       "      <td>1.645761</td>\n",
       "      <td>0.050663</td>\n",
       "      <td>0.050000</td>\n",
       "      <td>0.797998</td>\n",
       "      <td>0.050980</td>\n",
       "      <td>0.050358</td>\n",
       "    </tr>\n",
       "    <tr>\n",
       "      <th>1</th>\n",
       "      <td>000189ef5d5b951841d416a8c6c5b995</td>\n",
       "      <td>[1896072db9ce6406febfc17f681c2086, 97d0422a331...</td>\n",
       "      <td>19</td>\n",
       "      <td>3.946912</td>\n",
       "      <td>0.010108</td>\n",
       "      <td>0.010000</td>\n",
       "      <td>0.886824</td>\n",
       "      <td>0.082890</td>\n",
       "      <td>0.010179</td>\n",
       "    </tr>\n",
       "    <tr>\n",
       "      <th>2</th>\n",
       "      <td>00026d79a6f0955fc860947724e24765</td>\n",
       "      <td>[c33b35d6254ad9c0c238233eb97a6c60]</td>\n",
       "      <td>1</td>\n",
       "      <td>1.000000</td>\n",
       "      <td>0.599999</td>\n",
       "      <td>0.100001</td>\n",
       "      <td>0.100000</td>\n",
       "      <td>0.100000</td>\n",
       "      <td>0.100000</td>\n",
       "    </tr>\n",
       "    <tr>\n",
       "      <th>3</th>\n",
       "      <td>0002e3afb8146bc08e40575e45f0eca6</td>\n",
       "      <td>[1896072db9ce6406febfc17f681c2086, 07e967d75aa...</td>\n",
       "      <td>3</td>\n",
       "      <td>1.625475</td>\n",
       "      <td>0.051479</td>\n",
       "      <td>0.050000</td>\n",
       "      <td>0.796720</td>\n",
       "      <td>0.051238</td>\n",
       "      <td>0.050563</td>\n",
       "    </tr>\n",
       "    <tr>\n",
       "      <th>4</th>\n",
       "      <td>0004709a296f9b925ae283efe2f043e7</td>\n",
       "      <td>[4538778ad75aa8ce61c9d13fb9cb661b, 86f9f299cdb...</td>\n",
       "      <td>16</td>\n",
       "      <td>3.445554</td>\n",
       "      <td>0.012114</td>\n",
       "      <td>0.246057</td>\n",
       "      <td>0.458820</td>\n",
       "      <td>0.012027</td>\n",
       "      <td>0.270983</td>\n",
       "    </tr>\n",
       "  </tbody>\n",
       "</table>\n",
       "</div>"
      ],
      "text/plain": [
       "                          device_id  \\\n",
       "0  00009270c4ec26e1d76f5d86847009c9   \n",
       "1  000189ef5d5b951841d416a8c6c5b995   \n",
       "2  00026d79a6f0955fc860947724e24765   \n",
       "3  0002e3afb8146bc08e40575e45f0eca6   \n",
       "4  0004709a296f9b925ae283efe2f043e7   \n",
       "\n",
       "                                                apps  app_lenghth  tfidf_sum  \\\n",
       "0  [1896072db9ce6406febfc17f681c2086, 90cb852cf34...            3   1.645761   \n",
       "1  [1896072db9ce6406febfc17f681c2086, 97d0422a331...           19   3.946912   \n",
       "2                 [c33b35d6254ad9c0c238233eb97a6c60]            1   1.000000   \n",
       "3  [1896072db9ce6406febfc17f681c2086, 07e967d75aa...            3   1.625475   \n",
       "4  [4538778ad75aa8ce61c9d13fb9cb661b, 86f9f299cdb...           16   3.445554   \n",
       "\n",
       "          0         1         2         3         4  \n",
       "0  0.050663  0.050000  0.797998  0.050980  0.050358  \n",
       "1  0.010108  0.010000  0.886824  0.082890  0.010179  \n",
       "2  0.599999  0.100001  0.100000  0.100000  0.100000  \n",
       "3  0.051479  0.050000  0.796720  0.051238  0.050563  \n",
       "4  0.012114  0.246057  0.458820  0.012027  0.270983  "
      ]
     },
     "execution_count": 23,
     "metadata": {},
     "output_type": "execute_result"
    }
   ],
   "source": [
    "deviceid_packages=pd.concat([deviceid_packages,pd.DataFrame(docres)],axis=1)\n",
    "deviceid_packages.head(5)"
   ]
  },
  {
   "cell_type": "code",
   "execution_count": 25,
   "metadata": {},
   "outputs": [],
   "source": [
    "# 准备训练数据\n",
    "deviceid_test=pd.read_csv('Demo/deviceid_test.tsv',sep='\\t',names=['device_id'])\n",
    "deviceid_train=pd.read_csv('Demo/deviceid_train.tsv',sep='\\t',names=['device_id','sex','age'])\n",
    "deviceid_train=pd.concat([deviceid_train,deviceid_test])\n",
    "\n",
    "temp=deviceid_packages.drop('apps',axis=1)\n",
    "deviceid_train=pd.merge(deviceid_train,temp,on='device_id',how='left')"
   ]
  },
  {
   "cell_type": "code",
   "execution_count": 26,
   "metadata": {},
   "outputs": [],
   "source": [
    "deviceid_train['sex']=deviceid_train['sex'].apply(lambda x:str(x))\n",
    "deviceid_train['age']=deviceid_train['age'].apply(lambda x:str(x))\n",
    "def tool(x):\n",
    "    if x=='nan':\n",
    "        return x\n",
    "    else:\n",
    "        return str(int(float(x)))\n",
    "deviceid_train['sex']=deviceid_train['sex'].apply(tool)\n",
    "deviceid_train['age']=deviceid_train['age'].apply(tool)\n",
    "deviceid_train['sex_age']=deviceid_train['sex']+'-'+deviceid_train['age']"
   ]
  },
  {
   "cell_type": "code",
   "execution_count": 27,
   "metadata": {},
   "outputs": [
    {
     "data": {
      "text/html": [
       "<div>\n",
       "<style>\n",
       "    .dataframe thead tr:only-child th {\n",
       "        text-align: right;\n",
       "    }\n",
       "\n",
       "    .dataframe thead th {\n",
       "        text-align: left;\n",
       "    }\n",
       "\n",
       "    .dataframe tbody tr th {\n",
       "        vertical-align: top;\n",
       "    }\n",
       "</style>\n",
       "<table border=\"1\" class=\"dataframe\">\n",
       "  <thead>\n",
       "    <tr style=\"text-align: right;\">\n",
       "      <th></th>\n",
       "      <th>age</th>\n",
       "      <th>device_id</th>\n",
       "      <th>sex</th>\n",
       "      <th>app_lenghth</th>\n",
       "      <th>tfidf_sum</th>\n",
       "      <th>0</th>\n",
       "      <th>1</th>\n",
       "      <th>2</th>\n",
       "      <th>3</th>\n",
       "      <th>4</th>\n",
       "      <th>sex_age</th>\n",
       "    </tr>\n",
       "  </thead>\n",
       "  <tbody>\n",
       "    <tr>\n",
       "      <th>0</th>\n",
       "      <td>3</td>\n",
       "      <td>bd86d59afa24a839ce6029d718accb19</td>\n",
       "      <td>1</td>\n",
       "      <td>16</td>\n",
       "      <td>3.457704</td>\n",
       "      <td>0.089292</td>\n",
       "      <td>0.011770</td>\n",
       "      <td>0.808878</td>\n",
       "      <td>0.011860</td>\n",
       "      <td>0.078200</td>\n",
       "      <td>1-3</td>\n",
       "    </tr>\n",
       "    <tr>\n",
       "      <th>1</th>\n",
       "      <td>5</td>\n",
       "      <td>e7d158c9a8262a35c9cc630a15a9103e</td>\n",
       "      <td>1</td>\n",
       "      <td>12</td>\n",
       "      <td>3.037932</td>\n",
       "      <td>0.015437</td>\n",
       "      <td>0.092414</td>\n",
       "      <td>0.646381</td>\n",
       "      <td>0.015462</td>\n",
       "      <td>0.230306</td>\n",
       "      <td>1-5</td>\n",
       "    </tr>\n",
       "    <tr>\n",
       "      <th>2</th>\n",
       "      <td>5</td>\n",
       "      <td>97abdc3828448b5acc7428dd307bc635</td>\n",
       "      <td>2</td>\n",
       "      <td>3</td>\n",
       "      <td>1.538901</td>\n",
       "      <td>0.050341</td>\n",
       "      <td>0.050000</td>\n",
       "      <td>0.798611</td>\n",
       "      <td>0.050298</td>\n",
       "      <td>0.050751</td>\n",
       "      <td>2-5</td>\n",
       "    </tr>\n",
       "    <tr>\n",
       "      <th>3</th>\n",
       "      <td>4</td>\n",
       "      <td>e4dbdbf07c9cff03d79f4872e65742b4</td>\n",
       "      <td>1</td>\n",
       "      <td>5</td>\n",
       "      <td>2.221036</td>\n",
       "      <td>0.034773</td>\n",
       "      <td>0.033333</td>\n",
       "      <td>0.863134</td>\n",
       "      <td>0.034388</td>\n",
       "      <td>0.034372</td>\n",
       "      <td>1-4</td>\n",
       "    </tr>\n",
       "    <tr>\n",
       "      <th>4</th>\n",
       "      <td>3</td>\n",
       "      <td>6bd4537b2970c5c6ab765c1860b88aa5</td>\n",
       "      <td>1</td>\n",
       "      <td>21</td>\n",
       "      <td>4.114661</td>\n",
       "      <td>0.102307</td>\n",
       "      <td>0.009092</td>\n",
       "      <td>0.278817</td>\n",
       "      <td>0.375586</td>\n",
       "      <td>0.234198</td>\n",
       "      <td>1-3</td>\n",
       "    </tr>\n",
       "  </tbody>\n",
       "</table>\n",
       "</div>"
      ],
      "text/plain": [
       "  age                         device_id sex  app_lenghth  tfidf_sum         0  \\\n",
       "0   3  bd86d59afa24a839ce6029d718accb19   1           16   3.457704  0.089292   \n",
       "1   5  e7d158c9a8262a35c9cc630a15a9103e   1           12   3.037932  0.015437   \n",
       "2   5  97abdc3828448b5acc7428dd307bc635   2            3   1.538901  0.050341   \n",
       "3   4  e4dbdbf07c9cff03d79f4872e65742b4   1            5   2.221036  0.034773   \n",
       "4   3  6bd4537b2970c5c6ab765c1860b88aa5   1           21   4.114661  0.102307   \n",
       "\n",
       "          1         2         3         4 sex_age  \n",
       "0  0.011770  0.808878  0.011860  0.078200     1-3  \n",
       "1  0.092414  0.646381  0.015462  0.230306     1-5  \n",
       "2  0.050000  0.798611  0.050298  0.050751     2-5  \n",
       "3  0.033333  0.863134  0.034388  0.034372     1-4  \n",
       "4  0.009092  0.278817  0.375586  0.234198     1-3  "
      ]
     },
     "execution_count": 27,
     "metadata": {},
     "output_type": "execute_result"
    }
   ],
   "source": [
    "deviceid_train=deviceid_train.replace({'nan':np.NaN,'nan-nan':np.NaN})\n",
    "deviceid_train.head()"
   ]
  },
  {
   "cell_type": "code",
   "execution_count": 28,
   "metadata": {},
   "outputs": [],
   "source": [
    "train=deviceid_train[deviceid_train['sex'].notnull()]\n",
    "test=deviceid_train[deviceid_train['sex'].isnull()]"
   ]
  },
  {
   "cell_type": "code",
   "execution_count": 29,
   "metadata": {},
   "outputs": [],
   "source": [
    "X=train.drop(['sex','age','sex_age','device_id'],axis=1)\n",
    "Y=train['sex_age']\n",
    "Y_CAT=pd.Categorical(Y)"
   ]
  },
  {
   "cell_type": "code",
   "execution_count": 32,
   "metadata": {},
   "outputs": [
    {
     "name": "stderr",
     "output_type": "stream",
     "text": [
      "d:\\python35\\lib\\site-packages\\ipykernel_launcher.py:1: FutureWarning: 'labels' is deprecated. Use 'codes' instead\n",
      "  \"\"\"Entry point for launching an IPython kernel.\n"
     ]
    }
   ],
   "source": [
    "X_train,X_test, y_train, y_test =train_test_split(X,Y_CAT.labels,test_size=0.3, random_state=666)"
   ]
  },
  {
   "cell_type": "code",
   "execution_count": 36,
   "metadata": {},
   "outputs": [
    {
     "data": {
      "text/plain": [
       "(0.13297142857142857, 0.1308)"
      ]
     },
     "execution_count": 36,
     "metadata": {},
     "output_type": "execute_result"
    }
   ],
   "source": [
    "rfc = RandomForestClassifier(n_estimators=100, max_depth=3)\n",
    "rfc.fit(X_train, y_train)\n",
    "rfc.score(X_train, y_train),rfc.score(X_test, y_test)"
   ]
  },
  {
   "cell_type": "code",
   "execution_count": 37,
   "metadata": {},
   "outputs": [
    {
     "data": {
      "text/plain": [
       "(0.3384, 0.1226)"
      ]
     },
     "execution_count": 37,
     "metadata": {},
     "output_type": "execute_result"
    }
   ],
   "source": [
    "gbc = GradientBoostingClassifier(n_estimators=50, max_depth=5)\n",
    "gbc.fit(X_train, y_train)\n",
    "gbc.score(X_train, y_train),gbc.score(X_test, y_test)"
   ]
  },
  {
   "cell_type": "code",
   "execution_count": 39,
   "metadata": {},
   "outputs": [],
   "source": [
    "# 试试lightGBM\n",
    "lgb_train=lgb.Dataset(X_train,label=y_train)\n",
    "lgb_eval = lgb.Dataset(X_test, y_test, reference=lgb_train)\n",
    "params = {\n",
    "    'boosting_type': 'gbdt',\n",
    "    'max_depth':3,\n",
    "    'metric': {'multi_logloss'},\n",
    "    'num_class':22,\n",
    "    'objective':'multiclass',\n",
    "    'random_state':666,\n",
    "    \n",
    "}"
   ]
  },
  {
   "cell_type": "code",
   "execution_count": 40,
   "metadata": {},
   "outputs": [
    {
     "name": "stdout",
     "output_type": "stream",
     "text": [
      "[1]\tvalid_0's multi_logloss: 3.05537\n",
      "Training until validation scores don't improve for 300 rounds.\n",
      "[2]\tvalid_0's multi_logloss: 3.02436\n",
      "[3]\tvalid_0's multi_logloss: 2.9974\n",
      "[4]\tvalid_0's multi_logloss: 2.97342\n",
      "[5]\tvalid_0's multi_logloss: 2.95218\n",
      "[6]\tvalid_0's multi_logloss: 2.93337\n",
      "[7]\tvalid_0's multi_logloss: 2.91655\n",
      "[8]\tvalid_0's multi_logloss: 2.90122\n",
      "[9]\tvalid_0's multi_logloss: 2.88756\n",
      "[10]\tvalid_0's multi_logloss: 2.87517\n",
      "[11]\tvalid_0's multi_logloss: 2.86372\n",
      "[12]\tvalid_0's multi_logloss: 2.85335\n",
      "[13]\tvalid_0's multi_logloss: 2.84383\n",
      "[14]\tvalid_0's multi_logloss: 2.83535\n",
      "[15]\tvalid_0's multi_logloss: 2.82738\n",
      "[16]\tvalid_0's multi_logloss: 2.82013\n",
      "[17]\tvalid_0's multi_logloss: 2.81343\n",
      "[18]\tvalid_0's multi_logloss: 2.80727\n",
      "[19]\tvalid_0's multi_logloss: 2.80154\n",
      "[20]\tvalid_0's multi_logloss: 2.79636\n",
      "[21]\tvalid_0's multi_logloss: 2.79153\n",
      "[22]\tvalid_0's multi_logloss: 2.78722\n",
      "[23]\tvalid_0's multi_logloss: 2.78312\n",
      "[24]\tvalid_0's multi_logloss: 2.77931\n",
      "[25]\tvalid_0's multi_logloss: 2.7758\n",
      "[26]\tvalid_0's multi_logloss: 2.7726\n",
      "[27]\tvalid_0's multi_logloss: 2.76959\n",
      "[28]\tvalid_0's multi_logloss: 2.76688\n",
      "[29]\tvalid_0's multi_logloss: 2.7642\n",
      "[30]\tvalid_0's multi_logloss: 2.76185\n",
      "[31]\tvalid_0's multi_logloss: 2.75961\n",
      "[32]\tvalid_0's multi_logloss: 2.75764\n",
      "[33]\tvalid_0's multi_logloss: 2.75577\n",
      "[34]\tvalid_0's multi_logloss: 2.75392\n",
      "[35]\tvalid_0's multi_logloss: 2.75228\n",
      "[36]\tvalid_0's multi_logloss: 2.75058\n",
      "[37]\tvalid_0's multi_logloss: 2.74918\n",
      "[38]\tvalid_0's multi_logloss: 2.74787\n",
      "[39]\tvalid_0's multi_logloss: 2.74658\n",
      "[40]\tvalid_0's multi_logloss: 2.74532\n",
      "[41]\tvalid_0's multi_logloss: 2.74415\n",
      "[42]\tvalid_0's multi_logloss: 2.74318\n",
      "[43]\tvalid_0's multi_logloss: 2.74219\n",
      "[44]\tvalid_0's multi_logloss: 2.74123\n",
      "[45]\tvalid_0's multi_logloss: 2.74052\n",
      "[46]\tvalid_0's multi_logloss: 2.73968\n",
      "[47]\tvalid_0's multi_logloss: 2.73899\n",
      "[48]\tvalid_0's multi_logloss: 2.73836\n",
      "[49]\tvalid_0's multi_logloss: 2.73765\n",
      "[50]\tvalid_0's multi_logloss: 2.73706\n",
      "[51]\tvalid_0's multi_logloss: 2.73647\n",
      "[52]\tvalid_0's multi_logloss: 2.73601\n",
      "[53]\tvalid_0's multi_logloss: 2.73555\n",
      "[54]\tvalid_0's multi_logloss: 2.73526\n",
      "[55]\tvalid_0's multi_logloss: 2.7349\n",
      "[56]\tvalid_0's multi_logloss: 2.73461\n",
      "[57]\tvalid_0's multi_logloss: 2.73427\n",
      "[58]\tvalid_0's multi_logloss: 2.73402\n",
      "[59]\tvalid_0's multi_logloss: 2.7337\n",
      "[60]\tvalid_0's multi_logloss: 2.73336\n",
      "[61]\tvalid_0's multi_logloss: 2.7331\n",
      "[62]\tvalid_0's multi_logloss: 2.7328\n",
      "[63]\tvalid_0's multi_logloss: 2.73264\n",
      "[64]\tvalid_0's multi_logloss: 2.73245\n",
      "[65]\tvalid_0's multi_logloss: 2.73229\n",
      "[66]\tvalid_0's multi_logloss: 2.73208\n",
      "[67]\tvalid_0's multi_logloss: 2.73183\n",
      "[68]\tvalid_0's multi_logloss: 2.73169\n",
      "[69]\tvalid_0's multi_logloss: 2.73153\n",
      "[70]\tvalid_0's multi_logloss: 2.73143\n",
      "[71]\tvalid_0's multi_logloss: 2.73133\n",
      "[72]\tvalid_0's multi_logloss: 2.73125\n",
      "[73]\tvalid_0's multi_logloss: 2.73118\n",
      "[74]\tvalid_0's multi_logloss: 2.73118\n",
      "[75]\tvalid_0's multi_logloss: 2.73113\n",
      "[76]\tvalid_0's multi_logloss: 2.73107\n",
      "[77]\tvalid_0's multi_logloss: 2.731\n",
      "[78]\tvalid_0's multi_logloss: 2.73102\n",
      "[79]\tvalid_0's multi_logloss: 2.7309\n",
      "[80]\tvalid_0's multi_logloss: 2.73084\n",
      "[81]\tvalid_0's multi_logloss: 2.73084\n",
      "[82]\tvalid_0's multi_logloss: 2.73073\n",
      "[83]\tvalid_0's multi_logloss: 2.73064\n",
      "[84]\tvalid_0's multi_logloss: 2.73066\n",
      "[85]\tvalid_0's multi_logloss: 2.73066\n",
      "[86]\tvalid_0's multi_logloss: 2.73068\n",
      "[87]\tvalid_0's multi_logloss: 2.73073\n",
      "[88]\tvalid_0's multi_logloss: 2.73072\n",
      "[89]\tvalid_0's multi_logloss: 2.7306\n",
      "[90]\tvalid_0's multi_logloss: 2.73067\n",
      "[91]\tvalid_0's multi_logloss: 2.73069\n",
      "[92]\tvalid_0's multi_logloss: 2.73067\n",
      "[93]\tvalid_0's multi_logloss: 2.73069\n",
      "[94]\tvalid_0's multi_logloss: 2.73059\n",
      "[95]\tvalid_0's multi_logloss: 2.73062\n",
      "[96]\tvalid_0's multi_logloss: 2.73069\n",
      "[97]\tvalid_0's multi_logloss: 2.73071\n",
      "[98]\tvalid_0's multi_logloss: 2.73069\n",
      "[99]\tvalid_0's multi_logloss: 2.73063\n",
      "[100]\tvalid_0's multi_logloss: 2.73062\n",
      "[101]\tvalid_0's multi_logloss: 2.73059\n",
      "[102]\tvalid_0's multi_logloss: 2.73064\n",
      "[103]\tvalid_0's multi_logloss: 2.73072\n",
      "[104]\tvalid_0's multi_logloss: 2.73083\n",
      "[105]\tvalid_0's multi_logloss: 2.73083\n",
      "[106]\tvalid_0's multi_logloss: 2.73072\n",
      "[107]\tvalid_0's multi_logloss: 2.73084\n",
      "[108]\tvalid_0's multi_logloss: 2.73081\n",
      "[109]\tvalid_0's multi_logloss: 2.7309\n",
      "[110]\tvalid_0's multi_logloss: 2.73092\n",
      "[111]\tvalid_0's multi_logloss: 2.73104\n",
      "[112]\tvalid_0's multi_logloss: 2.73114\n",
      "[113]\tvalid_0's multi_logloss: 2.73113\n",
      "[114]\tvalid_0's multi_logloss: 2.73104\n",
      "[115]\tvalid_0's multi_logloss: 2.73118\n",
      "[116]\tvalid_0's multi_logloss: 2.73123\n",
      "[117]\tvalid_0's multi_logloss: 2.73129\n",
      "[118]\tvalid_0's multi_logloss: 2.73132\n",
      "[119]\tvalid_0's multi_logloss: 2.73143\n",
      "[120]\tvalid_0's multi_logloss: 2.73148\n",
      "[121]\tvalid_0's multi_logloss: 2.73155\n",
      "[122]\tvalid_0's multi_logloss: 2.73159\n",
      "[123]\tvalid_0's multi_logloss: 2.73167\n",
      "[124]\tvalid_0's multi_logloss: 2.73175\n",
      "[125]\tvalid_0's multi_logloss: 2.73185\n",
      "[126]\tvalid_0's multi_logloss: 2.7319\n",
      "[127]\tvalid_0's multi_logloss: 2.73193\n",
      "[128]\tvalid_0's multi_logloss: 2.73192\n",
      "[129]\tvalid_0's multi_logloss: 2.73191\n",
      "[130]\tvalid_0's multi_logloss: 2.73195\n",
      "[131]\tvalid_0's multi_logloss: 2.73199\n",
      "[132]\tvalid_0's multi_logloss: 2.73209\n",
      "[133]\tvalid_0's multi_logloss: 2.73214\n",
      "[134]\tvalid_0's multi_logloss: 2.73219\n",
      "[135]\tvalid_0's multi_logloss: 2.7323\n",
      "[136]\tvalid_0's multi_logloss: 2.73237\n",
      "[137]\tvalid_0's multi_logloss: 2.7325\n",
      "[138]\tvalid_0's multi_logloss: 2.73255\n",
      "[139]\tvalid_0's multi_logloss: 2.73256\n",
      "[140]\tvalid_0's multi_logloss: 2.73261\n",
      "[141]\tvalid_0's multi_logloss: 2.73263\n",
      "[142]\tvalid_0's multi_logloss: 2.7328\n",
      "[143]\tvalid_0's multi_logloss: 2.73294\n",
      "[144]\tvalid_0's multi_logloss: 2.73299\n",
      "[145]\tvalid_0's multi_logloss: 2.73302\n",
      "[146]\tvalid_0's multi_logloss: 2.73317\n",
      "[147]\tvalid_0's multi_logloss: 2.73325\n",
      "[148]\tvalid_0's multi_logloss: 2.73337\n",
      "[149]\tvalid_0's multi_logloss: 2.73343\n",
      "[150]\tvalid_0's multi_logloss: 2.73346\n",
      "[151]\tvalid_0's multi_logloss: 2.73354\n",
      "[152]\tvalid_0's multi_logloss: 2.73365\n",
      "[153]\tvalid_0's multi_logloss: 2.73377\n",
      "[154]\tvalid_0's multi_logloss: 2.73381\n",
      "[155]\tvalid_0's multi_logloss: 2.73395\n",
      "[156]\tvalid_0's multi_logloss: 2.73407\n",
      "[157]\tvalid_0's multi_logloss: 2.73414\n",
      "[158]\tvalid_0's multi_logloss: 2.73424\n",
      "[159]\tvalid_0's multi_logloss: 2.73433\n",
      "[160]\tvalid_0's multi_logloss: 2.7344\n",
      "[161]\tvalid_0's multi_logloss: 2.73444\n",
      "[162]\tvalid_0's multi_logloss: 2.7345\n",
      "[163]\tvalid_0's multi_logloss: 2.7346\n",
      "[164]\tvalid_0's multi_logloss: 2.73458\n",
      "[165]\tvalid_0's multi_logloss: 2.73463\n",
      "[166]\tvalid_0's multi_logloss: 2.73473\n",
      "[167]\tvalid_0's multi_logloss: 2.73485\n",
      "[168]\tvalid_0's multi_logloss: 2.73488\n",
      "[169]\tvalid_0's multi_logloss: 2.7349\n",
      "[170]\tvalid_0's multi_logloss: 2.73505\n",
      "[171]\tvalid_0's multi_logloss: 2.73503\n",
      "[172]\tvalid_0's multi_logloss: 2.73512\n",
      "[173]\tvalid_0's multi_logloss: 2.7352\n",
      "[174]\tvalid_0's multi_logloss: 2.73538\n",
      "[175]\tvalid_0's multi_logloss: 2.73547\n",
      "[176]\tvalid_0's multi_logloss: 2.73551\n",
      "[177]\tvalid_0's multi_logloss: 2.73559\n",
      "[178]\tvalid_0's multi_logloss: 2.73569\n",
      "[179]\tvalid_0's multi_logloss: 2.73582\n",
      "[180]\tvalid_0's multi_logloss: 2.73597\n",
      "[181]\tvalid_0's multi_logloss: 2.73602\n",
      "[182]\tvalid_0's multi_logloss: 2.73609\n",
      "[183]\tvalid_0's multi_logloss: 2.73617\n",
      "[184]\tvalid_0's multi_logloss: 2.73627\n",
      "[185]\tvalid_0's multi_logloss: 2.73635\n",
      "[186]\tvalid_0's multi_logloss: 2.7364\n",
      "[187]\tvalid_0's multi_logloss: 2.73649\n",
      "[188]\tvalid_0's multi_logloss: 2.73648\n",
      "[189]\tvalid_0's multi_logloss: 2.73655\n",
      "[190]\tvalid_0's multi_logloss: 2.73665\n",
      "[191]\tvalid_0's multi_logloss: 2.7368\n",
      "[192]\tvalid_0's multi_logloss: 2.73689\n",
      "[193]\tvalid_0's multi_logloss: 2.73706\n",
      "[194]\tvalid_0's multi_logloss: 2.73724\n",
      "[195]\tvalid_0's multi_logloss: 2.73733\n",
      "[196]\tvalid_0's multi_logloss: 2.73746\n",
      "[197]\tvalid_0's multi_logloss: 2.73751\n",
      "[198]\tvalid_0's multi_logloss: 2.73759\n",
      "[199]\tvalid_0's multi_logloss: 2.73774\n",
      "[200]\tvalid_0's multi_logloss: 2.73789\n",
      "[201]\tvalid_0's multi_logloss: 2.73794\n",
      "[202]\tvalid_0's multi_logloss: 2.738\n",
      "[203]\tvalid_0's multi_logloss: 2.73809\n",
      "[204]\tvalid_0's multi_logloss: 2.73821\n",
      "[205]\tvalid_0's multi_logloss: 2.73838\n",
      "[206]\tvalid_0's multi_logloss: 2.73845\n",
      "[207]\tvalid_0's multi_logloss: 2.73847\n",
      "[208]\tvalid_0's multi_logloss: 2.73854\n",
      "[209]\tvalid_0's multi_logloss: 2.73866\n",
      "[210]\tvalid_0's multi_logloss: 2.73867\n",
      "[211]\tvalid_0's multi_logloss: 2.73881\n"
     ]
    },
    {
     "name": "stdout",
     "output_type": "stream",
     "text": [
      "[212]\tvalid_0's multi_logloss: 2.73891\n",
      "[213]\tvalid_0's multi_logloss: 2.739\n",
      "[214]\tvalid_0's multi_logloss: 2.73898\n",
      "[215]\tvalid_0's multi_logloss: 2.73913\n",
      "[216]\tvalid_0's multi_logloss: 2.73929\n",
      "[217]\tvalid_0's multi_logloss: 2.73935\n",
      "[218]\tvalid_0's multi_logloss: 2.73953\n",
      "[219]\tvalid_0's multi_logloss: 2.73964\n",
      "[220]\tvalid_0's multi_logloss: 2.73971\n",
      "[221]\tvalid_0's multi_logloss: 2.73977\n",
      "[222]\tvalid_0's multi_logloss: 2.73987\n",
      "[223]\tvalid_0's multi_logloss: 2.73994\n",
      "[224]\tvalid_0's multi_logloss: 2.73999\n",
      "[225]\tvalid_0's multi_logloss: 2.74011\n",
      "[226]\tvalid_0's multi_logloss: 2.74018\n",
      "[227]\tvalid_0's multi_logloss: 2.74033\n",
      "[228]\tvalid_0's multi_logloss: 2.74033\n",
      "[229]\tvalid_0's multi_logloss: 2.74043\n",
      "[230]\tvalid_0's multi_logloss: 2.74048\n",
      "[231]\tvalid_0's multi_logloss: 2.74063\n",
      "[232]\tvalid_0's multi_logloss: 2.74071\n",
      "[233]\tvalid_0's multi_logloss: 2.74079\n",
      "[234]\tvalid_0's multi_logloss: 2.74079\n",
      "[235]\tvalid_0's multi_logloss: 2.74094\n",
      "[236]\tvalid_0's multi_logloss: 2.74105\n",
      "[237]\tvalid_0's multi_logloss: 2.74111\n",
      "[238]\tvalid_0's multi_logloss: 2.74119\n",
      "[239]\tvalid_0's multi_logloss: 2.74135\n",
      "[240]\tvalid_0's multi_logloss: 2.74143\n",
      "[241]\tvalid_0's multi_logloss: 2.74143\n",
      "[242]\tvalid_0's multi_logloss: 2.74144\n",
      "[243]\tvalid_0's multi_logloss: 2.74154\n",
      "[244]\tvalid_0's multi_logloss: 2.74166\n",
      "[245]\tvalid_0's multi_logloss: 2.74173\n",
      "[246]\tvalid_0's multi_logloss: 2.74178\n",
      "[247]\tvalid_0's multi_logloss: 2.74193\n",
      "[248]\tvalid_0's multi_logloss: 2.74204\n",
      "[249]\tvalid_0's multi_logloss: 2.74216\n",
      "[250]\tvalid_0's multi_logloss: 2.74228\n",
      "[251]\tvalid_0's multi_logloss: 2.74238\n",
      "[252]\tvalid_0's multi_logloss: 2.74242\n",
      "[253]\tvalid_0's multi_logloss: 2.74253\n",
      "[254]\tvalid_0's multi_logloss: 2.74269\n",
      "[255]\tvalid_0's multi_logloss: 2.74277\n",
      "[256]\tvalid_0's multi_logloss: 2.74288\n",
      "[257]\tvalid_0's multi_logloss: 2.74302\n",
      "[258]\tvalid_0's multi_logloss: 2.74315\n",
      "[259]\tvalid_0's multi_logloss: 2.74322\n",
      "[260]\tvalid_0's multi_logloss: 2.74334\n",
      "[261]\tvalid_0's multi_logloss: 2.7435\n",
      "[262]\tvalid_0's multi_logloss: 2.74357\n",
      "[263]\tvalid_0's multi_logloss: 2.74366\n",
      "[264]\tvalid_0's multi_logloss: 2.74374\n",
      "[265]\tvalid_0's multi_logloss: 2.74384\n",
      "[266]\tvalid_0's multi_logloss: 2.74391\n",
      "[267]\tvalid_0's multi_logloss: 2.74405\n",
      "[268]\tvalid_0's multi_logloss: 2.7441\n",
      "[269]\tvalid_0's multi_logloss: 2.74421\n",
      "[270]\tvalid_0's multi_logloss: 2.74429\n",
      "[271]\tvalid_0's multi_logloss: 2.7444\n",
      "[272]\tvalid_0's multi_logloss: 2.74446\n",
      "[273]\tvalid_0's multi_logloss: 2.74457\n",
      "[274]\tvalid_0's multi_logloss: 2.74461\n",
      "[275]\tvalid_0's multi_logloss: 2.74465\n",
      "[276]\tvalid_0's multi_logloss: 2.74471\n",
      "[277]\tvalid_0's multi_logloss: 2.74472\n",
      "[278]\tvalid_0's multi_logloss: 2.74473\n",
      "[279]\tvalid_0's multi_logloss: 2.74484\n",
      "[280]\tvalid_0's multi_logloss: 2.74484\n",
      "[281]\tvalid_0's multi_logloss: 2.74483\n",
      "[282]\tvalid_0's multi_logloss: 2.74504\n",
      "[283]\tvalid_0's multi_logloss: 2.74518\n",
      "[284]\tvalid_0's multi_logloss: 2.74532\n",
      "[285]\tvalid_0's multi_logloss: 2.74538\n",
      "[286]\tvalid_0's multi_logloss: 2.74552\n",
      "[287]\tvalid_0's multi_logloss: 2.74565\n",
      "[288]\tvalid_0's multi_logloss: 2.74567\n",
      "[289]\tvalid_0's multi_logloss: 2.74574\n",
      "[290]\tvalid_0's multi_logloss: 2.74585\n",
      "[291]\tvalid_0's multi_logloss: 2.74604\n",
      "[292]\tvalid_0's multi_logloss: 2.7461\n",
      "[293]\tvalid_0's multi_logloss: 2.7462\n",
      "[294]\tvalid_0's multi_logloss: 2.74632\n",
      "[295]\tvalid_0's multi_logloss: 2.74645\n",
      "[296]\tvalid_0's multi_logloss: 2.74647\n",
      "[297]\tvalid_0's multi_logloss: 2.74659\n",
      "[298]\tvalid_0's multi_logloss: 2.74663\n",
      "[299]\tvalid_0's multi_logloss: 2.74668\n",
      "[300]\tvalid_0's multi_logloss: 2.74686\n",
      "[301]\tvalid_0's multi_logloss: 2.74694\n",
      "[302]\tvalid_0's multi_logloss: 2.74706\n",
      "[303]\tvalid_0's multi_logloss: 2.74711\n",
      "[304]\tvalid_0's multi_logloss: 2.74731\n",
      "[305]\tvalid_0's multi_logloss: 2.74743\n",
      "[306]\tvalid_0's multi_logloss: 2.7475\n",
      "[307]\tvalid_0's multi_logloss: 2.7476\n",
      "[308]\tvalid_0's multi_logloss: 2.7477\n",
      "[309]\tvalid_0's multi_logloss: 2.74784\n",
      "[310]\tvalid_0's multi_logloss: 2.74804\n",
      "[311]\tvalid_0's multi_logloss: 2.74813\n",
      "[312]\tvalid_0's multi_logloss: 2.74821\n",
      "[313]\tvalid_0's multi_logloss: 2.74834\n",
      "[314]\tvalid_0's multi_logloss: 2.74848\n",
      "[315]\tvalid_0's multi_logloss: 2.74866\n",
      "[316]\tvalid_0's multi_logloss: 2.74881\n",
      "[317]\tvalid_0's multi_logloss: 2.7489\n",
      "[318]\tvalid_0's multi_logloss: 2.749\n",
      "[319]\tvalid_0's multi_logloss: 2.74912\n",
      "[320]\tvalid_0's multi_logloss: 2.74915\n",
      "[321]\tvalid_0's multi_logloss: 2.7493\n",
      "[322]\tvalid_0's multi_logloss: 2.74938\n",
      "[323]\tvalid_0's multi_logloss: 2.74952\n",
      "[324]\tvalid_0's multi_logloss: 2.74951\n",
      "[325]\tvalid_0's multi_logloss: 2.74959\n",
      "[326]\tvalid_0's multi_logloss: 2.74974\n",
      "[327]\tvalid_0's multi_logloss: 2.74983\n",
      "[328]\tvalid_0's multi_logloss: 2.74998\n",
      "[329]\tvalid_0's multi_logloss: 2.75008\n",
      "[330]\tvalid_0's multi_logloss: 2.75008\n",
      "[331]\tvalid_0's multi_logloss: 2.7502\n",
      "[332]\tvalid_0's multi_logloss: 2.75031\n",
      "[333]\tvalid_0's multi_logloss: 2.75042\n",
      "[334]\tvalid_0's multi_logloss: 2.7505\n",
      "[335]\tvalid_0's multi_logloss: 2.75058\n",
      "[336]\tvalid_0's multi_logloss: 2.75068\n",
      "[337]\tvalid_0's multi_logloss: 2.75085\n",
      "[338]\tvalid_0's multi_logloss: 2.75086\n",
      "[339]\tvalid_0's multi_logloss: 2.75095\n",
      "[340]\tvalid_0's multi_logloss: 2.75105\n",
      "[341]\tvalid_0's multi_logloss: 2.75115\n",
      "[342]\tvalid_0's multi_logloss: 2.75124\n",
      "[343]\tvalid_0's multi_logloss: 2.75137\n",
      "[344]\tvalid_0's multi_logloss: 2.7515\n",
      "[345]\tvalid_0's multi_logloss: 2.75162\n",
      "[346]\tvalid_0's multi_logloss: 2.75168\n",
      "[347]\tvalid_0's multi_logloss: 2.75178\n",
      "[348]\tvalid_0's multi_logloss: 2.75182\n",
      "[349]\tvalid_0's multi_logloss: 2.75193\n",
      "[350]\tvalid_0's multi_logloss: 2.75212\n",
      "[351]\tvalid_0's multi_logloss: 2.75219\n",
      "[352]\tvalid_0's multi_logloss: 2.75229\n",
      "[353]\tvalid_0's multi_logloss: 2.7524\n",
      "[354]\tvalid_0's multi_logloss: 2.75248\n",
      "[355]\tvalid_0's multi_logloss: 2.75256\n",
      "[356]\tvalid_0's multi_logloss: 2.75268\n",
      "[357]\tvalid_0's multi_logloss: 2.75281\n",
      "[358]\tvalid_0's multi_logloss: 2.75293\n",
      "[359]\tvalid_0's multi_logloss: 2.75305\n",
      "[360]\tvalid_0's multi_logloss: 2.75309\n",
      "[361]\tvalid_0's multi_logloss: 2.75314\n",
      "[362]\tvalid_0's multi_logloss: 2.75321\n",
      "[363]\tvalid_0's multi_logloss: 2.75327\n",
      "[364]\tvalid_0's multi_logloss: 2.75337\n",
      "[365]\tvalid_0's multi_logloss: 2.75341\n",
      "[366]\tvalid_0's multi_logloss: 2.75353\n",
      "[367]\tvalid_0's multi_logloss: 2.75371\n",
      "[368]\tvalid_0's multi_logloss: 2.75374\n",
      "[369]\tvalid_0's multi_logloss: 2.75388\n",
      "[370]\tvalid_0's multi_logloss: 2.75399\n",
      "[371]\tvalid_0's multi_logloss: 2.75413\n",
      "[372]\tvalid_0's multi_logloss: 2.75414\n",
      "[373]\tvalid_0's multi_logloss: 2.75421\n",
      "[374]\tvalid_0's multi_logloss: 2.75436\n",
      "[375]\tvalid_0's multi_logloss: 2.75447\n",
      "[376]\tvalid_0's multi_logloss: 2.75461\n",
      "[377]\tvalid_0's multi_logloss: 2.75472\n",
      "[378]\tvalid_0's multi_logloss: 2.75485\n",
      "[379]\tvalid_0's multi_logloss: 2.75495\n",
      "[380]\tvalid_0's multi_logloss: 2.755\n",
      "[381]\tvalid_0's multi_logloss: 2.75516\n",
      "[382]\tvalid_0's multi_logloss: 2.75533\n",
      "[383]\tvalid_0's multi_logloss: 2.75552\n",
      "[384]\tvalid_0's multi_logloss: 2.75563\n",
      "[385]\tvalid_0's multi_logloss: 2.75572\n",
      "[386]\tvalid_0's multi_logloss: 2.75587\n",
      "[387]\tvalid_0's multi_logloss: 2.75598\n",
      "[388]\tvalid_0's multi_logloss: 2.75612\n",
      "[389]\tvalid_0's multi_logloss: 2.75623\n",
      "[390]\tvalid_0's multi_logloss: 2.75635\n",
      "[391]\tvalid_0's multi_logloss: 2.75644\n",
      "[392]\tvalid_0's multi_logloss: 2.75651\n",
      "[393]\tvalid_0's multi_logloss: 2.75665\n",
      "[394]\tvalid_0's multi_logloss: 2.75672\n",
      "Early stopping, best iteration is:\n",
      "[94]\tvalid_0's multi_logloss: 2.73059\n"
     ]
    }
   ],
   "source": [
    "gbm = lgb.train(params,\n",
    "lgb_train,\n",
    "num_boost_round=1000,\n",
    "valid_sets=lgb_eval,\n",
    "early_stopping_rounds=300)"
   ]
  },
  {
   "cell_type": "code",
   "execution_count": 42,
   "metadata": {},
   "outputs": [],
   "source": [
    "pre_x=test.drop(['sex','age','sex_age','device_id'],axis=1)\n",
    "sub=pd.DataFrame(gbm.predict(pre_x.values,num_iteration=gbm.best_iteration))\n",
    "\n",
    "sub.columns=Y_CAT.categories\n",
    "sub['DeviceID']=test['device_id'].values\n",
    "sub=sub[['DeviceID', '1-0', '1-1', '1-2', '1-3', '1-4', '1-5', '1-6', '1-7','1-8', '1-9', '1-10', '2-0', '2-1', '2-2', '2-3', '2-4', '2-5', '2-6', '2-7', '2-8', '2-9', '2-10']]\n",
    "sub.to_csv('baseline.csv',index=False)"
   ]
  },
  {
   "cell_type": "code",
   "execution_count": 81,
   "metadata": {},
   "outputs": [],
   "source": [
    "# 再试试我之前的特征的结果，用light gbm的结果\n",
    "train_df = pd.read_csv(\"train_1.data\")\n",
    "test_df = pd.read_csv(\"test_1.data\")\n",
    "train_df=pd.concat([train_df,test_df])\n",
    "\n",
    "train_df['gender']=train_df['gender'].apply(lambda x:str(x))\n",
    "train_df['age']=train_df['age'].apply(lambda x:str(x))\n",
    "def tool(x):\n",
    "    if x=='nan':\n",
    "        return x\n",
    "    else:\n",
    "        return str(int(float(x)))\n",
    "train_df['gender']=train_df['gender'].apply(tool)\n",
    "train_df['age']=train_df['age'].apply(tool)\n",
    "train_df['sex_age']=train_df['gender']+'-'+train_df['age']"
   ]
  },
  {
   "cell_type": "code",
   "execution_count": 82,
   "metadata": {},
   "outputs": [
    {
     "data": {
      "text/html": [
       "<div>\n",
       "<style>\n",
       "    .dataframe thead tr:only-child th {\n",
       "        text-align: right;\n",
       "    }\n",
       "\n",
       "    .dataframe thead th {\n",
       "        text-align: left;\n",
       "    }\n",
       "\n",
       "    .dataframe tbody tr th {\n",
       "        vertical-align: top;\n",
       "    }\n",
       "</style>\n",
       "<table border=\"1\" class=\"dataframe\">\n",
       "  <thead>\n",
       "    <tr style=\"text-align: right;\">\n",
       "      <th></th>\n",
       "      <th>0</th>\n",
       "      <th>1</th>\n",
       "      <th>10</th>\n",
       "      <th>100</th>\n",
       "      <th>101</th>\n",
       "      <th>102</th>\n",
       "      <th>103</th>\n",
       "      <th>104</th>\n",
       "      <th>105</th>\n",
       "      <th>106</th>\n",
       "      <th>...</th>\n",
       "      <th>93</th>\n",
       "      <th>94</th>\n",
       "      <th>95</th>\n",
       "      <th>96</th>\n",
       "      <th>97</th>\n",
       "      <th>98</th>\n",
       "      <th>99</th>\n",
       "      <th>age</th>\n",
       "      <th>gender</th>\n",
       "      <th>sex_age</th>\n",
       "    </tr>\n",
       "  </thead>\n",
       "  <tbody>\n",
       "    <tr>\n",
       "      <th>0</th>\n",
       "      <td>0</td>\n",
       "      <td>0</td>\n",
       "      <td>0</td>\n",
       "      <td>0</td>\n",
       "      <td>0</td>\n",
       "      <td>0</td>\n",
       "      <td>0</td>\n",
       "      <td>0</td>\n",
       "      <td>0</td>\n",
       "      <td>0</td>\n",
       "      <td>...</td>\n",
       "      <td>0</td>\n",
       "      <td>0</td>\n",
       "      <td>0</td>\n",
       "      <td>0</td>\n",
       "      <td>0</td>\n",
       "      <td>0</td>\n",
       "      <td>0</td>\n",
       "      <td>3</td>\n",
       "      <td>1</td>\n",
       "      <td>1-3</td>\n",
       "    </tr>\n",
       "    <tr>\n",
       "      <th>1</th>\n",
       "      <td>0</td>\n",
       "      <td>0</td>\n",
       "      <td>0</td>\n",
       "      <td>0</td>\n",
       "      <td>0</td>\n",
       "      <td>0</td>\n",
       "      <td>0</td>\n",
       "      <td>0</td>\n",
       "      <td>0</td>\n",
       "      <td>0</td>\n",
       "      <td>...</td>\n",
       "      <td>0</td>\n",
       "      <td>0</td>\n",
       "      <td>0</td>\n",
       "      <td>0</td>\n",
       "      <td>0</td>\n",
       "      <td>0</td>\n",
       "      <td>0</td>\n",
       "      <td>5</td>\n",
       "      <td>1</td>\n",
       "      <td>1-5</td>\n",
       "    </tr>\n",
       "    <tr>\n",
       "      <th>2</th>\n",
       "      <td>0</td>\n",
       "      <td>0</td>\n",
       "      <td>0</td>\n",
       "      <td>0</td>\n",
       "      <td>0</td>\n",
       "      <td>0</td>\n",
       "      <td>0</td>\n",
       "      <td>0</td>\n",
       "      <td>0</td>\n",
       "      <td>0</td>\n",
       "      <td>...</td>\n",
       "      <td>0</td>\n",
       "      <td>0</td>\n",
       "      <td>0</td>\n",
       "      <td>0</td>\n",
       "      <td>0</td>\n",
       "      <td>0</td>\n",
       "      <td>0</td>\n",
       "      <td>5</td>\n",
       "      <td>2</td>\n",
       "      <td>2-5</td>\n",
       "    </tr>\n",
       "    <tr>\n",
       "      <th>3</th>\n",
       "      <td>0</td>\n",
       "      <td>0</td>\n",
       "      <td>0</td>\n",
       "      <td>0</td>\n",
       "      <td>0</td>\n",
       "      <td>0</td>\n",
       "      <td>0</td>\n",
       "      <td>0</td>\n",
       "      <td>0</td>\n",
       "      <td>0</td>\n",
       "      <td>...</td>\n",
       "      <td>0</td>\n",
       "      <td>0</td>\n",
       "      <td>0</td>\n",
       "      <td>0</td>\n",
       "      <td>0</td>\n",
       "      <td>0</td>\n",
       "      <td>0</td>\n",
       "      <td>4</td>\n",
       "      <td>1</td>\n",
       "      <td>1-4</td>\n",
       "    </tr>\n",
       "    <tr>\n",
       "      <th>4</th>\n",
       "      <td>0</td>\n",
       "      <td>0</td>\n",
       "      <td>0</td>\n",
       "      <td>0</td>\n",
       "      <td>0</td>\n",
       "      <td>0</td>\n",
       "      <td>0</td>\n",
       "      <td>0</td>\n",
       "      <td>0</td>\n",
       "      <td>0</td>\n",
       "      <td>...</td>\n",
       "      <td>0</td>\n",
       "      <td>0</td>\n",
       "      <td>0</td>\n",
       "      <td>0</td>\n",
       "      <td>0</td>\n",
       "      <td>0</td>\n",
       "      <td>0</td>\n",
       "      <td>3</td>\n",
       "      <td>1</td>\n",
       "      <td>1-3</td>\n",
       "    </tr>\n",
       "  </tbody>\n",
       "</table>\n",
       "<p>5 rows × 250 columns</p>\n",
       "</div>"
      ],
      "text/plain": [
       "   0  1  10  100  101  102  103  104  105  106   ...     93  94  95  96  97  \\\n",
       "0  0  0   0    0    0    0    0    0    0    0   ...      0   0   0   0   0   \n",
       "1  0  0   0    0    0    0    0    0    0    0   ...      0   0   0   0   0   \n",
       "2  0  0   0    0    0    0    0    0    0    0   ...      0   0   0   0   0   \n",
       "3  0  0   0    0    0    0    0    0    0    0   ...      0   0   0   0   0   \n",
       "4  0  0   0    0    0    0    0    0    0    0   ...      0   0   0   0   0   \n",
       "\n",
       "   98  99  age  gender  sex_age  \n",
       "0   0   0    3       1      1-3  \n",
       "1   0   0    5       1      1-5  \n",
       "2   0   0    5       2      2-5  \n",
       "3   0   0    4       1      1-4  \n",
       "4   0   0    3       1      1-3  \n",
       "\n",
       "[5 rows x 250 columns]"
      ]
     },
     "execution_count": 82,
     "metadata": {},
     "output_type": "execute_result"
    }
   ],
   "source": [
    "train_df=train_df.replace({'nan':np.NaN,'nan-nan':np.NaN})\n",
    "train_df.head()"
   ]
  },
  {
   "cell_type": "code",
   "execution_count": 83,
   "metadata": {},
   "outputs": [],
   "source": [
    "train=train_df[train_df['gender'].notnull()]\n",
    "test=train_df[train_df['gender'].isnull()]"
   ]
  },
  {
   "cell_type": "code",
   "execution_count": 87,
   "metadata": {},
   "outputs": [
    {
     "name": "stderr",
     "output_type": "stream",
     "text": [
      "d:\\python35\\lib\\site-packages\\ipykernel_launcher.py:4: FutureWarning: 'labels' is deprecated. Use 'codes' instead\n",
      "  after removing the cwd from sys.path.\n"
     ]
    }
   ],
   "source": [
    "X=train.drop(['gender','age','sex_age'],axis=1)\n",
    "Y=train['sex_age']\n",
    "Y_CAT=pd.Categorical(Y)\n",
    "X_train,X_test, y_train, y_test =train_test_split(X,Y_CAT.labels,test_size=0.3, random_state=666)"
   ]
  },
  {
   "cell_type": "code",
   "execution_count": 88,
   "metadata": {},
   "outputs": [],
   "source": [
    "lgb_train=lgb.Dataset(X_train,label=y_train)\n",
    "lgb_eval = lgb.Dataset(X_test, y_test, reference=lgb_train)\n",
    "params = {\n",
    "    'boosting_type': 'gbdt',\n",
    "    'max_depth':3,\n",
    "    'metric': {'multi_logloss'},\n",
    "    'num_class':22,\n",
    "    'objective':'multiclass',\n",
    "    'random_state':666,\n",
    "    \n",
    "}"
   ]
  },
  {
   "cell_type": "code",
   "execution_count": 89,
   "metadata": {},
   "outputs": [
    {
     "name": "stdout",
     "output_type": "stream",
     "text": [
      "[1]\tvalid_0's multi_logloss: 3.05407\n",
      "Training until validation scores don't improve for 300 rounds.\n",
      "[2]\tvalid_0's multi_logloss: 3.02295\n",
      "[3]\tvalid_0's multi_logloss: 2.99594\n",
      "[4]\tvalid_0's multi_logloss: 2.97252\n",
      "[5]\tvalid_0's multi_logloss: 2.95127\n",
      "[6]\tvalid_0's multi_logloss: 2.93252\n",
      "[7]\tvalid_0's multi_logloss: 2.91542\n",
      "[8]\tvalid_0's multi_logloss: 2.90032\n",
      "[9]\tvalid_0's multi_logloss: 2.88647\n",
      "[10]\tvalid_0's multi_logloss: 2.87418\n",
      "[11]\tvalid_0's multi_logloss: 2.86271\n",
      "[12]\tvalid_0's multi_logloss: 2.85247\n",
      "[13]\tvalid_0's multi_logloss: 2.84274\n",
      "[14]\tvalid_0's multi_logloss: 2.83364\n",
      "[15]\tvalid_0's multi_logloss: 2.82547\n",
      "[16]\tvalid_0's multi_logloss: 2.81789\n",
      "[17]\tvalid_0's multi_logloss: 2.81067\n",
      "[18]\tvalid_0's multi_logloss: 2.80434\n",
      "[19]\tvalid_0's multi_logloss: 2.79823\n",
      "[20]\tvalid_0's multi_logloss: 2.79258\n",
      "[21]\tvalid_0's multi_logloss: 2.78736\n",
      "[22]\tvalid_0's multi_logloss: 2.7825\n",
      "[23]\tvalid_0's multi_logloss: 2.77771\n",
      "[24]\tvalid_0's multi_logloss: 2.77356\n",
      "[25]\tvalid_0's multi_logloss: 2.76923\n",
      "[26]\tvalid_0's multi_logloss: 2.7654\n",
      "[27]\tvalid_0's multi_logloss: 2.76178\n",
      "[28]\tvalid_0's multi_logloss: 2.7582\n",
      "[29]\tvalid_0's multi_logloss: 2.75473\n",
      "[30]\tvalid_0's multi_logloss: 2.75179\n",
      "[31]\tvalid_0's multi_logloss: 2.74881\n",
      "[32]\tvalid_0's multi_logloss: 2.74602\n",
      "[33]\tvalid_0's multi_logloss: 2.74351\n",
      "[34]\tvalid_0's multi_logloss: 2.74095\n",
      "[35]\tvalid_0's multi_logloss: 2.73846\n",
      "[36]\tvalid_0's multi_logloss: 2.73641\n",
      "[37]\tvalid_0's multi_logloss: 2.73429\n",
      "[38]\tvalid_0's multi_logloss: 2.73229\n",
      "[39]\tvalid_0's multi_logloss: 2.73051\n",
      "[40]\tvalid_0's multi_logloss: 2.72871\n",
      "[41]\tvalid_0's multi_logloss: 2.72717\n",
      "[42]\tvalid_0's multi_logloss: 2.72548\n",
      "[43]\tvalid_0's multi_logloss: 2.72376\n",
      "[44]\tvalid_0's multi_logloss: 2.72215\n",
      "[45]\tvalid_0's multi_logloss: 2.7208\n",
      "[46]\tvalid_0's multi_logloss: 2.71938\n",
      "[47]\tvalid_0's multi_logloss: 2.71815\n",
      "[48]\tvalid_0's multi_logloss: 2.71688\n",
      "[49]\tvalid_0's multi_logloss: 2.71591\n",
      "[50]\tvalid_0's multi_logloss: 2.7147\n",
      "[51]\tvalid_0's multi_logloss: 2.71372\n",
      "[52]\tvalid_0's multi_logloss: 2.7126\n",
      "[53]\tvalid_0's multi_logloss: 2.7116\n",
      "[54]\tvalid_0's multi_logloss: 2.71056\n",
      "[55]\tvalid_0's multi_logloss: 2.70963\n",
      "[56]\tvalid_0's multi_logloss: 2.70869\n",
      "[57]\tvalid_0's multi_logloss: 2.70784\n",
      "[58]\tvalid_0's multi_logloss: 2.70698\n",
      "[59]\tvalid_0's multi_logloss: 2.70607\n",
      "[60]\tvalid_0's multi_logloss: 2.70532\n",
      "[61]\tvalid_0's multi_logloss: 2.70461\n",
      "[62]\tvalid_0's multi_logloss: 2.70382\n",
      "[63]\tvalid_0's multi_logloss: 2.70314\n",
      "[64]\tvalid_0's multi_logloss: 2.70245\n",
      "[65]\tvalid_0's multi_logloss: 2.70177\n",
      "[66]\tvalid_0's multi_logloss: 2.7012\n",
      "[67]\tvalid_0's multi_logloss: 2.70065\n",
      "[68]\tvalid_0's multi_logloss: 2.70006\n",
      "[69]\tvalid_0's multi_logloss: 2.6994\n",
      "[70]\tvalid_0's multi_logloss: 2.69883\n",
      "[71]\tvalid_0's multi_logloss: 2.69843\n",
      "[72]\tvalid_0's multi_logloss: 2.6979\n",
      "[73]\tvalid_0's multi_logloss: 2.69747\n",
      "[74]\tvalid_0's multi_logloss: 2.69712\n",
      "[75]\tvalid_0's multi_logloss: 2.69643\n",
      "[76]\tvalid_0's multi_logloss: 2.69595\n",
      "[77]\tvalid_0's multi_logloss: 2.69555\n",
      "[78]\tvalid_0's multi_logloss: 2.69508\n",
      "[79]\tvalid_0's multi_logloss: 2.69467\n",
      "[80]\tvalid_0's multi_logloss: 2.6941\n",
      "[81]\tvalid_0's multi_logloss: 2.69385\n",
      "[82]\tvalid_0's multi_logloss: 2.69339\n",
      "[83]\tvalid_0's multi_logloss: 2.69307\n",
      "[84]\tvalid_0's multi_logloss: 2.6928\n",
      "[85]\tvalid_0's multi_logloss: 2.6924\n",
      "[86]\tvalid_0's multi_logloss: 2.69196\n",
      "[87]\tvalid_0's multi_logloss: 2.69163\n",
      "[88]\tvalid_0's multi_logloss: 2.69119\n",
      "[89]\tvalid_0's multi_logloss: 2.69094\n",
      "[90]\tvalid_0's multi_logloss: 2.6907\n",
      "[91]\tvalid_0's multi_logloss: 2.69034\n",
      "[92]\tvalid_0's multi_logloss: 2.6901\n",
      "[93]\tvalid_0's multi_logloss: 2.6897\n",
      "[94]\tvalid_0's multi_logloss: 2.68948\n",
      "[95]\tvalid_0's multi_logloss: 2.68916\n",
      "[96]\tvalid_0's multi_logloss: 2.68881\n",
      "[97]\tvalid_0's multi_logloss: 2.68862\n",
      "[98]\tvalid_0's multi_logloss: 2.6886\n",
      "[99]\tvalid_0's multi_logloss: 2.68837\n",
      "[100]\tvalid_0's multi_logloss: 2.68809\n",
      "[101]\tvalid_0's multi_logloss: 2.68779\n",
      "[102]\tvalid_0's multi_logloss: 2.68747\n",
      "[103]\tvalid_0's multi_logloss: 2.68724\n",
      "[104]\tvalid_0's multi_logloss: 2.68684\n",
      "[105]\tvalid_0's multi_logloss: 2.68673\n",
      "[106]\tvalid_0's multi_logloss: 2.68646\n",
      "[107]\tvalid_0's multi_logloss: 2.68619\n",
      "[108]\tvalid_0's multi_logloss: 2.68601\n",
      "[109]\tvalid_0's multi_logloss: 2.68595\n",
      "[110]\tvalid_0's multi_logloss: 2.68568\n",
      "[111]\tvalid_0's multi_logloss: 2.68547\n",
      "[112]\tvalid_0's multi_logloss: 2.68523\n",
      "[113]\tvalid_0's multi_logloss: 2.68495\n",
      "[114]\tvalid_0's multi_logloss: 2.68477\n",
      "[115]\tvalid_0's multi_logloss: 2.68463\n",
      "[116]\tvalid_0's multi_logloss: 2.68449\n",
      "[117]\tvalid_0's multi_logloss: 2.68437\n",
      "[118]\tvalid_0's multi_logloss: 2.68423\n",
      "[119]\tvalid_0's multi_logloss: 2.68404\n",
      "[120]\tvalid_0's multi_logloss: 2.68392\n",
      "[121]\tvalid_0's multi_logloss: 2.68382\n",
      "[122]\tvalid_0's multi_logloss: 2.68361\n",
      "[123]\tvalid_0's multi_logloss: 2.6835\n",
      "[124]\tvalid_0's multi_logloss: 2.68334\n",
      "[125]\tvalid_0's multi_logloss: 2.68323\n",
      "[126]\tvalid_0's multi_logloss: 2.68301\n",
      "[127]\tvalid_0's multi_logloss: 2.68288\n",
      "[128]\tvalid_0's multi_logloss: 2.68275\n",
      "[129]\tvalid_0's multi_logloss: 2.68252\n",
      "[130]\tvalid_0's multi_logloss: 2.68231\n",
      "[131]\tvalid_0's multi_logloss: 2.68218\n",
      "[132]\tvalid_0's multi_logloss: 2.68196\n",
      "[133]\tvalid_0's multi_logloss: 2.68187\n",
      "[134]\tvalid_0's multi_logloss: 2.68177\n",
      "[135]\tvalid_0's multi_logloss: 2.68162\n",
      "[136]\tvalid_0's multi_logloss: 2.68154\n",
      "[137]\tvalid_0's multi_logloss: 2.68139\n",
      "[138]\tvalid_0's multi_logloss: 2.68117\n",
      "[139]\tvalid_0's multi_logloss: 2.68098\n",
      "[140]\tvalid_0's multi_logloss: 2.68077\n",
      "[141]\tvalid_0's multi_logloss: 2.68073\n",
      "[142]\tvalid_0's multi_logloss: 2.68066\n",
      "[143]\tvalid_0's multi_logloss: 2.68065\n",
      "[144]\tvalid_0's multi_logloss: 2.6805\n",
      "[145]\tvalid_0's multi_logloss: 2.68026\n",
      "[146]\tvalid_0's multi_logloss: 2.68014\n",
      "[147]\tvalid_0's multi_logloss: 2.68\n",
      "[148]\tvalid_0's multi_logloss: 2.68003\n",
      "[149]\tvalid_0's multi_logloss: 2.67997\n",
      "[150]\tvalid_0's multi_logloss: 2.67983\n",
      "[151]\tvalid_0's multi_logloss: 2.67971\n",
      "[152]\tvalid_0's multi_logloss: 2.6796\n",
      "[153]\tvalid_0's multi_logloss: 2.67959\n",
      "[154]\tvalid_0's multi_logloss: 2.6796\n",
      "[155]\tvalid_0's multi_logloss: 2.67967\n",
      "[156]\tvalid_0's multi_logloss: 2.67958\n",
      "[157]\tvalid_0's multi_logloss: 2.67953\n",
      "[158]\tvalid_0's multi_logloss: 2.67948\n",
      "[159]\tvalid_0's multi_logloss: 2.67953\n",
      "[160]\tvalid_0's multi_logloss: 2.67937\n",
      "[161]\tvalid_0's multi_logloss: 2.67926\n",
      "[162]\tvalid_0's multi_logloss: 2.67922\n",
      "[163]\tvalid_0's multi_logloss: 2.67919\n",
      "[164]\tvalid_0's multi_logloss: 2.67914\n",
      "[165]\tvalid_0's multi_logloss: 2.67908\n",
      "[166]\tvalid_0's multi_logloss: 2.679\n",
      "[167]\tvalid_0's multi_logloss: 2.67898\n",
      "[168]\tvalid_0's multi_logloss: 2.6789\n",
      "[169]\tvalid_0's multi_logloss: 2.67876\n",
      "[170]\tvalid_0's multi_logloss: 2.67865\n",
      "[171]\tvalid_0's multi_logloss: 2.67859\n",
      "[172]\tvalid_0's multi_logloss: 2.67849\n",
      "[173]\tvalid_0's multi_logloss: 2.67834\n",
      "[174]\tvalid_0's multi_logloss: 2.67828\n",
      "[175]\tvalid_0's multi_logloss: 2.67813\n",
      "[176]\tvalid_0's multi_logloss: 2.67806\n",
      "[177]\tvalid_0's multi_logloss: 2.67807\n",
      "[178]\tvalid_0's multi_logloss: 2.67803\n",
      "[179]\tvalid_0's multi_logloss: 2.67798\n",
      "[180]\tvalid_0's multi_logloss: 2.67796\n",
      "[181]\tvalid_0's multi_logloss: 2.67788\n",
      "[182]\tvalid_0's multi_logloss: 2.67784\n",
      "[183]\tvalid_0's multi_logloss: 2.67773\n",
      "[184]\tvalid_0's multi_logloss: 2.67765\n",
      "[185]\tvalid_0's multi_logloss: 2.67764\n",
      "[186]\tvalid_0's multi_logloss: 2.67757\n",
      "[187]\tvalid_0's multi_logloss: 2.67761\n",
      "[188]\tvalid_0's multi_logloss: 2.67753\n",
      "[189]\tvalid_0's multi_logloss: 2.67741\n",
      "[190]\tvalid_0's multi_logloss: 2.67734\n",
      "[191]\tvalid_0's multi_logloss: 2.67733\n",
      "[192]\tvalid_0's multi_logloss: 2.67724\n",
      "[193]\tvalid_0's multi_logloss: 2.67719\n",
      "[194]\tvalid_0's multi_logloss: 2.67726\n",
      "[195]\tvalid_0's multi_logloss: 2.67717\n",
      "[196]\tvalid_0's multi_logloss: 2.67712\n",
      "[197]\tvalid_0's multi_logloss: 2.67703\n",
      "[198]\tvalid_0's multi_logloss: 2.67707\n",
      "[199]\tvalid_0's multi_logloss: 2.67705\n",
      "[200]\tvalid_0's multi_logloss: 2.67695\n",
      "[201]\tvalid_0's multi_logloss: 2.67695\n",
      "[202]\tvalid_0's multi_logloss: 2.67694\n",
      "[203]\tvalid_0's multi_logloss: 2.67692\n",
      "[204]\tvalid_0's multi_logloss: 2.67697\n",
      "[205]\tvalid_0's multi_logloss: 2.6769\n",
      "[206]\tvalid_0's multi_logloss: 2.67697\n",
      "[207]\tvalid_0's multi_logloss: 2.67681\n",
      "[208]\tvalid_0's multi_logloss: 2.67676\n",
      "[209]\tvalid_0's multi_logloss: 2.67679\n",
      "[210]\tvalid_0's multi_logloss: 2.67679\n",
      "[211]\tvalid_0's multi_logloss: 2.67679\n"
     ]
    },
    {
     "name": "stdout",
     "output_type": "stream",
     "text": [
      "[212]\tvalid_0's multi_logloss: 2.67674\n",
      "[213]\tvalid_0's multi_logloss: 2.67677\n",
      "[214]\tvalid_0's multi_logloss: 2.67666\n",
      "[215]\tvalid_0's multi_logloss: 2.67664\n",
      "[216]\tvalid_0's multi_logloss: 2.67668\n",
      "[217]\tvalid_0's multi_logloss: 2.67668\n",
      "[218]\tvalid_0's multi_logloss: 2.67666\n",
      "[219]\tvalid_0's multi_logloss: 2.67668\n",
      "[220]\tvalid_0's multi_logloss: 2.67672\n",
      "[221]\tvalid_0's multi_logloss: 2.67674\n",
      "[222]\tvalid_0's multi_logloss: 2.67679\n",
      "[223]\tvalid_0's multi_logloss: 2.67681\n",
      "[224]\tvalid_0's multi_logloss: 2.67677\n",
      "[225]\tvalid_0's multi_logloss: 2.67685\n",
      "[226]\tvalid_0's multi_logloss: 2.67689\n",
      "[227]\tvalid_0's multi_logloss: 2.67686\n",
      "[228]\tvalid_0's multi_logloss: 2.67686\n",
      "[229]\tvalid_0's multi_logloss: 2.6768\n",
      "[230]\tvalid_0's multi_logloss: 2.67677\n",
      "[231]\tvalid_0's multi_logloss: 2.67682\n",
      "[232]\tvalid_0's multi_logloss: 2.67672\n",
      "[233]\tvalid_0's multi_logloss: 2.67667\n",
      "[234]\tvalid_0's multi_logloss: 2.67673\n",
      "[235]\tvalid_0's multi_logloss: 2.67674\n",
      "[236]\tvalid_0's multi_logloss: 2.67675\n",
      "[237]\tvalid_0's multi_logloss: 2.67674\n",
      "[238]\tvalid_0's multi_logloss: 2.67672\n",
      "[239]\tvalid_0's multi_logloss: 2.67679\n",
      "[240]\tvalid_0's multi_logloss: 2.67682\n",
      "[241]\tvalid_0's multi_logloss: 2.67686\n",
      "[242]\tvalid_0's multi_logloss: 2.67686\n",
      "[243]\tvalid_0's multi_logloss: 2.67679\n",
      "[244]\tvalid_0's multi_logloss: 2.67683\n",
      "[245]\tvalid_0's multi_logloss: 2.6768\n",
      "[246]\tvalid_0's multi_logloss: 2.67678\n",
      "[247]\tvalid_0's multi_logloss: 2.67682\n",
      "[248]\tvalid_0's multi_logloss: 2.6769\n",
      "[249]\tvalid_0's multi_logloss: 2.67687\n",
      "[250]\tvalid_0's multi_logloss: 2.67686\n",
      "[251]\tvalid_0's multi_logloss: 2.67698\n",
      "[252]\tvalid_0's multi_logloss: 2.67704\n",
      "[253]\tvalid_0's multi_logloss: 2.67712\n",
      "[254]\tvalid_0's multi_logloss: 2.67718\n",
      "[255]\tvalid_0's multi_logloss: 2.67721\n",
      "[256]\tvalid_0's multi_logloss: 2.67729\n",
      "[257]\tvalid_0's multi_logloss: 2.67732\n",
      "[258]\tvalid_0's multi_logloss: 2.67728\n",
      "[259]\tvalid_0's multi_logloss: 2.6772\n",
      "[260]\tvalid_0's multi_logloss: 2.67712\n",
      "[261]\tvalid_0's multi_logloss: 2.67706\n",
      "[262]\tvalid_0's multi_logloss: 2.677\n",
      "[263]\tvalid_0's multi_logloss: 2.67707\n",
      "[264]\tvalid_0's multi_logloss: 2.67702\n",
      "[265]\tvalid_0's multi_logloss: 2.67701\n",
      "[266]\tvalid_0's multi_logloss: 2.67699\n",
      "[267]\tvalid_0's multi_logloss: 2.67703\n",
      "[268]\tvalid_0's multi_logloss: 2.67712\n",
      "[269]\tvalid_0's multi_logloss: 2.67718\n",
      "[270]\tvalid_0's multi_logloss: 2.67726\n",
      "[271]\tvalid_0's multi_logloss: 2.67728\n",
      "[272]\tvalid_0's multi_logloss: 2.67729\n",
      "[273]\tvalid_0's multi_logloss: 2.67736\n",
      "[274]\tvalid_0's multi_logloss: 2.67729\n",
      "[275]\tvalid_0's multi_logloss: 2.6774\n",
      "[276]\tvalid_0's multi_logloss: 2.6774\n",
      "[277]\tvalid_0's multi_logloss: 2.67735\n",
      "[278]\tvalid_0's multi_logloss: 2.67737\n",
      "[279]\tvalid_0's multi_logloss: 2.67731\n",
      "[280]\tvalid_0's multi_logloss: 2.67739\n",
      "[281]\tvalid_0's multi_logloss: 2.6774\n",
      "[282]\tvalid_0's multi_logloss: 2.67752\n",
      "[283]\tvalid_0's multi_logloss: 2.67759\n",
      "[284]\tvalid_0's multi_logloss: 2.67753\n",
      "[285]\tvalid_0's multi_logloss: 2.67754\n",
      "[286]\tvalid_0's multi_logloss: 2.67758\n",
      "[287]\tvalid_0's multi_logloss: 2.6776\n",
      "[288]\tvalid_0's multi_logloss: 2.67763\n",
      "[289]\tvalid_0's multi_logloss: 2.67768\n",
      "[290]\tvalid_0's multi_logloss: 2.67776\n",
      "[291]\tvalid_0's multi_logloss: 2.67777\n",
      "[292]\tvalid_0's multi_logloss: 2.67781\n",
      "[293]\tvalid_0's multi_logloss: 2.67786\n",
      "[294]\tvalid_0's multi_logloss: 2.67791\n",
      "[295]\tvalid_0's multi_logloss: 2.67788\n",
      "[296]\tvalid_0's multi_logloss: 2.67794\n",
      "[297]\tvalid_0's multi_logloss: 2.678\n",
      "[298]\tvalid_0's multi_logloss: 2.67804\n",
      "[299]\tvalid_0's multi_logloss: 2.6781\n",
      "[300]\tvalid_0's multi_logloss: 2.67803\n",
      "[301]\tvalid_0's multi_logloss: 2.67798\n",
      "[302]\tvalid_0's multi_logloss: 2.67805\n",
      "[303]\tvalid_0's multi_logloss: 2.67801\n",
      "[304]\tvalid_0's multi_logloss: 2.6781\n",
      "[305]\tvalid_0's multi_logloss: 2.67806\n",
      "[306]\tvalid_0's multi_logloss: 2.67818\n",
      "[307]\tvalid_0's multi_logloss: 2.67813\n",
      "[308]\tvalid_0's multi_logloss: 2.67828\n",
      "[309]\tvalid_0's multi_logloss: 2.67827\n",
      "[310]\tvalid_0's multi_logloss: 2.67832\n",
      "[311]\tvalid_0's multi_logloss: 2.67839\n",
      "[312]\tvalid_0's multi_logloss: 2.67842\n",
      "[313]\tvalid_0's multi_logloss: 2.67844\n",
      "[314]\tvalid_0's multi_logloss: 2.67848\n",
      "[315]\tvalid_0's multi_logloss: 2.67855\n",
      "[316]\tvalid_0's multi_logloss: 2.67853\n",
      "[317]\tvalid_0's multi_logloss: 2.67844\n",
      "[318]\tvalid_0's multi_logloss: 2.67849\n",
      "[319]\tvalid_0's multi_logloss: 2.67849\n",
      "[320]\tvalid_0's multi_logloss: 2.67851\n",
      "[321]\tvalid_0's multi_logloss: 2.67855\n",
      "[322]\tvalid_0's multi_logloss: 2.67851\n",
      "[323]\tvalid_0's multi_logloss: 2.67862\n",
      "[324]\tvalid_0's multi_logloss: 2.67873\n",
      "[325]\tvalid_0's multi_logloss: 2.6788\n",
      "[326]\tvalid_0's multi_logloss: 2.67882\n",
      "[327]\tvalid_0's multi_logloss: 2.67891\n",
      "[328]\tvalid_0's multi_logloss: 2.67904\n",
      "[329]\tvalid_0's multi_logloss: 2.6791\n",
      "[330]\tvalid_0's multi_logloss: 2.67919\n",
      "[331]\tvalid_0's multi_logloss: 2.67928\n",
      "[332]\tvalid_0's multi_logloss: 2.67935\n",
      "[333]\tvalid_0's multi_logloss: 2.67942\n",
      "[334]\tvalid_0's multi_logloss: 2.67945\n",
      "[335]\tvalid_0's multi_logloss: 2.67942\n",
      "[336]\tvalid_0's multi_logloss: 2.67941\n",
      "[337]\tvalid_0's multi_logloss: 2.67942\n",
      "[338]\tvalid_0's multi_logloss: 2.67937\n",
      "[339]\tvalid_0's multi_logloss: 2.67938\n",
      "[340]\tvalid_0's multi_logloss: 2.67942\n",
      "[341]\tvalid_0's multi_logloss: 2.67943\n",
      "[342]\tvalid_0's multi_logloss: 2.67951\n",
      "[343]\tvalid_0's multi_logloss: 2.67955\n",
      "[344]\tvalid_0's multi_logloss: 2.67958\n",
      "[345]\tvalid_0's multi_logloss: 2.67956\n",
      "[346]\tvalid_0's multi_logloss: 2.67963\n",
      "[347]\tvalid_0's multi_logloss: 2.67963\n",
      "[348]\tvalid_0's multi_logloss: 2.67956\n",
      "[349]\tvalid_0's multi_logloss: 2.67952\n",
      "[350]\tvalid_0's multi_logloss: 2.67956\n",
      "[351]\tvalid_0's multi_logloss: 2.67963\n",
      "[352]\tvalid_0's multi_logloss: 2.67958\n",
      "[353]\tvalid_0's multi_logloss: 2.67956\n",
      "[354]\tvalid_0's multi_logloss: 2.67965\n",
      "[355]\tvalid_0's multi_logloss: 2.67973\n",
      "[356]\tvalid_0's multi_logloss: 2.67985\n",
      "[357]\tvalid_0's multi_logloss: 2.67989\n",
      "[358]\tvalid_0's multi_logloss: 2.67996\n",
      "[359]\tvalid_0's multi_logloss: 2.68001\n",
      "[360]\tvalid_0's multi_logloss: 2.68002\n",
      "[361]\tvalid_0's multi_logloss: 2.68005\n",
      "[362]\tvalid_0's multi_logloss: 2.68014\n",
      "[363]\tvalid_0's multi_logloss: 2.68024\n",
      "[364]\tvalid_0's multi_logloss: 2.68026\n",
      "[365]\tvalid_0's multi_logloss: 2.68028\n",
      "[366]\tvalid_0's multi_logloss: 2.68042\n",
      "[367]\tvalid_0's multi_logloss: 2.68051\n",
      "[368]\tvalid_0's multi_logloss: 2.68052\n",
      "[369]\tvalid_0's multi_logloss: 2.68058\n",
      "[370]\tvalid_0's multi_logloss: 2.68061\n",
      "[371]\tvalid_0's multi_logloss: 2.68076\n",
      "[372]\tvalid_0's multi_logloss: 2.68087\n",
      "[373]\tvalid_0's multi_logloss: 2.68091\n",
      "[374]\tvalid_0's multi_logloss: 2.68099\n",
      "[375]\tvalid_0's multi_logloss: 2.681\n",
      "[376]\tvalid_0's multi_logloss: 2.68089\n",
      "[377]\tvalid_0's multi_logloss: 2.68088\n",
      "[378]\tvalid_0's multi_logloss: 2.68086\n",
      "[379]\tvalid_0's multi_logloss: 2.68101\n",
      "[380]\tvalid_0's multi_logloss: 2.68107\n",
      "[381]\tvalid_0's multi_logloss: 2.68121\n",
      "[382]\tvalid_0's multi_logloss: 2.68129\n",
      "[383]\tvalid_0's multi_logloss: 2.68131\n",
      "[384]\tvalid_0's multi_logloss: 2.6813\n",
      "[385]\tvalid_0's multi_logloss: 2.68131\n",
      "[386]\tvalid_0's multi_logloss: 2.68141\n",
      "[387]\tvalid_0's multi_logloss: 2.68157\n",
      "[388]\tvalid_0's multi_logloss: 2.68158\n",
      "[389]\tvalid_0's multi_logloss: 2.68162\n",
      "[390]\tvalid_0's multi_logloss: 2.68165\n",
      "[391]\tvalid_0's multi_logloss: 2.68163\n",
      "[392]\tvalid_0's multi_logloss: 2.68173\n",
      "[393]\tvalid_0's multi_logloss: 2.6817\n",
      "[394]\tvalid_0's multi_logloss: 2.68175\n",
      "[395]\tvalid_0's multi_logloss: 2.68187\n",
      "[396]\tvalid_0's multi_logloss: 2.68185\n",
      "[397]\tvalid_0's multi_logloss: 2.68194\n",
      "[398]\tvalid_0's multi_logloss: 2.68195\n",
      "[399]\tvalid_0's multi_logloss: 2.6821\n",
      "[400]\tvalid_0's multi_logloss: 2.68223\n",
      "[401]\tvalid_0's multi_logloss: 2.6822\n",
      "[402]\tvalid_0's multi_logloss: 2.68227\n",
      "[403]\tvalid_0's multi_logloss: 2.68235\n",
      "[404]\tvalid_0's multi_logloss: 2.68237\n",
      "[405]\tvalid_0's multi_logloss: 2.68241\n",
      "[406]\tvalid_0's multi_logloss: 2.68254\n",
      "[407]\tvalid_0's multi_logloss: 2.68266\n",
      "[408]\tvalid_0's multi_logloss: 2.68277\n",
      "[409]\tvalid_0's multi_logloss: 2.6828\n",
      "[410]\tvalid_0's multi_logloss: 2.68272\n",
      "[411]\tvalid_0's multi_logloss: 2.68273\n",
      "[412]\tvalid_0's multi_logloss: 2.68271\n",
      "[413]\tvalid_0's multi_logloss: 2.68284\n",
      "[414]\tvalid_0's multi_logloss: 2.68281\n",
      "[415]\tvalid_0's multi_logloss: 2.6829\n",
      "[416]\tvalid_0's multi_logloss: 2.68297\n",
      "[417]\tvalid_0's multi_logloss: 2.68306\n",
      "[418]\tvalid_0's multi_logloss: 2.68312\n",
      "[419]\tvalid_0's multi_logloss: 2.6832\n",
      "[420]\tvalid_0's multi_logloss: 2.68328\n",
      "[421]\tvalid_0's multi_logloss: 2.68325\n"
     ]
    },
    {
     "name": "stdout",
     "output_type": "stream",
     "text": [
      "[422]\tvalid_0's multi_logloss: 2.68329\n",
      "[423]\tvalid_0's multi_logloss: 2.68331\n",
      "[424]\tvalid_0's multi_logloss: 2.68336\n",
      "[425]\tvalid_0's multi_logloss: 2.68345\n",
      "[426]\tvalid_0's multi_logloss: 2.68356\n",
      "[427]\tvalid_0's multi_logloss: 2.68357\n",
      "[428]\tvalid_0's multi_logloss: 2.68359\n",
      "[429]\tvalid_0's multi_logloss: 2.68365\n",
      "[430]\tvalid_0's multi_logloss: 2.68364\n",
      "[431]\tvalid_0's multi_logloss: 2.68374\n",
      "[432]\tvalid_0's multi_logloss: 2.68375\n",
      "[433]\tvalid_0's multi_logloss: 2.68379\n",
      "[434]\tvalid_0's multi_logloss: 2.68381\n",
      "[435]\tvalid_0's multi_logloss: 2.68389\n",
      "[436]\tvalid_0's multi_logloss: 2.68395\n",
      "[437]\tvalid_0's multi_logloss: 2.68402\n",
      "[438]\tvalid_0's multi_logloss: 2.68407\n",
      "[439]\tvalid_0's multi_logloss: 2.68407\n",
      "[440]\tvalid_0's multi_logloss: 2.68411\n",
      "[441]\tvalid_0's multi_logloss: 2.68418\n",
      "[442]\tvalid_0's multi_logloss: 2.68426\n",
      "[443]\tvalid_0's multi_logloss: 2.68428\n",
      "[444]\tvalid_0's multi_logloss: 2.68442\n",
      "[445]\tvalid_0's multi_logloss: 2.68446\n",
      "[446]\tvalid_0's multi_logloss: 2.68454\n",
      "[447]\tvalid_0's multi_logloss: 2.68469\n",
      "[448]\tvalid_0's multi_logloss: 2.68477\n",
      "[449]\tvalid_0's multi_logloss: 2.68482\n",
      "[450]\tvalid_0's multi_logloss: 2.68488\n",
      "[451]\tvalid_0's multi_logloss: 2.68491\n",
      "[452]\tvalid_0's multi_logloss: 2.68498\n",
      "[453]\tvalid_0's multi_logloss: 2.68514\n",
      "[454]\tvalid_0's multi_logloss: 2.68516\n",
      "[455]\tvalid_0's multi_logloss: 2.68526\n",
      "[456]\tvalid_0's multi_logloss: 2.68536\n",
      "[457]\tvalid_0's multi_logloss: 2.68537\n",
      "[458]\tvalid_0's multi_logloss: 2.68543\n",
      "[459]\tvalid_0's multi_logloss: 2.68551\n",
      "[460]\tvalid_0's multi_logloss: 2.68563\n",
      "[461]\tvalid_0's multi_logloss: 2.68568\n",
      "[462]\tvalid_0's multi_logloss: 2.68572\n",
      "[463]\tvalid_0's multi_logloss: 2.68574\n",
      "[464]\tvalid_0's multi_logloss: 2.68575\n",
      "[465]\tvalid_0's multi_logloss: 2.68583\n",
      "[466]\tvalid_0's multi_logloss: 2.68592\n",
      "[467]\tvalid_0's multi_logloss: 2.68597\n",
      "[468]\tvalid_0's multi_logloss: 2.68605\n",
      "[469]\tvalid_0's multi_logloss: 2.68617\n",
      "[470]\tvalid_0's multi_logloss: 2.6862\n",
      "[471]\tvalid_0's multi_logloss: 2.68637\n",
      "[472]\tvalid_0's multi_logloss: 2.68645\n",
      "[473]\tvalid_0's multi_logloss: 2.68651\n",
      "[474]\tvalid_0's multi_logloss: 2.6866\n",
      "[475]\tvalid_0's multi_logloss: 2.68655\n",
      "[476]\tvalid_0's multi_logloss: 2.68662\n",
      "[477]\tvalid_0's multi_logloss: 2.68666\n",
      "[478]\tvalid_0's multi_logloss: 2.68675\n",
      "[479]\tvalid_0's multi_logloss: 2.68681\n",
      "[480]\tvalid_0's multi_logloss: 2.68682\n",
      "[481]\tvalid_0's multi_logloss: 2.68688\n",
      "[482]\tvalid_0's multi_logloss: 2.68699\n",
      "[483]\tvalid_0's multi_logloss: 2.68704\n",
      "[484]\tvalid_0's multi_logloss: 2.68712\n",
      "[485]\tvalid_0's multi_logloss: 2.68713\n",
      "[486]\tvalid_0's multi_logloss: 2.68726\n",
      "[487]\tvalid_0's multi_logloss: 2.6873\n",
      "[488]\tvalid_0's multi_logloss: 2.6874\n",
      "[489]\tvalid_0's multi_logloss: 2.68751\n",
      "[490]\tvalid_0's multi_logloss: 2.68751\n",
      "[491]\tvalid_0's multi_logloss: 2.68755\n",
      "[492]\tvalid_0's multi_logloss: 2.68767\n",
      "[493]\tvalid_0's multi_logloss: 2.68774\n",
      "[494]\tvalid_0's multi_logloss: 2.68784\n",
      "[495]\tvalid_0's multi_logloss: 2.68789\n",
      "[496]\tvalid_0's multi_logloss: 2.68799\n",
      "[497]\tvalid_0's multi_logloss: 2.68806\n",
      "[498]\tvalid_0's multi_logloss: 2.6881\n",
      "[499]\tvalid_0's multi_logloss: 2.68802\n",
      "[500]\tvalid_0's multi_logloss: 2.68808\n",
      "[501]\tvalid_0's multi_logloss: 2.68819\n",
      "[502]\tvalid_0's multi_logloss: 2.6883\n",
      "[503]\tvalid_0's multi_logloss: 2.68835\n",
      "[504]\tvalid_0's multi_logloss: 2.68842\n",
      "[505]\tvalid_0's multi_logloss: 2.68847\n",
      "[506]\tvalid_0's multi_logloss: 2.68857\n",
      "[507]\tvalid_0's multi_logloss: 2.68862\n",
      "[508]\tvalid_0's multi_logloss: 2.68876\n",
      "[509]\tvalid_0's multi_logloss: 2.68882\n",
      "[510]\tvalid_0's multi_logloss: 2.68892\n",
      "[511]\tvalid_0's multi_logloss: 2.68897\n",
      "[512]\tvalid_0's multi_logloss: 2.68908\n",
      "[513]\tvalid_0's multi_logloss: 2.6892\n",
      "[514]\tvalid_0's multi_logloss: 2.68926\n",
      "[515]\tvalid_0's multi_logloss: 2.68925\n",
      "Early stopping, best iteration is:\n",
      "[215]\tvalid_0's multi_logloss: 2.67664\n"
     ]
    }
   ],
   "source": [
    "gbm = lgb.train(params,\n",
    "lgb_train,\n",
    "num_boost_round=1000,\n",
    "valid_sets=lgb_eval,\n",
    "early_stopping_rounds=300)"
   ]
  },
  {
   "cell_type": "code",
   "execution_count": 91,
   "metadata": {},
   "outputs": [],
   "source": [
    "with open(\"Demo/deviceid_test.tsv\", \"r\", encoding=\"utf-8\") as fi:\n",
    "    users = [x.strip() for x in fi.readlines()]\n",
    "\n",
    "pre_x=test.drop(['gender','age','sex_age'],axis=1)\n",
    "sub=pd.DataFrame(gbm.predict(pre_x.values,num_iteration=gbm.best_iteration))\n",
    "\n",
    "sub.columns=Y_CAT.categories\n",
    "sub['DeviceID']=users\n",
    "sub=sub[['DeviceID', '1-0', '1-1', '1-2', '1-3', '1-4', '1-5', '1-6', '1-7','1-8', '1-9', '1-10', '2-0', '2-1', '2-2', '2-3', '2-4', '2-5', '2-6', '2-7', '2-8', '2-9', '2-10']]\n",
    "sub.to_csv('baseline_my_features.csv',index=False)"
   ]
  },
  {
   "cell_type": "code",
   "execution_count": null,
   "metadata": {},
   "outputs": [],
   "source": []
  },
  {
   "cell_type": "code",
   "execution_count": null,
   "metadata": {},
   "outputs": [],
   "source": []
  }
 ],
 "metadata": {
  "kernelspec": {
   "display_name": "Python 3",
   "language": "python",
   "name": "python3"
  },
  "language_info": {
   "codemirror_mode": {
    "name": "ipython",
    "version": 3
   },
   "file_extension": ".py",
   "mimetype": "text/x-python",
   "name": "python",
   "nbconvert_exporter": "python",
   "pygments_lexer": "ipython3",
   "version": "3.5.3"
  }
 },
 "nbformat": 4,
 "nbformat_minor": 2
}
