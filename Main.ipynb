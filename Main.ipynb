{
 "cells": [
  {
   "cell_type": "markdown",
   "metadata": {},
   "source": [
    "# 年龄性别预测比赛\n",
    "## 数据概览\n",
    "### 训练数据 每个设备对应的性别、年龄段【deviceid_train.tsv】"
   ]
  },
  {
   "cell_type": "code",
   "execution_count": 1,
   "metadata": {},
   "outputs": [
    {
     "name": "stdout",
     "output_type": "stream",
     "text": [
      "一个数据样例:\n",
      "device: 53bb60ec1eb01562b047ae6a56c0b943, gender: 1, age: 7\n"
     ]
    }
   ],
   "source": [
    "class DeviceGenderAge():\n",
    "    def __init__(self, device, gender, age):\n",
    "        self.device = device\n",
    "        self.gender = int(gender)\n",
    "        self.age = int(age)\n",
    "    def __str__(self):\n",
    "        return \"device: {0}, gender: {1}, age: {2}\".format(self.device, self.gender, self.age)\n",
    "device_gender_age_train_list = []\n",
    "with open(\"Demo/deviceid_train.tsv\", \"r\", encoding=\"utf-8\") as f:\n",
    "    for line in f.readlines():\n",
    "        line = line.strip()\n",
    "        items = line.split(\"\\t\")\n",
    "        device = DeviceGenderAge(items[0], items[1], items[2])\n",
    "        device_gender_age_train_list.append(device)\n",
    "\n",
    "print(\"一个数据样例:\")\n",
    "print(device_gender_age_train_list[50])"
   ]
  },
  {
   "cell_type": "code",
   "execution_count": null,
   "metadata": {},
   "outputs": [],
   "source": []
  },
  {
   "cell_type": "code",
   "execution_count": 2,
   "metadata": {},
   "outputs": [
    {
     "name": "stdout",
     "output_type": "stream",
     "text": [
      "训练集大小50000\n"
     ]
    },
    {
     "data": {
      "text/plain": [
       "<matplotlib.figure.Figure at 0x21e4e16f0f0>"
      ]
     },
     "metadata": {},
     "output_type": "display_data"
    },
    {
     "data": {
      "text/plain": [
       "<matplotlib.figure.Figure at 0x21e4f3d6ac8>"
      ]
     },
     "metadata": {},
     "output_type": "display_data"
    }
   ],
   "source": [
    "import matplotlib.pyplot as plt\n",
    "print(\"训练集大小{}\".format(len(device_gender_age_train_list)))\n",
    "\n",
    "gender_map = {}\n",
    "age_map = {}\n",
    "for item in device_gender_age_train_list:\n",
    "    gender_map[item.gender] = gender_map.get(item.gender, 0) + 1\n",
    "    age_map[item.age] = age_map.get(item.age, 0) + 1\n",
    "gender_list = sorted(gender_map.items(), key=lambda x: x[1], reverse=True)\n",
    "age_list = sorted(age_map.items(), key=lambda x: x[1], reverse=True)\n",
    "plt.bar(range(len(gender_list)), [x[1] for x in gender_list], tick_label = [x[0] for x in gender_list])\n",
    "plt.title(\"gender distribution\")\n",
    "plt.show()\n",
    "plt.bar(range(len(age_list)), [x[1] for x in age_list], tick_label = [x[0] for x in age_list])\n",
    "plt.title(\"age distribution\")\n",
    "plt.show()"
   ]
  },
  {
   "cell_type": "code",
   "execution_count": 3,
   "metadata": {},
   "outputs": [],
   "source": [
    "devices_in_traindata_set = set([x.device for x in device_gender_age_train_list])"
   ]
  },
  {
   "cell_type": "code",
   "execution_count": null,
   "metadata": {},
   "outputs": [],
   "source": []
  },
  {
   "cell_type": "markdown",
   "metadata": {},
   "source": [
    "### 设备数据 每个设备上的应用安装列表，设备应用名都进行了hash处理【deviceid_packages.tsv】"
   ]
  },
  {
   "cell_type": "code",
   "execution_count": 4,
   "metadata": {},
   "outputs": [],
   "source": [
    "device_packages_map = {}\n",
    "with open(\"Demo/deviceid_packages.tsv\", \"r\", encoding=\"utf-8\") as f:\n",
    "    for line in f.readlines():\n",
    "        line = line.strip()\n",
    "        items = line.split(\"\\t\")\n",
    "        device_packages_map[items[0]] = items[1].split(\",\")\n"
   ]
  },
  {
   "cell_type": "markdown",
   "metadata": {},
   "source": [
    "#### 看看统计数据"
   ]
  },
  {
   "cell_type": "code",
   "execution_count": 5,
   "metadata": {},
   "outputs": [
    {
     "name": "stdout",
     "output_type": "stream",
     "text": [
      "平均每个手机安装10.528400731502742款app\n"
     ]
    }
   ],
   "source": [
    "import numpy as np\n",
    "\n",
    "mean_app_per_device = np.mean([len(value) for key, value in device_packages_map.items()])\n",
    "print(\"平均每个手机安装{}款app\".format(mean_app_per_device))"
   ]
  },
  {
   "cell_type": "code",
   "execution_count": 6,
   "metadata": {},
   "outputs": [
    {
     "name": "stdout",
     "output_type": "stream",
     "text": [
      "一共35000款不同的app\n"
     ]
    }
   ],
   "source": [
    "app_set = set()\n",
    "for value in device_packages_map.values():\n",
    "    for item in value:\n",
    "        app_set.add(item)\n",
    "print(\"一共{}款不同的app\".format(len(app_set)))"
   ]
  },
  {
   "cell_type": "code",
   "execution_count": 7,
   "metadata": {
    "scrolled": true
   },
   "outputs": [
    {
     "data": {
      "image/png": "[encoded data removed]",
      "text/plain": [
       "<matplotlib.figure.Figure at 0x21e4c2c9ef0>"
      ]
     },
     "metadata": {},
     "output_type": "display_data"
    }
   ],
   "source": [
    "app_count_map = {}\n",
    "for value in device_packages_map.values():\n",
    "    for item in value:\n",
    "        app_count_map[item] = app_count_map.get(item, 0) + 1\n",
    "top_app = sorted(app_count_map.items(), key=lambda x: x[1], reverse=True)[:100]\n",
    "plt.bar(range(len(top_app)), [x[1] for x in top_app])\n",
    "plt.title(\"top 100 app distribution\")\n",
    "plt.show()"
   ]
  },
  {
   "cell_type": "code",
   "execution_count": 8,
   "metadata": {},
   "outputs": [],
   "source": [
    "top_app_set = set([x[0] for x in top_app])"
   ]
  },
  {
   "cell_type": "code",
   "execution_count": null,
   "metadata": {},
   "outputs": [],
   "source": []
  },
  {
   "cell_type": "code",
   "execution_count": null,
   "metadata": {},
   "outputs": [],
   "source": []
  },
  {
   "cell_type": "markdown",
   "metadata": {},
   "source": [
    "### 应用数据 每个设备上各个应用的打开、关闭行为数据【deviceid_package_start_close.tsv】"
   ]
  },
  {
   "cell_type": "code",
   "execution_count": 9,
   "metadata": {},
   "outputs": [],
   "source": [
    "# 每台手机，各应用使用频次、时间统计\n",
    "device_app_open_close_map = {}\n",
    "class Container():\n",
    "    def __init__(self):\n",
    "        self.freq = 0\n",
    "        self.time = 0\n",
    "    def __str__(self):\n",
    "        return \"freq: {0}, time: {1}\".format(self.freq, self.time)\n",
    "with open(\"Demo/deviceid_package_start_close.tsv\", \"r\", encoding=\"utf-8\") as f:\n",
    "    for line in f.readlines():\n",
    "        items = line.strip().split(\"\\t\")\n",
    "        if items[1] not in top_app_set:\n",
    "            continue\n",
    "        time_delta = (int(items[3]) - int(items[2])) // 1000\n",
    "        \n",
    "        device_app_open_close_map[items[0]] = device_app_open_close_map.get(items[0], {})\n",
    "        device_app_open_close_map[items[0]][items[1]] = device_app_open_close_map[items[0]].get(items[1], Container())\n",
    "        device_app_open_close_map[items[0]][items[1]].freq += 1\n",
    "        device_app_open_close_map[items[0]][items[1]].time += time_delta\n"
   ]
  },
  {
   "cell_type": "code",
   "execution_count": 10,
   "metadata": {},
   "outputs": [
    {
     "name": "stdout",
     "output_type": "stream",
     "text": [
      "随机抽取一个人，一个app，它的使用次数: 1，使用时间: 35\n"
     ]
    }
   ],
   "source": [
    "device_app_open_close_map[\"f39d80ff140836ed76b226ae3b23ada4\"][\"07e967d75aab2f6a52c558695a572a7c\"].freq\n",
    "device_app_open_close_map[\"f39d80ff140836ed76b226ae3b23ada4\"][\"07e967d75aab2f6a52c558695a572a7c\"].time\n",
    "print(\"随机抽取一个人，一个app，它的使用次数: {}，使用时间: {}\"\n",
    "      .format(\n",
    "          device_app_open_close_map[\"f39d80ff140836ed76b226ae3b23ada4\"][\"07e967d75aab2f6a52c558695a572a7c\"].freq,\n",
    "          device_app_open_close_map[\"f39d80ff140836ed76b226ae3b23ada4\"][\"07e967d75aab2f6a52c558695a572a7c\"].time))"
   ]
  },
  {
   "cell_type": "code",
   "execution_count": null,
   "metadata": {},
   "outputs": [],
   "source": []
  },
  {
   "cell_type": "markdown",
   "metadata": {},
   "source": [
    "### 机型数据 每个设备的品牌和型号【deviceid_brand.tsv】"
   ]
  },
  {
   "cell_type": "code",
   "execution_count": 11,
   "metadata": {},
   "outputs": [
    {
     "name": "stdout",
     "output_type": "stream",
     "text": [
      "某个人: f39d80ff140836ed76b226ae3b23ada4的手机是: samsung，型号是: GT-N7105\n"
     ]
    }
   ],
   "source": [
    "device_factory_model_map = {}\n",
    "with open(\"Demo/deviceid_brand.tsv\", \"r\", encoding=\"utf-8\") as f:\n",
    "    for line in f.readlines():\n",
    "        line = line.strip()\n",
    "        items = line.split()\n",
    "        device_factory_model_map[items[0]] = (items[1], items[2])\n",
    "        \n",
    "print(\"某个人: {}的手机是: {}，型号是: {}\".format(\n",
    "    \"f39d80ff140836ed76b226ae3b23ada4\",\n",
    "    device_factory_model_map[\"f39d80ff140836ed76b226ae3b23ada4\"][0],\n",
    "    device_factory_model_map[\"f39d80ff140836ed76b226ae3b23ada4\"][1]\n",
    "))\n",
    "# 手机厂商_id映射\n",
    "factory_id_map = {}\n",
    "# 手机型号_id映射\n",
    "model_id_map = {}\n",
    "for key, value in enumerate(set([x[0] for x in device_factory_model_map.values()])):\n",
    "    factory_id_map[value] = key\n",
    "    \n",
    "for key, value in enumerate(set([x[1] for x in device_factory_model_map.values()])):\n",
    "    model_id_map[value] = key\n"
   ]
  },
  {
   "cell_type": "code",
   "execution_count": null,
   "metadata": {},
   "outputs": [],
   "source": []
  },
  {
   "cell_type": "markdown",
   "metadata": {},
   "source": [
    "### APP数据 每个应用的类别信息【package_label.tsv】"
   ]
  },
  {
   "cell_type": "code",
   "execution_count": 12,
   "metadata": {},
   "outputs": [
    {
     "name": "stdout",
     "output_type": "stream",
     "text": [
      "某app: 6b812b3636e43508a3db2a3537c9a654是: 体育类目中的: 体育资讯\n"
     ]
    }
   ],
   "source": [
    "app_info_map = {}\n",
    "with open(\"Demo/package_label.tsv\", \"r\", encoding=\"utf-8\") as f:\n",
    "    for line in f.readlines():\n",
    "        line = line.strip()\n",
    "        items = line.split()\n",
    "        app_info_map[items[0]] = (items[1], items[2])\n",
    "print(\"某app: {}是: {}类目中的: {}\".format(\n",
    "    \"6b812b3636e43508a3db2a3537c9a654\",\n",
    "    app_info_map[\"6b812b3636e43508a3db2a3537c9a654\"][0],\n",
    "    app_info_map[\"6b812b3636e43508a3db2a3537c9a654\"][1]\n",
    "))"
   ]
  },
  {
   "cell_type": "code",
   "execution_count": null,
   "metadata": {},
   "outputs": [],
   "source": []
  },
  {
   "cell_type": "markdown",
   "metadata": {},
   "source": [
    "## 准备训练数据\n",
    "由于数据挺多，所以把训练数据输出至文件"
   ]
  },
  {
   "cell_type": "code",
   "execution_count": 13,
   "metadata": {},
   "outputs": [],
   "source": [
    "def getAppInstallInfo(device):\n",
    "    \"\"\"\n",
    "    返回top100款app的使用情况。\n",
    "    如果没有安装，则返回[0, 0]\n",
    "    如有安装，则返回[使用次数，平均时长]\n",
    "    \"\"\"\n",
    "    appInstallInfo = device_app_open_close_map.get(device)\n",
    "    if not appInstallInfo:\n",
    "        return [0] * 200\n",
    "    buffer = [0 for i in range(200)]\n",
    "    index = 0\n",
    "    for app in top_app_set:\n",
    "        container = appInstallInfo.get(app)\n",
    "        if container:\n",
    "            buffer[index] = container.freq\n",
    "            index += 1\n",
    "            buffer[index] = container.time // container.freq\n",
    "            index += 1\n",
    "        else:\n",
    "            index += 2\n",
    "    return buffer\n",
    "\n",
    "def getFactoryInfo(device):\n",
    "    \"\"\"\n",
    "    返回手机厂商id和手机型号id\n",
    "    如果没搜索到，则返回[-1, -1]\n",
    "    \"\"\"\n",
    "    factoryInfo = device_factory_model_map.get(device)\n",
    "    if not factoryInfo:\n",
    "        return [-1, -1]\n",
    "    return [factory_id_map.get(factoryInfo[0]), model_id_map.get(factoryInfo[1])]\n",
    "\n",
    "\n",
    "with open(\"train.data\", \"w\", encoding=\"utf-8\") as f:\n",
    "    f.write(\"gender,age,\" + \",\".join([str(i) for i in range(202)])+ \"\\n\")\n",
    "    for person in device_gender_age_train_list:\n",
    "        line = [person.gender, person.age]\n",
    "        \n",
    "        appInstallInfoList = getAppInstallInfo(person.device)\n",
    "        line.extend(appInstallInfoList)\n",
    "        \n",
    "        factoryInfoList = getFactoryInfo(person.device)\n",
    "        line.extend(factoryInfoList)\n",
    "        \n",
    "        f.write(\",\".join([str(x) for x in line]) + \"\\n\")\n",
    "        \n"
   ]
  },
  {
   "cell_type": "markdown",
   "metadata": {},
   "source": [
    "## 准备预测数据"
   ]
  },
  {
   "cell_type": "code",
   "execution_count": 14,
   "metadata": {},
   "outputs": [],
   "source": [
    "with open(\"Demo/deviceid_test.tsv\", \"r\", encoding=\"utf-8\") as fi:\n",
    "    users = [x.strip() for x in fi.readlines()]\n",
    "with open(\"test.data\", \"w\", encoding=\"utf-8\") as f:\n",
    "    f.write(\",\".join([str(i) for i in range(202)]) + \"\\n\")\n",
    "    for device in users:\n",
    "        line = []\n",
    "        \n",
    "        appInstallInfoList = getAppInstallInfo(device)\n",
    "        line.extend(appInstallInfoList)\n",
    "        \n",
    "        factoryInfoList = getFactoryInfo(device)\n",
    "        line.extend(factoryInfoList)\n",
    "        f.write(\",\".join([str(x) for x in line]) + \"\\n\")"
   ]
  },
  {
   "cell_type": "code",
   "execution_count": null,
   "metadata": {},
   "outputs": [],
   "source": []
  },
  {
   "cell_type": "markdown",
   "metadata": {},
   "source": [
    "## 训练模型"
   ]
  },
  {
   "cell_type": "code",
   "execution_count": 15,
   "metadata": {},
   "outputs": [],
   "source": [
    "import pandas as pd\n",
    "from sklearn.linear_model import LogisticRegression\n",
    "from sklearn.svm import LinearSVC"
   ]
  },
  {
   "cell_type": "code",
   "execution_count": 16,
   "metadata": {},
   "outputs": [],
   "source": [
    "train_df = pd.read_csv(\"train.data\")"
   ]
  },
  {
   "cell_type": "code",
   "execution_count": 17,
   "metadata": {},
   "outputs": [],
   "source": [
    "y_gender = train_df[\"gender\"]\n",
    "y_age = train_df[\"age\"]\n",
    "train_df.drop([\"gender\", \"age\"], axis=1,inplace=True)"
   ]
  },
  {
   "cell_type": "code",
   "execution_count": null,
   "metadata": {},
   "outputs": [],
   "source": []
  },
  {
   "cell_type": "code",
   "execution_count": 18,
   "metadata": {},
   "outputs": [
    {
     "data": {
      "text/plain": [
       "0.1537"
      ]
     },
     "execution_count": 18,
     "metadata": {},
     "output_type": "execute_result"
    }
   ],
   "source": [
    "svc_age_model = LinearSVC()\n",
    "svc_age_model.fit(train_df, y_age)\n",
    "svc_age_model.score(train_df, y_age)"
   ]
  },
  {
   "cell_type": "code",
   "execution_count": 19,
   "metadata": {},
   "outputs": [
    {
     "data": {
      "text/plain": [
       "0.60684"
      ]
     },
     "execution_count": 19,
     "metadata": {},
     "output_type": "execute_result"
    }
   ],
   "source": [
    "svc_gender_model = LinearSVC()\n",
    "svc_gender_model.fit(train_df, y_gender)\n",
    "svc_gender_model.score(train_df, y_gender)"
   ]
  },
  {
   "cell_type": "markdown",
   "metadata": {},
   "source": [
    "## 预测模型"
   ]
  },
  {
   "cell_type": "code",
   "execution_count": 20,
   "metadata": {},
   "outputs": [],
   "source": [
    "test_df = pd.read_csv(\"test.data\")"
   ]
  },
  {
   "cell_type": "code",
   "execution_count": 21,
   "metadata": {},
   "outputs": [],
   "source": [
    "predict_age = svc_age_model.predict(test_df)"
   ]
  },
  {
   "cell_type": "code",
   "execution_count": 22,
   "metadata": {},
   "outputs": [],
   "source": [
    "predict_gender = svc_gender_model.predict(test_df)"
   ]
  },
  {
   "cell_type": "code",
   "execution_count": 23,
   "metadata": {},
   "outputs": [
    {
     "data": {
      "text/plain": [
       "array([1, 2, 1, ..., 1, 1, 1], dtype=int64)"
      ]
     },
     "execution_count": 23,
     "metadata": {},
     "output_type": "execute_result"
    }
   ],
   "source": [
    "predict_gender"
   ]
  },
  {
   "cell_type": "code",
   "execution_count": null,
   "metadata": {},
   "outputs": [],
   "source": []
  },
  {
   "cell_type": "code",
   "execution_count": null,
   "metadata": {},
   "outputs": [],
   "source": []
  },
  {
   "cell_type": "code",
   "execution_count": null,
   "metadata": {},
   "outputs": [],
   "source": []
  },
  {
   "cell_type": "markdown",
   "metadata": {},
   "source": [
    "## 输出结果"
   ]
  },
  {
   "cell_type": "code",
   "execution_count": 24,
   "metadata": {},
   "outputs": [],
   "source": [
    "with open(\"Demo/deviceid_test.tsv\", \"r\", encoding=\"utf-8\") as fi:\n",
    "    users = [x.strip() for x in fi.readlines()]\n",
    "with open(\"result.csv\", \"w\", encoding=\"utf-8\") as f:\n",
    "    f.write(\"DeviceID,1-0,1-1,1-2,1-3,1-4,1-5,1-6,1-7,1-8,1-9,1-10,2-0,2-1,2-2,2-3,2-4,2-5,2-6,2-7,2-8,2-9,2-10\\n\")\n",
    "    for i in range(len(users)):\n",
    "        predict = [0.0 for i in range(22)]\n",
    "        gender = predict_gender[i]\n",
    "        age = predict_age[i]\n",
    "        predict[(gender-1) * 11 + age] = 1.0\n",
    "        f.write(users[i]+\",\" + \",\".join([str(x) for x in predict]) + \"\\n\")\n",
    "        "
   ]
  },
  {
   "cell_type": "code",
   "execution_count": null,
   "metadata": {},
   "outputs": [],
   "source": []
  },
  {
   "cell_type": "markdown",
   "metadata": {},
   "source": [
    "## 进阶\n",
    "看到用线性svm，基于原始特征跑出来的结果很糟糕\n",
    "\n",
    "### 标准化与分段 \n",
    "\n",
    "可能是因为像[app使用次数][平均使用时间]这种特征，取值范围太大所导致。所以，这里分别试试标准化，和分段化，看看哪种效果更好。"
   ]
  },
  {
   "cell_type": "code",
   "execution_count": 64,
   "metadata": {},
   "outputs": [
    {
     "data": {
      "text/html": [
       "<div>\n",
       "<style>\n",
       "    .dataframe thead tr:only-child th {\n",
       "        text-align: right;\n",
       "    }\n",
       "\n",
       "    .dataframe thead th {\n",
       "        text-align: left;\n",
       "    }\n",
       "\n",
       "    .dataframe tbody tr th {\n",
       "        vertical-align: top;\n",
       "    }\n",
       "</style>\n",
       "<table border=\"1\" class=\"dataframe\">\n",
       "  <thead>\n",
       "    <tr style=\"text-align: right;\">\n",
       "      <th></th>\n",
       "      <th>0</th>\n",
       "      <th>1</th>\n",
       "      <th>2</th>\n",
       "      <th>3</th>\n",
       "      <th>4</th>\n",
       "      <th>5</th>\n",
       "      <th>6</th>\n",
       "      <th>7</th>\n",
       "      <th>8</th>\n",
       "      <th>9</th>\n",
       "      <th>...</th>\n",
       "      <th>190</th>\n",
       "      <th>191</th>\n",
       "      <th>192</th>\n",
       "      <th>193</th>\n",
       "      <th>194</th>\n",
       "      <th>195</th>\n",
       "      <th>196</th>\n",
       "      <th>197</th>\n",
       "      <th>198</th>\n",
       "      <th>199</th>\n",
       "    </tr>\n",
       "  </thead>\n",
       "  <tbody>\n",
       "    <tr>\n",
       "      <th>count</th>\n",
       "      <td>50000.000000</td>\n",
       "      <td>5.000000e+04</td>\n",
       "      <td>50000.000000</td>\n",
       "      <td>5.000000e+04</td>\n",
       "      <td>50000.000000</td>\n",
       "      <td>5.000000e+04</td>\n",
       "      <td>50000.000000</td>\n",
       "      <td>5.000000e+04</td>\n",
       "      <td>50000.000000</td>\n",
       "      <td>5.000000e+04</td>\n",
       "      <td>...</td>\n",
       "      <td>50000.000000</td>\n",
       "      <td>5.000000e+04</td>\n",
       "      <td>50000.000000</td>\n",
       "      <td>5.000000e+04</td>\n",
       "      <td>50000.000000</td>\n",
       "      <td>50000.000000</td>\n",
       "      <td>50000.000000</td>\n",
       "      <td>50000.000000</td>\n",
       "      <td>50000.00000</td>\n",
       "      <td>50000.000000</td>\n",
       "    </tr>\n",
       "    <tr>\n",
       "      <th>mean</th>\n",
       "      <td>2.194880</td>\n",
       "      <td>2.996259e+04</td>\n",
       "      <td>3.115800</td>\n",
       "      <td>1.606632e+04</td>\n",
       "      <td>2.149520</td>\n",
       "      <td>4.979219e+02</td>\n",
       "      <td>0.222460</td>\n",
       "      <td>2.510243e+02</td>\n",
       "      <td>2.150220</td>\n",
       "      <td>8.430780e+03</td>\n",
       "      <td>...</td>\n",
       "      <td>0.333020</td>\n",
       "      <td>1.085992e+03</td>\n",
       "      <td>2.764120</td>\n",
       "      <td>1.443985e+03</td>\n",
       "      <td>0.132800</td>\n",
       "      <td>20.385640</td>\n",
       "      <td>0.747040</td>\n",
       "      <td>41.381520</td>\n",
       "      <td>1.09700</td>\n",
       "      <td>33.767880</td>\n",
       "    </tr>\n",
       "    <tr>\n",
       "      <th>std</th>\n",
       "      <td>14.165904</td>\n",
       "      <td>6.656184e+06</td>\n",
       "      <td>16.653375</td>\n",
       "      <td>3.329961e+06</td>\n",
       "      <td>16.782917</td>\n",
       "      <td>4.627877e+04</td>\n",
       "      <td>4.343366</td>\n",
       "      <td>2.092645e+04</td>\n",
       "      <td>12.896168</td>\n",
       "      <td>1.413125e+06</td>\n",
       "      <td>...</td>\n",
       "      <td>6.068704</td>\n",
       "      <td>2.068886e+05</td>\n",
       "      <td>35.379365</td>\n",
       "      <td>2.118614e+05</td>\n",
       "      <td>1.661535</td>\n",
       "      <td>1468.224252</td>\n",
       "      <td>14.166446</td>\n",
       "      <td>3387.596743</td>\n",
       "      <td>14.79173</td>\n",
       "      <td>1145.551965</td>\n",
       "    </tr>\n",
       "    <tr>\n",
       "      <th>min</th>\n",
       "      <td>0.000000</td>\n",
       "      <td>0.000000e+00</td>\n",
       "      <td>0.000000</td>\n",
       "      <td>0.000000e+00</td>\n",
       "      <td>0.000000</td>\n",
       "      <td>0.000000e+00</td>\n",
       "      <td>0.000000</td>\n",
       "      <td>0.000000e+00</td>\n",
       "      <td>0.000000</td>\n",
       "      <td>0.000000e+00</td>\n",
       "      <td>...</td>\n",
       "      <td>0.000000</td>\n",
       "      <td>0.000000e+00</td>\n",
       "      <td>0.000000</td>\n",
       "      <td>0.000000e+00</td>\n",
       "      <td>0.000000</td>\n",
       "      <td>0.000000</td>\n",
       "      <td>0.000000</td>\n",
       "      <td>0.000000</td>\n",
       "      <td>0.00000</td>\n",
       "      <td>0.000000</td>\n",
       "    </tr>\n",
       "    <tr>\n",
       "      <th>25%</th>\n",
       "      <td>0.000000</td>\n",
       "      <td>0.000000e+00</td>\n",
       "      <td>0.000000</td>\n",
       "      <td>0.000000e+00</td>\n",
       "      <td>0.000000</td>\n",
       "      <td>0.000000e+00</td>\n",
       "      <td>0.000000</td>\n",
       "      <td>0.000000e+00</td>\n",
       "      <td>0.000000</td>\n",
       "      <td>0.000000e+00</td>\n",
       "      <td>...</td>\n",
       "      <td>0.000000</td>\n",
       "      <td>0.000000e+00</td>\n",
       "      <td>0.000000</td>\n",
       "      <td>0.000000e+00</td>\n",
       "      <td>0.000000</td>\n",
       "      <td>0.000000</td>\n",
       "      <td>0.000000</td>\n",
       "      <td>0.000000</td>\n",
       "      <td>0.00000</td>\n",
       "      <td>0.000000</td>\n",
       "    </tr>\n",
       "    <tr>\n",
       "      <th>50%</th>\n",
       "      <td>0.000000</td>\n",
       "      <td>0.000000e+00</td>\n",
       "      <td>0.000000</td>\n",
       "      <td>0.000000e+00</td>\n",
       "      <td>0.000000</td>\n",
       "      <td>0.000000e+00</td>\n",
       "      <td>0.000000</td>\n",
       "      <td>0.000000e+00</td>\n",
       "      <td>0.000000</td>\n",
       "      <td>0.000000e+00</td>\n",
       "      <td>...</td>\n",
       "      <td>0.000000</td>\n",
       "      <td>0.000000e+00</td>\n",
       "      <td>0.000000</td>\n",
       "      <td>0.000000e+00</td>\n",
       "      <td>0.000000</td>\n",
       "      <td>0.000000</td>\n",
       "      <td>0.000000</td>\n",
       "      <td>0.000000</td>\n",
       "      <td>0.00000</td>\n",
       "      <td>0.000000</td>\n",
       "    </tr>\n",
       "    <tr>\n",
       "      <th>75%</th>\n",
       "      <td>0.000000</td>\n",
       "      <td>0.000000e+00</td>\n",
       "      <td>0.000000</td>\n",
       "      <td>0.000000e+00</td>\n",
       "      <td>0.000000</td>\n",
       "      <td>0.000000e+00</td>\n",
       "      <td>0.000000</td>\n",
       "      <td>0.000000e+00</td>\n",
       "      <td>0.000000</td>\n",
       "      <td>0.000000e+00</td>\n",
       "      <td>...</td>\n",
       "      <td>0.000000</td>\n",
       "      <td>0.000000e+00</td>\n",
       "      <td>0.000000</td>\n",
       "      <td>0.000000e+00</td>\n",
       "      <td>0.000000</td>\n",
       "      <td>0.000000</td>\n",
       "      <td>0.000000</td>\n",
       "      <td>0.000000</td>\n",
       "      <td>0.00000</td>\n",
       "      <td>0.000000</td>\n",
       "    </tr>\n",
       "    <tr>\n",
       "      <th>max</th>\n",
       "      <td>1208.000000</td>\n",
       "      <td>1.488368e+09</td>\n",
       "      <td>686.000000</td>\n",
       "      <td>7.442596e+08</td>\n",
       "      <td>880.000000</td>\n",
       "      <td>9.834381e+06</td>\n",
       "      <td>331.000000</td>\n",
       "      <td>3.793910e+06</td>\n",
       "      <td>761.000000</td>\n",
       "      <td>3.126343e+08</td>\n",
       "      <td>...</td>\n",
       "      <td>741.000000</td>\n",
       "      <td>4.617616e+07</td>\n",
       "      <td>4041.000000</td>\n",
       "      <td>4.414820e+07</td>\n",
       "      <td>125.000000</td>\n",
       "      <td>281076.000000</td>\n",
       "      <td>1044.000000</td>\n",
       "      <td>680099.000000</td>\n",
       "      <td>1040.00000</td>\n",
       "      <td>121854.000000</td>\n",
       "    </tr>\n",
       "  </tbody>\n",
       "</table>\n",
       "<p>8 rows × 200 columns</p>\n",
       "</div>"
      ],
      "text/plain": [
       "                  0             1             2             3             4  \\\n",
       "count  50000.000000  5.000000e+04  50000.000000  5.000000e+04  50000.000000   \n",
       "mean       2.194880  2.996259e+04      3.115800  1.606632e+04      2.149520   \n",
       "std       14.165904  6.656184e+06     16.653375  3.329961e+06     16.782917   \n",
       "min        0.000000  0.000000e+00      0.000000  0.000000e+00      0.000000   \n",
       "25%        0.000000  0.000000e+00      0.000000  0.000000e+00      0.000000   \n",
       "50%        0.000000  0.000000e+00      0.000000  0.000000e+00      0.000000   \n",
       "75%        0.000000  0.000000e+00      0.000000  0.000000e+00      0.000000   \n",
       "max     1208.000000  1.488368e+09    686.000000  7.442596e+08    880.000000   \n",
       "\n",
       "                  5             6             7             8             9  \\\n",
       "count  5.000000e+04  50000.000000  5.000000e+04  50000.000000  5.000000e+04   \n",
       "mean   4.979219e+02      0.222460  2.510243e+02      2.150220  8.430780e+03   \n",
       "std    4.627877e+04      4.343366  2.092645e+04     12.896168  1.413125e+06   \n",
       "min    0.000000e+00      0.000000  0.000000e+00      0.000000  0.000000e+00   \n",
       "25%    0.000000e+00      0.000000  0.000000e+00      0.000000  0.000000e+00   \n",
       "50%    0.000000e+00      0.000000  0.000000e+00      0.000000  0.000000e+00   \n",
       "75%    0.000000e+00      0.000000  0.000000e+00      0.000000  0.000000e+00   \n",
       "max    9.834381e+06    331.000000  3.793910e+06    761.000000  3.126343e+08   \n",
       "\n",
       "           ...                 190           191           192           193  \\\n",
       "count      ...        50000.000000  5.000000e+04  50000.000000  5.000000e+04   \n",
       "mean       ...            0.333020  1.085992e+03      2.764120  1.443985e+03   \n",
       "std        ...            6.068704  2.068886e+05     35.379365  2.118614e+05   \n",
       "min        ...            0.000000  0.000000e+00      0.000000  0.000000e+00   \n",
       "25%        ...            0.000000  0.000000e+00      0.000000  0.000000e+00   \n",
       "50%        ...            0.000000  0.000000e+00      0.000000  0.000000e+00   \n",
       "75%        ...            0.000000  0.000000e+00      0.000000  0.000000e+00   \n",
       "max        ...          741.000000  4.617616e+07   4041.000000  4.414820e+07   \n",
       "\n",
       "                194            195           196            197          198  \\\n",
       "count  50000.000000   50000.000000  50000.000000   50000.000000  50000.00000   \n",
       "mean       0.132800      20.385640      0.747040      41.381520      1.09700   \n",
       "std        1.661535    1468.224252     14.166446    3387.596743     14.79173   \n",
       "min        0.000000       0.000000      0.000000       0.000000      0.00000   \n",
       "25%        0.000000       0.000000      0.000000       0.000000      0.00000   \n",
       "50%        0.000000       0.000000      0.000000       0.000000      0.00000   \n",
       "75%        0.000000       0.000000      0.000000       0.000000      0.00000   \n",
       "max      125.000000  281076.000000   1044.000000  680099.000000   1040.00000   \n",
       "\n",
       "                 199  \n",
       "count   50000.000000  \n",
       "mean       33.767880  \n",
       "std      1145.551965  \n",
       "min         0.000000  \n",
       "25%         0.000000  \n",
       "50%         0.000000  \n",
       "75%         0.000000  \n",
       "max    121854.000000  \n",
       "\n",
       "[8 rows x 200 columns]"
      ]
     },
     "execution_count": 64,
     "metadata": {},
     "output_type": "execute_result"
    }
   ],
   "source": [
    "train_df = pd.read_csv(\"train.data\")\n",
    "columns = [\"{}\".format(x) for x in range(0, 200)]\n",
    "train_df[columns].describe()"
   ]
  },
  {
   "cell_type": "markdown",
   "metadata": {},
   "source": [
    "看一下上表，筛选出了奇数命名的列。它们是top100常用app中每个用户的平均使用时间。\n",
    "\n",
    "均值较大，方差也大，先试试标准化"
   ]
  },
  {
   "cell_type": "code",
   "execution_count": 65,
   "metadata": {},
   "outputs": [],
   "source": [
    "train_df[columns] = (train_df[columns] - train_df[columns].mean()) / train_df[columns].std()"
   ]
  },
  {
   "cell_type": "code",
   "execution_count": 66,
   "metadata": {},
   "outputs": [
    {
     "data": {
      "text/html": [
       "<div>\n",
       "<style>\n",
       "    .dataframe thead tr:only-child th {\n",
       "        text-align: right;\n",
       "    }\n",
       "\n",
       "    .dataframe thead th {\n",
       "        text-align: left;\n",
       "    }\n",
       "\n",
       "    .dataframe tbody tr th {\n",
       "        vertical-align: top;\n",
       "    }\n",
       "</style>\n",
       "<table border=\"1\" class=\"dataframe\">\n",
       "  <thead>\n",
       "    <tr style=\"text-align: right;\">\n",
       "      <th></th>\n",
       "      <th>0</th>\n",
       "      <th>1</th>\n",
       "      <th>2</th>\n",
       "      <th>3</th>\n",
       "      <th>4</th>\n",
       "      <th>5</th>\n",
       "      <th>6</th>\n",
       "      <th>7</th>\n",
       "      <th>8</th>\n",
       "      <th>9</th>\n",
       "      <th>...</th>\n",
       "      <th>190</th>\n",
       "      <th>191</th>\n",
       "      <th>192</th>\n",
       "      <th>193</th>\n",
       "      <th>194</th>\n",
       "      <th>195</th>\n",
       "      <th>196</th>\n",
       "      <th>197</th>\n",
       "      <th>198</th>\n",
       "      <th>199</th>\n",
       "    </tr>\n",
       "  </thead>\n",
       "  <tbody>\n",
       "    <tr>\n",
       "      <th>count</th>\n",
       "      <td>5.000000e+04</td>\n",
       "      <td>5.000000e+04</td>\n",
       "      <td>5.000000e+04</td>\n",
       "      <td>5.000000e+04</td>\n",
       "      <td>5.000000e+04</td>\n",
       "      <td>5.000000e+04</td>\n",
       "      <td>5.000000e+04</td>\n",
       "      <td>5.000000e+04</td>\n",
       "      <td>5.000000e+04</td>\n",
       "      <td>5.000000e+04</td>\n",
       "      <td>...</td>\n",
       "      <td>5.000000e+04</td>\n",
       "      <td>5.000000e+04</td>\n",
       "      <td>5.000000e+04</td>\n",
       "      <td>5.000000e+04</td>\n",
       "      <td>50000.000000</td>\n",
       "      <td>5.000000e+04</td>\n",
       "      <td>5.000000e+04</td>\n",
       "      <td>5.000000e+04</td>\n",
       "      <td>5.000000e+04</td>\n",
       "      <td>5.000000e+04</td>\n",
       "    </tr>\n",
       "    <tr>\n",
       "      <th>mean</th>\n",
       "      <td>2.803091e-17</td>\n",
       "      <td>1.101341e-18</td>\n",
       "      <td>-4.973799e-19</td>\n",
       "      <td>1.598721e-19</td>\n",
       "      <td>-1.293188e-17</td>\n",
       "      <td>-5.151435e-19</td>\n",
       "      <td>6.679102e-18</td>\n",
       "      <td>-8.881784e-19</td>\n",
       "      <td>2.188472e-17</td>\n",
       "      <td>4.440892e-19</td>\n",
       "      <td>...</td>\n",
       "      <td>-6.892265e-18</td>\n",
       "      <td>1.767475e-18</td>\n",
       "      <td>-8.455459e-18</td>\n",
       "      <td>3.552714e-18</td>\n",
       "      <td>0.000000</td>\n",
       "      <td>1.705303e-18</td>\n",
       "      <td>-5.151435e-18</td>\n",
       "      <td>-3.126388e-18</td>\n",
       "      <td>7.425172e-18</td>\n",
       "      <td>1.563194e-18</td>\n",
       "    </tr>\n",
       "    <tr>\n",
       "      <th>std</th>\n",
       "      <td>1.000000e+00</td>\n",
       "      <td>1.000000e+00</td>\n",
       "      <td>1.000000e+00</td>\n",
       "      <td>1.000000e+00</td>\n",
       "      <td>1.000000e+00</td>\n",
       "      <td>1.000000e+00</td>\n",
       "      <td>1.000000e+00</td>\n",
       "      <td>1.000000e+00</td>\n",
       "      <td>1.000000e+00</td>\n",
       "      <td>1.000000e+00</td>\n",
       "      <td>...</td>\n",
       "      <td>1.000000e+00</td>\n",
       "      <td>1.000000e+00</td>\n",
       "      <td>1.000000e+00</td>\n",
       "      <td>1.000000e+00</td>\n",
       "      <td>1.000000</td>\n",
       "      <td>1.000000e+00</td>\n",
       "      <td>1.000000e+00</td>\n",
       "      <td>1.000000e+00</td>\n",
       "      <td>1.000000e+00</td>\n",
       "      <td>1.000000e+00</td>\n",
       "    </tr>\n",
       "    <tr>\n",
       "      <th>min</th>\n",
       "      <td>-1.549410e-01</td>\n",
       "      <td>-4.501467e-03</td>\n",
       "      <td>-1.870972e-01</td>\n",
       "      <td>-4.824778e-03</td>\n",
       "      <td>-1.280779e-01</td>\n",
       "      <td>-1.075919e-02</td>\n",
       "      <td>-5.121834e-02</td>\n",
       "      <td>-1.199555e-02</td>\n",
       "      <td>-1.667333e-01</td>\n",
       "      <td>-5.966053e-03</td>\n",
       "      <td>...</td>\n",
       "      <td>-5.487497e-02</td>\n",
       "      <td>-5.249162e-03</td>\n",
       "      <td>-7.812803e-02</td>\n",
       "      <td>-6.815703e-03</td>\n",
       "      <td>-0.079926</td>\n",
       "      <td>-1.388455e-02</td>\n",
       "      <td>-5.273306e-02</td>\n",
       "      <td>-1.221560e-02</td>\n",
       "      <td>-7.416306e-02</td>\n",
       "      <td>-2.947739e-02</td>\n",
       "    </tr>\n",
       "    <tr>\n",
       "      <th>25%</th>\n",
       "      <td>-1.549410e-01</td>\n",
       "      <td>-4.501467e-03</td>\n",
       "      <td>-1.870972e-01</td>\n",
       "      <td>-4.824778e-03</td>\n",
       "      <td>-1.280779e-01</td>\n",
       "      <td>-1.075919e-02</td>\n",
       "      <td>-5.121834e-02</td>\n",
       "      <td>-1.199555e-02</td>\n",
       "      <td>-1.667333e-01</td>\n",
       "      <td>-5.966053e-03</td>\n",
       "      <td>...</td>\n",
       "      <td>-5.487497e-02</td>\n",
       "      <td>-5.249162e-03</td>\n",
       "      <td>-7.812803e-02</td>\n",
       "      <td>-6.815703e-03</td>\n",
       "      <td>-0.079926</td>\n",
       "      <td>-1.388455e-02</td>\n",
       "      <td>-5.273306e-02</td>\n",
       "      <td>-1.221560e-02</td>\n",
       "      <td>-7.416306e-02</td>\n",
       "      <td>-2.947739e-02</td>\n",
       "    </tr>\n",
       "    <tr>\n",
       "      <th>50%</th>\n",
       "      <td>-1.549410e-01</td>\n",
       "      <td>-4.501467e-03</td>\n",
       "      <td>-1.870972e-01</td>\n",
       "      <td>-4.824778e-03</td>\n",
       "      <td>-1.280779e-01</td>\n",
       "      <td>-1.075919e-02</td>\n",
       "      <td>-5.121834e-02</td>\n",
       "      <td>-1.199555e-02</td>\n",
       "      <td>-1.667333e-01</td>\n",
       "      <td>-5.966053e-03</td>\n",
       "      <td>...</td>\n",
       "      <td>-5.487497e-02</td>\n",
       "      <td>-5.249162e-03</td>\n",
       "      <td>-7.812803e-02</td>\n",
       "      <td>-6.815703e-03</td>\n",
       "      <td>-0.079926</td>\n",
       "      <td>-1.388455e-02</td>\n",
       "      <td>-5.273306e-02</td>\n",
       "      <td>-1.221560e-02</td>\n",
       "      <td>-7.416306e-02</td>\n",
       "      <td>-2.947739e-02</td>\n",
       "    </tr>\n",
       "    <tr>\n",
       "      <th>75%</th>\n",
       "      <td>-1.549410e-01</td>\n",
       "      <td>-4.501467e-03</td>\n",
       "      <td>-1.870972e-01</td>\n",
       "      <td>-4.824778e-03</td>\n",
       "      <td>-1.280779e-01</td>\n",
       "      <td>-1.075919e-02</td>\n",
       "      <td>-5.121834e-02</td>\n",
       "      <td>-1.199555e-02</td>\n",
       "      <td>-1.667333e-01</td>\n",
       "      <td>-5.966053e-03</td>\n",
       "      <td>...</td>\n",
       "      <td>-5.487497e-02</td>\n",
       "      <td>-5.249162e-03</td>\n",
       "      <td>-7.812803e-02</td>\n",
       "      <td>-6.815703e-03</td>\n",
       "      <td>-0.079926</td>\n",
       "      <td>-1.388455e-02</td>\n",
       "      <td>-5.273306e-02</td>\n",
       "      <td>-1.221560e-02</td>\n",
       "      <td>-7.416306e-02</td>\n",
       "      <td>-2.947739e-02</td>\n",
       "    </tr>\n",
       "    <tr>\n",
       "      <th>max</th>\n",
       "      <td>8.512024e+01</td>\n",
       "      <td>2.236022e+02</td>\n",
       "      <td>4.100575e+01</td>\n",
       "      <td>2.234992e+02</td>\n",
       "      <td>5.230619e+01</td>\n",
       "      <td>2.124923e+02</td>\n",
       "      <td>7.615696e+01</td>\n",
       "      <td>1.812853e+02</td>\n",
       "      <td>5.884305e+01</td>\n",
       "      <td>2.212301e+02</td>\n",
       "      <td>...</td>\n",
       "      <td>1.220470e+02</td>\n",
       "      <td>2.231881e+02</td>\n",
       "      <td>1.141410e+02</td>\n",
       "      <td>2.083756e+02</td>\n",
       "      <td>75.151701</td>\n",
       "      <td>1.914255e+02</td>\n",
       "      <td>7.364253e+01</td>\n",
       "      <td>2.007493e+02</td>\n",
       "      <td>7.023539e+01</td>\n",
       "      <td>1.063420e+02</td>\n",
       "    </tr>\n",
       "  </tbody>\n",
       "</table>\n",
       "<p>8 rows × 200 columns</p>\n",
       "</div>"
      ],
      "text/plain": [
       "                  0             1             2             3             4  \\\n",
       "count  5.000000e+04  5.000000e+04  5.000000e+04  5.000000e+04  5.000000e+04   \n",
       "mean   2.803091e-17  1.101341e-18 -4.973799e-19  1.598721e-19 -1.293188e-17   \n",
       "std    1.000000e+00  1.000000e+00  1.000000e+00  1.000000e+00  1.000000e+00   \n",
       "min   -1.549410e-01 -4.501467e-03 -1.870972e-01 -4.824778e-03 -1.280779e-01   \n",
       "25%   -1.549410e-01 -4.501467e-03 -1.870972e-01 -4.824778e-03 -1.280779e-01   \n",
       "50%   -1.549410e-01 -4.501467e-03 -1.870972e-01 -4.824778e-03 -1.280779e-01   \n",
       "75%   -1.549410e-01 -4.501467e-03 -1.870972e-01 -4.824778e-03 -1.280779e-01   \n",
       "max    8.512024e+01  2.236022e+02  4.100575e+01  2.234992e+02  5.230619e+01   \n",
       "\n",
       "                  5             6             7             8             9  \\\n",
       "count  5.000000e+04  5.000000e+04  5.000000e+04  5.000000e+04  5.000000e+04   \n",
       "mean  -5.151435e-19  6.679102e-18 -8.881784e-19  2.188472e-17  4.440892e-19   \n",
       "std    1.000000e+00  1.000000e+00  1.000000e+00  1.000000e+00  1.000000e+00   \n",
       "min   -1.075919e-02 -5.121834e-02 -1.199555e-02 -1.667333e-01 -5.966053e-03   \n",
       "25%   -1.075919e-02 -5.121834e-02 -1.199555e-02 -1.667333e-01 -5.966053e-03   \n",
       "50%   -1.075919e-02 -5.121834e-02 -1.199555e-02 -1.667333e-01 -5.966053e-03   \n",
       "75%   -1.075919e-02 -5.121834e-02 -1.199555e-02 -1.667333e-01 -5.966053e-03   \n",
       "max    2.124923e+02  7.615696e+01  1.812853e+02  5.884305e+01  2.212301e+02   \n",
       "\n",
       "           ...                190           191           192           193  \\\n",
       "count      ...       5.000000e+04  5.000000e+04  5.000000e+04  5.000000e+04   \n",
       "mean       ...      -6.892265e-18  1.767475e-18 -8.455459e-18  3.552714e-18   \n",
       "std        ...       1.000000e+00  1.000000e+00  1.000000e+00  1.000000e+00   \n",
       "min        ...      -5.487497e-02 -5.249162e-03 -7.812803e-02 -6.815703e-03   \n",
       "25%        ...      -5.487497e-02 -5.249162e-03 -7.812803e-02 -6.815703e-03   \n",
       "50%        ...      -5.487497e-02 -5.249162e-03 -7.812803e-02 -6.815703e-03   \n",
       "75%        ...      -5.487497e-02 -5.249162e-03 -7.812803e-02 -6.815703e-03   \n",
       "max        ...       1.220470e+02  2.231881e+02  1.141410e+02  2.083756e+02   \n",
       "\n",
       "                194           195           196           197           198  \\\n",
       "count  50000.000000  5.000000e+04  5.000000e+04  5.000000e+04  5.000000e+04   \n",
       "mean       0.000000  1.705303e-18 -5.151435e-18 -3.126388e-18  7.425172e-18   \n",
       "std        1.000000  1.000000e+00  1.000000e+00  1.000000e+00  1.000000e+00   \n",
       "min       -0.079926 -1.388455e-02 -5.273306e-02 -1.221560e-02 -7.416306e-02   \n",
       "25%       -0.079926 -1.388455e-02 -5.273306e-02 -1.221560e-02 -7.416306e-02   \n",
       "50%       -0.079926 -1.388455e-02 -5.273306e-02 -1.221560e-02 -7.416306e-02   \n",
       "75%       -0.079926 -1.388455e-02 -5.273306e-02 -1.221560e-02 -7.416306e-02   \n",
       "max       75.151701  1.914255e+02  7.364253e+01  2.007493e+02  7.023539e+01   \n",
       "\n",
       "                199  \n",
       "count  5.000000e+04  \n",
       "mean   1.563194e-18  \n",
       "std    1.000000e+00  \n",
       "min   -2.947739e-02  \n",
       "25%   -2.947739e-02  \n",
       "50%   -2.947739e-02  \n",
       "75%   -2.947739e-02  \n",
       "max    1.063420e+02  \n",
       "\n",
       "[8 rows x 200 columns]"
      ]
     },
     "execution_count": 66,
     "metadata": {},
     "output_type": "execute_result"
    }
   ],
   "source": [
    "train_df[columns].describe()"
   ]
  },
  {
   "cell_type": "code",
   "execution_count": 67,
   "metadata": {},
   "outputs": [
    {
     "data": {
      "text/plain": [
       "0.15732"
      ]
     },
     "execution_count": 67,
     "metadata": {},
     "output_type": "execute_result"
    }
   ],
   "source": [
    "y_gender = train_df[\"gender\"]\n",
    "y_age = train_df[\"age\"]\n",
    "train_df.drop([\"gender\", \"age\"], axis=1,inplace=True)\n",
    "\n",
    "svc_age_model = LinearSVC()\n",
    "svc_age_model.fit(train_df, y_age)\n",
    "svc_age_model.score(train_df, y_age)"
   ]
  },
  {
   "cell_type": "markdown",
   "metadata": {},
   "source": [
    "提升不是很明显，下面再试试分段"
   ]
  },
  {
   "cell_type": "code",
   "execution_count": 97,
   "metadata": {},
   "outputs": [],
   "source": [
    "train_df = pd.read_csv(\"train.data\")\n",
    "columns = [\"{}\".format(x) for x in range(0, 200)]\n",
    "train_df[columns] = train_df[columns].apply(lambda x: pd.cut(x, 10, labels=False))"
   ]
  },
  {
   "cell_type": "code",
   "execution_count": 99,
   "metadata": {
    "scrolled": false
   },
   "outputs": [
    {
     "data": {
      "text/plain": [
       "0.11014"
      ]
     },
     "execution_count": 99,
     "metadata": {},
     "output_type": "execute_result"
    }
   ],
   "source": [
    "y_gender = train_df[\"gender\"]\n",
    "y_age = train_df[\"age\"]\n",
    "train_df.drop([\"gender\", \"age\"], axis=1,inplace=True)\n",
    "\n",
    "svc_age_model = LinearSVC()\n",
    "svc_age_model.fit(train_df, y_age)\n",
    "svc_age_model.score(train_df, y_age)"
   ]
  },
  {
   "cell_type": "markdown",
   "metadata": {},
   "source": [
    "效果更不好。看了下数据分布，的确不适用于分段"
   ]
  },
  {
   "cell_type": "markdown",
   "metadata": {},
   "source": [
    "### 引入新的特征\n",
    "从上面的结果看出，是预测年龄拖了后腿。\n",
    "\n",
    "所以试试把app类型加入进来。"
   ]
  },
  {
   "cell_type": "code",
   "execution_count": null,
   "metadata": {},
   "outputs": [],
   "source": []
  }
 ],
 "metadata": {
  "kernelspec": {
   "display_name": "Python 3",
   "language": "python",
   "name": "python3"
  },
  "language_info": {
   "codemirror_mode": {
    "name": "ipython",
    "version": 3
   },
   "file_extension": ".py",
   "mimetype": "text/x-python",
   "name": "python",
   "nbconvert_exporter": "python",
   "pygments_lexer": "ipython3",
   "version": "3.5.3"
  }
 },
 "nbformat": 4,
 "nbformat_minor": 2
}
