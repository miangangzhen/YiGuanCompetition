{
 "cells": [
  {
   "cell_type": "markdown",
   "metadata": {},
   "source": [
    "# 年龄性别预测比赛\n",
    "## 数据概览\n",
    "### 训练数据 每个设备对应的性别、年龄段【deviceid_train.tsv】"
   ]
  },
  {
   "cell_type": "code",
   "execution_count": 122,
   "metadata": {},
   "outputs": [],
   "source": [
    "import matplotlib.pyplot as plt\n",
    "import pandas as pd\n",
    "from sklearn.linear_model import LogisticRegression\n",
    "from sklearn.svm import LinearSVC\n",
    "import numpy as np\n",
    "from sklearn.decomposition import PCA\n",
    "from sklearn.tree import DecisionTreeClassifier\n",
    "from sklearn.model_selection import train_test_split\n",
    "from sklearn.ensemble import GradientBoostingClassifier"
   ]
  },
  {
   "cell_type": "code",
   "execution_count": 2,
   "metadata": {},
   "outputs": [
    {
     "name": "stdout",
     "output_type": "stream",
     "text": [
      "一个数据样例:\n",
      "device: 53bb60ec1eb01562b047ae6a56c0b943, gender: 1, age: 7\n"
     ]
    }
   ],
   "source": [
    "class DeviceGenderAge():\n",
    "    def __init__(self, device, gender, age):\n",
    "        self.device = device\n",
    "        self.gender = int(gender)\n",
    "        self.age = int(age)\n",
    "    def __str__(self):\n",
    "        return \"device: {0}, gender: {1}, age: {2}\".format(self.device, self.gender, self.age)\n",
    "device_gender_age_train_list = []\n",
    "with open(\"Demo/deviceid_train.tsv\", \"r\", encoding=\"utf-8\") as f:\n",
    "    for line in f.readlines():\n",
    "        line = line.strip()\n",
    "        items = line.split(\"\\t\")\n",
    "        device = DeviceGenderAge(items[0], items[1], items[2])\n",
    "        device_gender_age_train_list.append(device)\n",
    "\n",
    "print(\"一个数据样例:\")\n",
    "print(device_gender_age_train_list[50])"
   ]
  },
  {
   "cell_type": "code",
   "execution_count": 3,
   "metadata": {},
   "outputs": [
    {
     "name": "stdout",
     "output_type": "stream",
     "text": [
      "训练集大小50000\n"
     ]
    },
    {
     "data": {
      "image/png": "[encoded data removed]",
      "text/plain": [
       "<matplotlib.figure.Figure at 0x2223a05dbe0>"
      ]
     },
     "metadata": {},
     "output_type": "display_data"
    },
    {
     "data": {
      "image/png": "[encoded data removed]",
      "text/plain": [
       "<matplotlib.figure.Figure at 0x2223a3997f0>"
      ]
     },
     "metadata": {},
     "output_type": "display_data"
    }
   ],
   "source": [
    "print(\"训练集大小{}\".format(len(device_gender_age_train_list)))\n",
    "\n",
    "gender_map = {}\n",
    "age_map = {}\n",
    "for item in device_gender_age_train_list:\n",
    "    gender_map[item.gender] = gender_map.get(item.gender, 0) + 1\n",
    "    age_map[item.age] = age_map.get(item.age, 0) + 1\n",
    "gender_list = sorted(gender_map.items(), key=lambda x: x[1], reverse=True)\n",
    "age_list = sorted(age_map.items(), key=lambda x: x[1], reverse=True)\n",
    "plt.bar(range(len(gender_list)), [x[1] for x in gender_list], tick_label = [x[0] for x in gender_list])\n",
    "plt.title(\"gender distribution\")\n",
    "plt.show()\n",
    "plt.bar(range(len(age_list)), [x[1] for x in age_list], tick_label = [x[0] for x in age_list])\n",
    "plt.title(\"age distribution\")\n",
    "plt.show()"
   ]
  },
  {
   "cell_type": "code",
   "execution_count": 4,
   "metadata": {},
   "outputs": [],
   "source": [
    "devices_in_traindata_set = set([x.device for x in device_gender_age_train_list])"
   ]
  },
  {
   "cell_type": "code",
   "execution_count": null,
   "metadata": {},
   "outputs": [],
   "source": []
  },
  {
   "cell_type": "markdown",
   "metadata": {},
   "source": [
    "### 设备数据 每个设备上的应用安装列表，设备应用名都进行了hash处理【deviceid_packages.tsv】"
   ]
  },
  {
   "cell_type": "code",
   "execution_count": 5,
   "metadata": {},
   "outputs": [],
   "source": [
    "device_packages_map = {}\n",
    "with open(\"Demo/deviceid_packages.tsv\", \"r\", encoding=\"utf-8\") as f:\n",
    "    for line in f.readlines():\n",
    "        line = line.strip()\n",
    "        items = line.split(\"\\t\")\n",
    "        device_packages_map[items[0]] = items[1].split(\",\")\n"
   ]
  },
  {
   "cell_type": "markdown",
   "metadata": {},
   "source": [
    "#### 看看统计数据"
   ]
  },
  {
   "cell_type": "code",
   "execution_count": 6,
   "metadata": {},
   "outputs": [
    {
     "name": "stdout",
     "output_type": "stream",
     "text": [
      "平均每个手机安装10.528400731502742款app\n"
     ]
    }
   ],
   "source": [
    "mean_app_per_device = np.mean([len(value) for key, value in device_packages_map.items()])\n",
    "print(\"平均每个手机安装{}款app\".format(mean_app_per_device))"
   ]
  },
  {
   "cell_type": "code",
   "execution_count": 7,
   "metadata": {},
   "outputs": [
    {
     "name": "stdout",
     "output_type": "stream",
     "text": [
      "一共35000款不同的app\n"
     ]
    }
   ],
   "source": [
    "app_set = set()\n",
    "for value in device_packages_map.values():\n",
    "    for item in value:\n",
    "        app_set.add(item)\n",
    "print(\"一共{}款不同的app\".format(len(app_set)))"
   ]
  },
  {
   "cell_type": "code",
   "execution_count": 8,
   "metadata": {
    "scrolled": true
   },
   "outputs": [
    {
     "data": {
      "image/png": "[encoded data removed]",
      "text/plain": [
       "<matplotlib.figure.Figure at 0x2223a3d7a90>"
      ]
     },
     "metadata": {},
     "output_type": "display_data"
    }
   ],
   "source": [
    "app_count_map = {}\n",
    "for value in device_packages_map.values():\n",
    "    for item in value:\n",
    "        app_count_map[item] = app_count_map.get(item, 0) + 1\n",
    "top_app = sorted(app_count_map.items(), key=lambda x: x[1], reverse=True)[:100]\n",
    "plt.bar(range(len(top_app)), [x[1] for x in top_app])\n",
    "plt.title(\"top 100 app distribution\")\n",
    "plt.show()"
   ]
  },
  {
   "cell_type": "code",
   "execution_count": 9,
   "metadata": {},
   "outputs": [],
   "source": [
    "top_app_set = set([x[0] for x in top_app])"
   ]
  },
  {
   "cell_type": "code",
   "execution_count": null,
   "metadata": {},
   "outputs": [],
   "source": []
  },
  {
   "cell_type": "code",
   "execution_count": null,
   "metadata": {},
   "outputs": [],
   "source": []
  },
  {
   "cell_type": "markdown",
   "metadata": {},
   "source": [
    "### 应用数据 每个设备上各个应用的打开、关闭行为数据【deviceid_package_start_close.tsv】"
   ]
  },
  {
   "cell_type": "code",
   "execution_count": 10,
   "metadata": {},
   "outputs": [],
   "source": [
    "# 每台手机，各应用使用频次、时间统计\n",
    "device_app_open_close_map = {}\n",
    "class Container():\n",
    "    def __init__(self):\n",
    "        self.freq = 0\n",
    "        self.time = 0\n",
    "    def __str__(self):\n",
    "        return \"freq: {0}, time: {1}\".format(self.freq, self.time)\n",
    "with open(\"Demo/deviceid_package_start_close.tsv\", \"r\", encoding=\"utf-8\") as f:\n",
    "    for line in f.readlines():\n",
    "        items = line.strip().split(\"\\t\")\n",
    "        if items[1] not in top_app_set:\n",
    "            continue\n",
    "        time_delta = (int(items[3]) - int(items[2])) // 1000\n",
    "        \n",
    "        device_app_open_close_map[items[0]] = device_app_open_close_map.get(items[0], {})\n",
    "        device_app_open_close_map[items[0]][items[1]] = device_app_open_close_map[items[0]].get(items[1], Container())\n",
    "        device_app_open_close_map[items[0]][items[1]].freq += 1\n",
    "        device_app_open_close_map[items[0]][items[1]].time += time_delta\n"
   ]
  },
  {
   "cell_type": "code",
   "execution_count": 11,
   "metadata": {},
   "outputs": [
    {
     "name": "stdout",
     "output_type": "stream",
     "text": [
      "随机抽取一个人，一个app，它的使用次数: 1，使用时间: 35\n"
     ]
    }
   ],
   "source": [
    "device_app_open_close_map[\"f39d80ff140836ed76b226ae3b23ada4\"][\"07e967d75aab2f6a52c558695a572a7c\"].freq\n",
    "device_app_open_close_map[\"f39d80ff140836ed76b226ae3b23ada4\"][\"07e967d75aab2f6a52c558695a572a7c\"].time\n",
    "print(\"随机抽取一个人，一个app，它的使用次数: {}，使用时间: {}\"\n",
    "      .format(\n",
    "          device_app_open_close_map[\"f39d80ff140836ed76b226ae3b23ada4\"][\"07e967d75aab2f6a52c558695a572a7c\"].freq,\n",
    "          device_app_open_close_map[\"f39d80ff140836ed76b226ae3b23ada4\"][\"07e967d75aab2f6a52c558695a572a7c\"].time))"
   ]
  },
  {
   "cell_type": "code",
   "execution_count": null,
   "metadata": {},
   "outputs": [],
   "source": []
  },
  {
   "cell_type": "markdown",
   "metadata": {},
   "source": [
    "### 机型数据 每个设备的品牌和型号【deviceid_brand.tsv】"
   ]
  },
  {
   "cell_type": "code",
   "execution_count": 12,
   "metadata": {},
   "outputs": [
    {
     "name": "stdout",
     "output_type": "stream",
     "text": [
      "某个人: f39d80ff140836ed76b226ae3b23ada4的手机是: samsung，型号是: GT-N7105\n"
     ]
    }
   ],
   "source": [
    "device_factory_model_map = {}\n",
    "with open(\"Demo/deviceid_brand.tsv\", \"r\", encoding=\"utf-8\") as f:\n",
    "    for line in f.readlines():\n",
    "        line = line.strip()\n",
    "        items = line.split()\n",
    "        device_factory_model_map[items[0]] = (items[1], items[2])\n",
    "        \n",
    "print(\"某个人: {}的手机是: {}，型号是: {}\".format(\n",
    "    \"f39d80ff140836ed76b226ae3b23ada4\",\n",
    "    device_factory_model_map[\"f39d80ff140836ed76b226ae3b23ada4\"][0],\n",
    "    device_factory_model_map[\"f39d80ff140836ed76b226ae3b23ada4\"][1]\n",
    "))\n",
    "# 手机厂商_id映射\n",
    "factory_id_map = {}\n",
    "# 手机型号_id映射\n",
    "model_id_map = {}\n",
    "for key, value in enumerate(set([x[0] for x in device_factory_model_map.values()])):\n",
    "    factory_id_map[value] = key\n",
    "    \n",
    "for key, value in enumerate(set([x[1] for x in device_factory_model_map.values()])):\n",
    "    model_id_map[value] = key\n"
   ]
  },
  {
   "cell_type": "code",
   "execution_count": null,
   "metadata": {},
   "outputs": [],
   "source": []
  },
  {
   "cell_type": "markdown",
   "metadata": {},
   "source": [
    "### APP数据 每个应用的类别信息【package_label.tsv】"
   ]
  },
  {
   "cell_type": "code",
   "execution_count": 13,
   "metadata": {},
   "outputs": [
    {
     "name": "stdout",
     "output_type": "stream",
     "text": [
      "某app: 6b812b3636e43508a3db2a3537c9a654是: 体育类目中的: 体育资讯\n"
     ]
    }
   ],
   "source": [
    "app_info_map = {}\n",
    "with open(\"Demo/package_label.tsv\", \"r\", encoding=\"utf-8\") as f:\n",
    "    for line in f.readlines():\n",
    "        line = line.strip()\n",
    "        items = line.split()\n",
    "        app_info_map[items[0]] = (items[1], items[2])\n",
    "print(\"某app: {}是: {}类目中的: {}\".format(\n",
    "    \"6b812b3636e43508a3db2a3537c9a654\",\n",
    "    app_info_map[\"6b812b3636e43508a3db2a3537c9a654\"][0],\n",
    "    app_info_map[\"6b812b3636e43508a3db2a3537c9a654\"][1]\n",
    "))"
   ]
  },
  {
   "cell_type": "code",
   "execution_count": null,
   "metadata": {},
   "outputs": [],
   "source": []
  },
  {
   "cell_type": "markdown",
   "metadata": {},
   "source": [
    "## 准备训练数据\n",
    "由于数据挺多，所以把训练数据输出至文件"
   ]
  },
  {
   "cell_type": "code",
   "execution_count": 14,
   "metadata": {},
   "outputs": [],
   "source": [
    "def getAppInstallInfo(device):\n",
    "    \"\"\"\n",
    "    返回top100款app的使用情况。\n",
    "    如果没有安装，则返回[0, 0]\n",
    "    如有安装，则返回[使用次数，平均时长]\n",
    "    \"\"\"\n",
    "    appInstallInfo = device_app_open_close_map.get(device)\n",
    "    if not appInstallInfo:\n",
    "        return [0] * 200\n",
    "    buffer = [0 for i in range(200)]\n",
    "    index = 0\n",
    "    for app in top_app_set:\n",
    "        container = appInstallInfo.get(app)\n",
    "        if container:\n",
    "            buffer[index] = container.freq\n",
    "            index += 1\n",
    "            buffer[index] = container.time // container.freq\n",
    "            index += 1\n",
    "        else:\n",
    "            index += 2\n",
    "    return buffer\n",
    "\n",
    "def getFactoryInfo(device):\n",
    "    \"\"\"\n",
    "    返回手机厂商id和手机型号id\n",
    "    如果没搜索到，则返回[-1, -1]\n",
    "    \"\"\"\n",
    "    factoryInfo = device_factory_model_map.get(device)\n",
    "    if not factoryInfo:\n",
    "        return [-1, -1]\n",
    "    return [factory_id_map.get(factoryInfo[0]), model_id_map.get(factoryInfo[1])]\n",
    "\n",
    "\n",
    "with open(\"train.data\", \"w\", encoding=\"utf-8\") as f:\n",
    "    f.write(\"gender,age,\" + \",\".join([str(i) for i in range(202)])+ \"\\n\")\n",
    "    for person in device_gender_age_train_list:\n",
    "        line = [person.gender, person.age]\n",
    "        \n",
    "        appInstallInfoList = getAppInstallInfo(person.device)\n",
    "        line.extend(appInstallInfoList)\n",
    "        \n",
    "        factoryInfoList = getFactoryInfo(person.device)\n",
    "        line.extend(factoryInfoList)\n",
    "        \n",
    "        f.write(\",\".join([str(x) for x in line]) + \"\\n\")\n",
    "        \n"
   ]
  },
  {
   "cell_type": "markdown",
   "metadata": {},
   "source": [
    "## 准备预测数据"
   ]
  },
  {
   "cell_type": "code",
   "execution_count": 15,
   "metadata": {},
   "outputs": [],
   "source": [
    "with open(\"Demo/deviceid_test.tsv\", \"r\", encoding=\"utf-8\") as fi:\n",
    "    users = [x.strip() for x in fi.readlines()]\n",
    "with open(\"test.data\", \"w\", encoding=\"utf-8\") as f:\n",
    "    f.write(\",\".join([str(i) for i in range(202)]) + \"\\n\")\n",
    "    for device in users:\n",
    "        line = []\n",
    "        \n",
    "        appInstallInfoList = getAppInstallInfo(device)\n",
    "        line.extend(appInstallInfoList)\n",
    "        \n",
    "        factoryInfoList = getFactoryInfo(device)\n",
    "        line.extend(factoryInfoList)\n",
    "        f.write(\",\".join([str(x) for x in line]) + \"\\n\")"
   ]
  },
  {
   "cell_type": "code",
   "execution_count": null,
   "metadata": {},
   "outputs": [],
   "source": []
  },
  {
   "cell_type": "markdown",
   "metadata": {},
   "source": [
    "## 训练模型\n",
    "(后面用其他分类器替代SVC了，它又慢又不好)"
   ]
  },
  {
   "cell_type": "code",
   "execution_count": null,
   "metadata": {},
   "outputs": [],
   "source": [
    "#train_df = pd.read_csv(\"train.data\")"
   ]
  },
  {
   "cell_type": "code",
   "execution_count": null,
   "metadata": {},
   "outputs": [],
   "source": [
    "# y_gender = train_df[\"gender\"]\n",
    "# y_age = train_df[\"age\"]\n",
    "# train_df.drop([\"gender\", \"age\"], axis=1,inplace=True)"
   ]
  },
  {
   "cell_type": "code",
   "execution_count": null,
   "metadata": {},
   "outputs": [],
   "source": [
    "# svc_age_model = LinearSVC()\n",
    "# svc_age_model.fit(train_df, y_age)\n",
    "# svc_age_model.score(train_df, y_age)"
   ]
  },
  {
   "cell_type": "code",
   "execution_count": null,
   "metadata": {},
   "outputs": [],
   "source": [
    "# svc_gender_model = LinearSVC()\n",
    "# svc_gender_model.fit(train_df, y_gender)\n",
    "# svc_gender_model.score(train_df, y_gender)"
   ]
  },
  {
   "cell_type": "markdown",
   "metadata": {},
   "source": [
    "## 预测模型"
   ]
  },
  {
   "cell_type": "code",
   "execution_count": null,
   "metadata": {},
   "outputs": [],
   "source": [
    "# test_df = pd.read_csv(\"test.data\")"
   ]
  },
  {
   "cell_type": "code",
   "execution_count": null,
   "metadata": {},
   "outputs": [],
   "source": [
    "# predict_age = svc_age_model.predict(test_df)"
   ]
  },
  {
   "cell_type": "code",
   "execution_count": null,
   "metadata": {},
   "outputs": [],
   "source": [
    "# predict_gender = svc_gender_model.predict(test_df)"
   ]
  },
  {
   "cell_type": "code",
   "execution_count": 16,
   "metadata": {},
   "outputs": [],
   "source": [
    "# predict_gender"
   ]
  },
  {
   "cell_type": "code",
   "execution_count": null,
   "metadata": {},
   "outputs": [],
   "source": []
  },
  {
   "cell_type": "markdown",
   "metadata": {},
   "source": [
    "## 输出结果"
   ]
  },
  {
   "cell_type": "code",
   "execution_count": 17,
   "metadata": {},
   "outputs": [],
   "source": [
    "# with open(\"Demo/deviceid_test.tsv\", \"r\", encoding=\"utf-8\") as fi:\n",
    "#     users = [x.strip() for x in fi.readlines()]\n",
    "# with open(\"result.csv\", \"w\", encoding=\"utf-8\") as f:\n",
    "#     f.write(\"DeviceID,1-0,1-1,1-2,1-3,1-4,1-5,1-6,1-7,1-8,1-9,1-10,2-0,2-1,2-2,2-3,2-4,2-5,2-6,2-7,2-8,2-9,2-10\\n\")\n",
    "#     for i in range(len(users)):\n",
    "#         predict = [0.0 for i in range(22)]\n",
    "#         gender = predict_gender[i]\n",
    "#         age = predict_age[i]\n",
    "#         predict[(gender-1) * 11 + age] = 1.0\n",
    "#         f.write(users[i]+\",\" + \",\".join([str(x) for x in predict]) + \"\\n\")\n",
    "        "
   ]
  },
  {
   "cell_type": "code",
   "execution_count": null,
   "metadata": {},
   "outputs": [],
   "source": []
  },
  {
   "cell_type": "markdown",
   "metadata": {},
   "source": [
    "## 进阶\n",
    "看到用线性svm，基于原始特征跑出来的结果很糟糕\n",
    "\n",
    "### 尝试1.标准化与分段 \n",
    "\n",
    "可能是因为像[app使用次数][平均使用时间]这种特征，取值范围太大所导致。所以，这里分别试试标准化，和分段化，看看哪种效果更好。"
   ]
  },
  {
   "cell_type": "code",
   "execution_count": null,
   "metadata": {},
   "outputs": [],
   "source": [
    "# train_df = pd.read_csv(\"train.data\")\n",
    "# columns = [\"{}\".format(x) for x in range(0, 200)]\n",
    "# train_df[columns].describe()"
   ]
  },
  {
   "cell_type": "markdown",
   "metadata": {},
   "source": [
    "看一下上表，筛选出了奇数命名的列。它们是top100常用app中每个用户的平均使用时间。\n",
    "\n",
    "均值较大，方差也大，先试试标准化"
   ]
  },
  {
   "cell_type": "code",
   "execution_count": null,
   "metadata": {},
   "outputs": [],
   "source": [
    "# train_df[columns] = (train_df[columns] - train_df[columns].mean()) / train_df[columns].std()"
   ]
  },
  {
   "cell_type": "code",
   "execution_count": null,
   "metadata": {},
   "outputs": [],
   "source": [
    "# train_df[columns].describe()"
   ]
  },
  {
   "cell_type": "code",
   "execution_count": null,
   "metadata": {},
   "outputs": [],
   "source": [
    "# y_gender = train_df[\"gender\"]\n",
    "# y_age = train_df[\"age\"]\n",
    "# train_df.drop([\"gender\", \"age\"], axis=1,inplace=True)\n",
    "\n",
    "# svc_age_model = LinearSVC()\n",
    "# svc_age_model.fit(train_df, y_age)\n",
    "# svc_age_model.score(train_df, y_age)"
   ]
  },
  {
   "cell_type": "markdown",
   "metadata": {},
   "source": [
    "提升不是很明显，下面再试试分段"
   ]
  },
  {
   "cell_type": "code",
   "execution_count": null,
   "metadata": {},
   "outputs": [],
   "source": [
    "# train_df = pd.read_csv(\"train.data\")\n",
    "# columns = [\"{}\".format(x) for x in range(0, 200)]\n",
    "# train_df[columns] = train_df[columns].apply(lambda x: pd.cut(x, 10, labels=False))"
   ]
  },
  {
   "cell_type": "code",
   "execution_count": null,
   "metadata": {
    "scrolled": false
   },
   "outputs": [],
   "source": [
    "# y_gender = train_df[\"gender\"]\n",
    "# y_age = train_df[\"age\"]\n",
    "# train_df.drop([\"gender\", \"age\"], axis=1,inplace=True)\n",
    "\n",
    "# svc_age_model = LinearSVC()\n",
    "# svc_age_model.fit(train_df, y_age)\n",
    "# svc_age_model.score(train_df, y_age)"
   ]
  },
  {
   "cell_type": "markdown",
   "metadata": {},
   "source": [
    "效果更不好。看了下数据分布，的确不适用于分段"
   ]
  },
  {
   "cell_type": "markdown",
   "metadata": {},
   "source": [
    "### 尝试2.特征变换取对数\n"
   ]
  },
  {
   "cell_type": "code",
   "execution_count": null,
   "metadata": {},
   "outputs": [],
   "source": [
    "# train_df = pd.read_csv(\"train.data\")\n",
    "# columns = [\"{}\".format(x) for x in range(0, 200)]\n",
    "# train_df[columns].describe()"
   ]
  },
  {
   "cell_type": "code",
   "execution_count": null,
   "metadata": {},
   "outputs": [],
   "source": [
    "# columns = [\"{}\".format(x) for x in range(0, 200)]\n",
    "# train_df[columns] = train_df[columns].apply(lambda x: np.log(x + 1))\n",
    "# train_df[columns].describe()"
   ]
  },
  {
   "cell_type": "code",
   "execution_count": null,
   "metadata": {},
   "outputs": [],
   "source": [
    "# y_gender = train_df[\"gender\"]\n",
    "# y_age = train_df[\"age\"]\n",
    "# train_df.drop([\"gender\", \"age\"], axis=1,inplace=True)\n",
    "\n",
    "# svc_age_model = LinearSVC()\n",
    "# svc_age_model.fit(train_df, y_age)\n",
    "# svc_age_model.score(train_df, y_age)"
   ]
  },
  {
   "cell_type": "markdown",
   "metadata": {},
   "source": [
    "### 尝试3.降维"
   ]
  },
  {
   "cell_type": "code",
   "execution_count": null,
   "metadata": {},
   "outputs": [],
   "source": [
    "# train_df = pd.read_csv(\"train.data\")\n",
    "# columns = [\"{}\".format(x) for x in range(0, 200)]\n",
    "# train_df[columns].describe()"
   ]
  },
  {
   "cell_type": "code",
   "execution_count": null,
   "metadata": {},
   "outputs": [],
   "source": [
    "# pca = PCA(n_components=\"mle\", svd_solver =\"full\")\n",
    "# pca.fit(train_df[columns])"
   ]
  },
  {
   "cell_type": "code",
   "execution_count": null,
   "metadata": {},
   "outputs": [],
   "source": [
    "# result = pca.transform(train_df[columns])"
   ]
  },
  {
   "cell_type": "code",
   "execution_count": null,
   "metadata": {},
   "outputs": [],
   "source": [
    "# columns_pca = [str(x) + \"_pac\" for x in range(result.shape[1])]\n",
    "# train_df = pd.concat([train_df, pd.DataFrame(columns=columns_pca)])\n",
    "# train_df[columns_pca] = result"
   ]
  },
  {
   "cell_type": "code",
   "execution_count": null,
   "metadata": {
    "scrolled": true
   },
   "outputs": [],
   "source": [
    "# train_df[columns_pca].describe()"
   ]
  },
  {
   "cell_type": "code",
   "execution_count": null,
   "metadata": {},
   "outputs": [],
   "source": [
    "# y_gender = train_df[\"gender\"]\n",
    "# y_age = train_df[\"age\"]\n",
    "# train_df.drop([\"gender\", \"age\"] + columns, axis=1,inplace=True)\n",
    "\n",
    "# svc_age_model = LinearSVC()\n",
    "# svc_age_model.fit(train_df, y_age)\n",
    "# svc_age_model.score(train_df, y_age)"
   ]
  },
  {
   "cell_type": "markdown",
   "metadata": {},
   "source": [
    "总体看来，只有取对数有些提升，但提升有限。"
   ]
  },
  {
   "cell_type": "markdown",
   "metadata": {},
   "source": [
    "### 引入新的特征\n",
    "从上面的结果看出，是预测年龄拖了后腿。\n",
    "\n",
    "所以试试把app类型加入进来。"
   ]
  },
  {
   "cell_type": "code",
   "execution_count": 18,
   "metadata": {},
   "outputs": [
    {
     "data": {
      "text/plain": [
       "{'1896072db9ce6406febfc17f681c2086': '社交',\n",
       " '1cd8e0a97bf3552196f0f60eb3566ac7': '金融',\n",
       " '200cf557b3703944f1f68af08484d2bd': '系统工具',\n",
       " '2338f5519ae89cb819360870c849ac62': '移动购物',\n",
       " '2c94bf3242575e85879b036c109b39ea': '摄影摄像',\n",
       " '4fa7fb86712941bb3fab15596e081b0a': '金融',\n",
       " '4fc981a85c96ef6f91b8123b179e671c': '金融',\n",
       " '616120feb399049e89585756e0cfc4d1': '系统工具',\n",
       " '79eeda5f4c7fd2a0d483dc3d46fa5b3b': '实用工具',\n",
       " '8574dff94054503ee7f7986378e21118': '移动购物',\n",
       " '8c8544b6c129ad4a431be753143ed1c3': '应用管理',\n",
       " '9bc5b0fe46aa2192f199df1af00639c8': 'TAB(桌面游戏)',\n",
       " 'b2d3e3faa159e396f4408a3c3aab7970': '系统工具',\n",
       " 'dd23bbcd2da4282d178ca4e3646cbb00': '其它',\n",
       " 'de54c4c46133bd8e06c5e2de6a38e846': '移动购物',\n",
       " 'fc4b11cd2f4db02b2fb39f372b3ef905': '输入法',\n",
       " 'fd6cc9bde865fe8cbf771d2f3f000770': '系统工具'}"
      ]
     },
     "execution_count": 18,
     "metadata": {},
     "output_type": "execute_result"
    }
   ],
   "source": [
    "packages_label_map = {}\n",
    "with open(\"Demo/package_label.tsv\", \"r\", encoding=\"utf-8\") as f:\n",
    "    for line in f.readlines():\n",
    "        line = line.strip()\n",
    "        items = line.split(\"\\t\")\n",
    "        packages_label_map[items[0]] = items[1]\n",
    "\n",
    "packages_label_map = {k:v for k, v in packages_label_map.items() if k in top_app_set}\n",
    "packages_label_map"
   ]
  },
  {
   "cell_type": "markdown",
   "metadata": {},
   "source": [
    "我惊奇的发现，app类型表是不全的，我统计的top100热门app，只有17款被收录了类型信息。\n",
    "\n",
    "所以只能换一种方式来引入新特征：加入每个用户，对各类型app的喜好强弱\n",
    "\n",
    "先看下一共有多少个一级分类，多少个二级分类"
   ]
  },
  {
   "cell_type": "code",
   "execution_count": 19,
   "metadata": {},
   "outputs": [
    {
     "data": {
      "text/plain": [
       "'一共有45个一级类别，和288个二级类别'"
      ]
     },
     "execution_count": 19,
     "metadata": {},
     "output_type": "execute_result"
    }
   ],
   "source": [
    "label_lv1_set = set()\n",
    "label_lv2_set = set()\n",
    "with open(\"Demo/package_label.tsv\", \"r\", encoding=\"utf-8\") as f:\n",
    "    for line in f.readlines():\n",
    "        line = line.strip()\n",
    "        items = line.split(\"\\t\")\n",
    "        packages_label_map[items[0]] = items[1]\n",
    "        label_lv1_set.add(items[1])\n",
    "        label_lv2_set.add(items[2])\n",
    "\"一共有{}个一级类别，和{}个二级类别\".format(str(len(label_lv1_set)), str(len(label_lv2_set)))\n"
   ]
  },
  {
   "cell_type": "markdown",
   "metadata": {},
   "source": [
    "用这45个一级类别创建新特征，每个用户对这45个类别的喜好程度，由app打开次数决定\n",
    "\n",
    "device_label_hot_map\n",
    "\n",
    "key: device, value:[label1, label2, ..., label45]"
   ]
  },
  {
   "cell_type": "code",
   "execution_count": 20,
   "metadata": {},
   "outputs": [],
   "source": [
    "label_lv1_list = list(label_lv1_set)\n",
    "device_label_hot_map = {}\n",
    "\n",
    "# 所有的用户id\n",
    "with open(\"Demo/deviceid_test.tsv\", \"r\", encoding=\"utf-8\") as fi:\n",
    "    users = [x.strip() for x in fi.readlines()]\n",
    "device_train_and_test_set = devices_in_traindata_set | set(users)\n",
    "\n",
    "with open(\"Demo/deviceid_package_start_close.tsv\", \"r\", encoding=\"utf-8\") as f:\n",
    "    for line in f.readlines():\n",
    "        items = line.strip().split(\"\\t\")\n",
    "        if items[0] not in device_train_and_test_set:\n",
    "            continue\n",
    "            \n",
    "        device_label_hot_map[items[0]] = device_label_hot_map.get(items[0], [0]*45)\n",
    "        label = packages_label_map.get(items[1], None)\n",
    "        if label:\n",
    "            index = label_lv1_list.index(label)\n",
    "            device_label_hot_map[items[0]][index] += 1\n"
   ]
  },
  {
   "cell_type": "markdown",
   "metadata": {},
   "source": [
    "组合新旧特征，重新创建训练语料"
   ]
  },
  {
   "cell_type": "code",
   "execution_count": 40,
   "metadata": {},
   "outputs": [
    {
     "data": {
      "text/html": [
       "<div>\n",
       "<style>\n",
       "    .dataframe thead tr:only-child th {\n",
       "        text-align: right;\n",
       "    }\n",
       "\n",
       "    .dataframe thead th {\n",
       "        text-align: left;\n",
       "    }\n",
       "\n",
       "    .dataframe tbody tr th {\n",
       "        vertical-align: top;\n",
       "    }\n",
       "</style>\n",
       "<table border=\"1\" class=\"dataframe\">\n",
       "  <thead>\n",
       "    <tr style=\"text-align: right;\">\n",
       "      <th></th>\n",
       "      <th>gender</th>\n",
       "      <th>age</th>\n",
       "      <th>0</th>\n",
       "      <th>1</th>\n",
       "      <th>2</th>\n",
       "      <th>3</th>\n",
       "      <th>4</th>\n",
       "      <th>5</th>\n",
       "      <th>6</th>\n",
       "      <th>7</th>\n",
       "      <th>...</th>\n",
       "      <th>192</th>\n",
       "      <th>193</th>\n",
       "      <th>194</th>\n",
       "      <th>195</th>\n",
       "      <th>196</th>\n",
       "      <th>197</th>\n",
       "      <th>198</th>\n",
       "      <th>199</th>\n",
       "      <th>200</th>\n",
       "      <th>201</th>\n",
       "    </tr>\n",
       "  </thead>\n",
       "  <tbody>\n",
       "    <tr>\n",
       "      <th>0</th>\n",
       "      <td>1</td>\n",
       "      <td>3</td>\n",
       "      <td>0</td>\n",
       "      <td>0</td>\n",
       "      <td>1</td>\n",
       "      <td>20</td>\n",
       "      <td>0</td>\n",
       "      <td>0</td>\n",
       "      <td>0</td>\n",
       "      <td>0</td>\n",
       "      <td>...</td>\n",
       "      <td>0</td>\n",
       "      <td>0</td>\n",
       "      <td>0</td>\n",
       "      <td>0</td>\n",
       "      <td>0</td>\n",
       "      <td>0</td>\n",
       "      <td>0</td>\n",
       "      <td>0</td>\n",
       "      <td>279</td>\n",
       "      <td>1742</td>\n",
       "    </tr>\n",
       "    <tr>\n",
       "      <th>1</th>\n",
       "      <td>1</td>\n",
       "      <td>5</td>\n",
       "      <td>0</td>\n",
       "      <td>0</td>\n",
       "      <td>53</td>\n",
       "      <td>78</td>\n",
       "      <td>0</td>\n",
       "      <td>0</td>\n",
       "      <td>0</td>\n",
       "      <td>0</td>\n",
       "      <td>...</td>\n",
       "      <td>0</td>\n",
       "      <td>0</td>\n",
       "      <td>0</td>\n",
       "      <td>0</td>\n",
       "      <td>0</td>\n",
       "      <td>0</td>\n",
       "      <td>0</td>\n",
       "      <td>0</td>\n",
       "      <td>486</td>\n",
       "      <td>1330</td>\n",
       "    </tr>\n",
       "    <tr>\n",
       "      <th>2</th>\n",
       "      <td>2</td>\n",
       "      <td>5</td>\n",
       "      <td>0</td>\n",
       "      <td>0</td>\n",
       "      <td>0</td>\n",
       "      <td>0</td>\n",
       "      <td>0</td>\n",
       "      <td>0</td>\n",
       "      <td>0</td>\n",
       "      <td>0</td>\n",
       "      <td>...</td>\n",
       "      <td>0</td>\n",
       "      <td>0</td>\n",
       "      <td>0</td>\n",
       "      <td>0</td>\n",
       "      <td>0</td>\n",
       "      <td>0</td>\n",
       "      <td>0</td>\n",
       "      <td>0</td>\n",
       "      <td>761</td>\n",
       "      <td>689</td>\n",
       "    </tr>\n",
       "    <tr>\n",
       "      <th>3</th>\n",
       "      <td>1</td>\n",
       "      <td>4</td>\n",
       "      <td>0</td>\n",
       "      <td>0</td>\n",
       "      <td>0</td>\n",
       "      <td>0</td>\n",
       "      <td>0</td>\n",
       "      <td>0</td>\n",
       "      <td>0</td>\n",
       "      <td>0</td>\n",
       "      <td>...</td>\n",
       "      <td>0</td>\n",
       "      <td>0</td>\n",
       "      <td>0</td>\n",
       "      <td>0</td>\n",
       "      <td>0</td>\n",
       "      <td>0</td>\n",
       "      <td>0</td>\n",
       "      <td>0</td>\n",
       "      <td>486</td>\n",
       "      <td>929</td>\n",
       "    </tr>\n",
       "    <tr>\n",
       "      <th>4</th>\n",
       "      <td>1</td>\n",
       "      <td>3</td>\n",
       "      <td>0</td>\n",
       "      <td>0</td>\n",
       "      <td>0</td>\n",
       "      <td>0</td>\n",
       "      <td>0</td>\n",
       "      <td>0</td>\n",
       "      <td>0</td>\n",
       "      <td>0</td>\n",
       "      <td>...</td>\n",
       "      <td>0</td>\n",
       "      <td>0</td>\n",
       "      <td>0</td>\n",
       "      <td>0</td>\n",
       "      <td>0</td>\n",
       "      <td>0</td>\n",
       "      <td>0</td>\n",
       "      <td>0</td>\n",
       "      <td>486</td>\n",
       "      <td>576</td>\n",
       "    </tr>\n",
       "  </tbody>\n",
       "</table>\n",
       "<p>5 rows × 204 columns</p>\n",
       "</div>"
      ],
      "text/plain": [
       "   gender  age  0  1   2   3  4  5  6  7  ...   192  193  194  195  196  197  \\\n",
       "0       1    3  0  0   1  20  0  0  0  0  ...     0    0    0    0    0    0   \n",
       "1       1    5  0  0  53  78  0  0  0  0  ...     0    0    0    0    0    0   \n",
       "2       2    5  0  0   0   0  0  0  0  0  ...     0    0    0    0    0    0   \n",
       "3       1    4  0  0   0   0  0  0  0  0  ...     0    0    0    0    0    0   \n",
       "4       1    3  0  0   0   0  0  0  0  0  ...     0    0    0    0    0    0   \n",
       "\n",
       "   198  199  200   201  \n",
       "0    0    0  279  1742  \n",
       "1    0    0  486  1330  \n",
       "2    0    0  761   689  \n",
       "3    0    0  486   929  \n",
       "4    0    0  486   576  \n",
       "\n",
       "[5 rows x 204 columns]"
      ]
     },
     "execution_count": 40,
     "metadata": {},
     "output_type": "execute_result"
    }
   ],
   "source": [
    "train_df = pd.read_csv(\"train.data\")\n",
    "train_df.head(5)"
   ]
  },
  {
   "cell_type": "code",
   "execution_count": 41,
   "metadata": {},
   "outputs": [],
   "source": [
    "with open(\"train_1.data\", \"w\", encoding=\"utf-8\") as f:\n",
    "    f.write(\"gender,age,\" + \",\".join([str(i) for i in range(202+45)])+ \"\\n\")\n",
    "    for index in range(len(device_gender_age_train_list)):\n",
    "        x = device_gender_age_train_list[index]\n",
    "        new_features = device_label_hot_map[x.device]\n",
    "        merged = train_df.loc[index].tolist() + new_features\n",
    "        f.write(\",\".join([str(x) for x in merged]) + \"\\n\")"
   ]
  },
  {
   "cell_type": "code",
   "execution_count": 87,
   "metadata": {
    "scrolled": true
   },
   "outputs": [
    {
     "data": {
      "text/html": [
       "<div>\n",
       "<style>\n",
       "    .dataframe thead tr:only-child th {\n",
       "        text-align: right;\n",
       "    }\n",
       "\n",
       "    .dataframe thead th {\n",
       "        text-align: left;\n",
       "    }\n",
       "\n",
       "    .dataframe tbody tr th {\n",
       "        vertical-align: top;\n",
       "    }\n",
       "</style>\n",
       "<table border=\"1\" class=\"dataframe\">\n",
       "  <thead>\n",
       "    <tr style=\"text-align: right;\">\n",
       "      <th></th>\n",
       "      <th>gender</th>\n",
       "      <th>age</th>\n",
       "      <th>0</th>\n",
       "      <th>1</th>\n",
       "      <th>2</th>\n",
       "      <th>3</th>\n",
       "      <th>4</th>\n",
       "      <th>5</th>\n",
       "      <th>6</th>\n",
       "      <th>7</th>\n",
       "      <th>...</th>\n",
       "      <th>237</th>\n",
       "      <th>238</th>\n",
       "      <th>239</th>\n",
       "      <th>240</th>\n",
       "      <th>241</th>\n",
       "      <th>242</th>\n",
       "      <th>243</th>\n",
       "      <th>244</th>\n",
       "      <th>245</th>\n",
       "      <th>246</th>\n",
       "    </tr>\n",
       "  </thead>\n",
       "  <tbody>\n",
       "    <tr>\n",
       "      <th>0</th>\n",
       "      <td>1</td>\n",
       "      <td>3</td>\n",
       "      <td>0</td>\n",
       "      <td>0</td>\n",
       "      <td>1</td>\n",
       "      <td>20</td>\n",
       "      <td>0</td>\n",
       "      <td>0</td>\n",
       "      <td>0</td>\n",
       "      <td>0</td>\n",
       "      <td>...</td>\n",
       "      <td>0</td>\n",
       "      <td>0</td>\n",
       "      <td>0</td>\n",
       "      <td>0</td>\n",
       "      <td>191</td>\n",
       "      <td>0</td>\n",
       "      <td>0</td>\n",
       "      <td>0</td>\n",
       "      <td>0</td>\n",
       "      <td>0</td>\n",
       "    </tr>\n",
       "    <tr>\n",
       "      <th>1</th>\n",
       "      <td>1</td>\n",
       "      <td>5</td>\n",
       "      <td>0</td>\n",
       "      <td>0</td>\n",
       "      <td>53</td>\n",
       "      <td>78</td>\n",
       "      <td>0</td>\n",
       "      <td>0</td>\n",
       "      <td>0</td>\n",
       "      <td>0</td>\n",
       "      <td>...</td>\n",
       "      <td>0</td>\n",
       "      <td>0</td>\n",
       "      <td>0</td>\n",
       "      <td>0</td>\n",
       "      <td>76</td>\n",
       "      <td>0</td>\n",
       "      <td>0</td>\n",
       "      <td>0</td>\n",
       "      <td>0</td>\n",
       "      <td>0</td>\n",
       "    </tr>\n",
       "    <tr>\n",
       "      <th>2</th>\n",
       "      <td>2</td>\n",
       "      <td>5</td>\n",
       "      <td>0</td>\n",
       "      <td>0</td>\n",
       "      <td>0</td>\n",
       "      <td>0</td>\n",
       "      <td>0</td>\n",
       "      <td>0</td>\n",
       "      <td>0</td>\n",
       "      <td>0</td>\n",
       "      <td>...</td>\n",
       "      <td>0</td>\n",
       "      <td>0</td>\n",
       "      <td>0</td>\n",
       "      <td>0</td>\n",
       "      <td>50</td>\n",
       "      <td>0</td>\n",
       "      <td>0</td>\n",
       "      <td>0</td>\n",
       "      <td>0</td>\n",
       "      <td>0</td>\n",
       "    </tr>\n",
       "    <tr>\n",
       "      <th>3</th>\n",
       "      <td>1</td>\n",
       "      <td>4</td>\n",
       "      <td>0</td>\n",
       "      <td>0</td>\n",
       "      <td>0</td>\n",
       "      <td>0</td>\n",
       "      <td>0</td>\n",
       "      <td>0</td>\n",
       "      <td>0</td>\n",
       "      <td>0</td>\n",
       "      <td>...</td>\n",
       "      <td>0</td>\n",
       "      <td>0</td>\n",
       "      <td>0</td>\n",
       "      <td>0</td>\n",
       "      <td>0</td>\n",
       "      <td>0</td>\n",
       "      <td>0</td>\n",
       "      <td>0</td>\n",
       "      <td>0</td>\n",
       "      <td>0</td>\n",
       "    </tr>\n",
       "    <tr>\n",
       "      <th>4</th>\n",
       "      <td>1</td>\n",
       "      <td>3</td>\n",
       "      <td>0</td>\n",
       "      <td>0</td>\n",
       "      <td>0</td>\n",
       "      <td>0</td>\n",
       "      <td>0</td>\n",
       "      <td>0</td>\n",
       "      <td>0</td>\n",
       "      <td>0</td>\n",
       "      <td>...</td>\n",
       "      <td>0</td>\n",
       "      <td>0</td>\n",
       "      <td>0</td>\n",
       "      <td>0</td>\n",
       "      <td>161</td>\n",
       "      <td>0</td>\n",
       "      <td>0</td>\n",
       "      <td>2</td>\n",
       "      <td>0</td>\n",
       "      <td>0</td>\n",
       "    </tr>\n",
       "  </tbody>\n",
       "</table>\n",
       "<p>5 rows × 249 columns</p>\n",
       "</div>"
      ],
      "text/plain": [
       "   gender  age  0  1   2   3  4  5  6  7 ...   237  238  239  240  241  242  \\\n",
       "0       1    3  0  0   1  20  0  0  0  0 ...     0    0    0    0  191    0   \n",
       "1       1    5  0  0  53  78  0  0  0  0 ...     0    0    0    0   76    0   \n",
       "2       2    5  0  0   0   0  0  0  0  0 ...     0    0    0    0   50    0   \n",
       "3       1    4  0  0   0   0  0  0  0  0 ...     0    0    0    0    0    0   \n",
       "4       1    3  0  0   0   0  0  0  0  0 ...     0    0    0    0  161    0   \n",
       "\n",
       "   243  244  245  246  \n",
       "0    0    0    0    0  \n",
       "1    0    0    0    0  \n",
       "2    0    0    0    0  \n",
       "3    0    0    0    0  \n",
       "4    0    2    0    0  \n",
       "\n",
       "[5 rows x 249 columns]"
      ]
     },
     "execution_count": 87,
     "metadata": {},
     "output_type": "execute_result"
    }
   ],
   "source": [
    "train_df = pd.read_csv(\"train_1.data\")\n",
    "train_df.head(5)"
   ]
  },
  {
   "cell_type": "markdown",
   "metadata": {},
   "source": [
    "创建包含新特征的预测语料"
   ]
  },
  {
   "cell_type": "code",
   "execution_count": 48,
   "metadata": {},
   "outputs": [],
   "source": [
    "test_df = pd.read_csv(\"test.data\")\n",
    "\n",
    "with open(\"Demo/deviceid_test.tsv\", \"r\", encoding=\"utf-8\") as fi:\n",
    "    users = [x.strip() for x in fi.readlines()]\n",
    "with open(\"test_1.data\", \"w\", encoding=\"utf-8\") as f:\n",
    "    f.write(\",\".join([str(i) for i in range(202+45)])+ \"\\n\")\n",
    "    for index in range(len(users)):\n",
    "        new_features = device_label_hot_map[users[index]]\n",
    "        merged = test_df.loc[index].tolist() + new_features\n",
    "        f.write(\",\".join([str(x) for x in merged]) + \"\\n\")"
   ]
  },
  {
   "cell_type": "code",
   "execution_count": 86,
   "metadata": {},
   "outputs": [
    {
     "data": {
      "text/html": [
       "<div>\n",
       "<style>\n",
       "    .dataframe thead tr:only-child th {\n",
       "        text-align: right;\n",
       "    }\n",
       "\n",
       "    .dataframe thead th {\n",
       "        text-align: left;\n",
       "    }\n",
       "\n",
       "    .dataframe tbody tr th {\n",
       "        vertical-align: top;\n",
       "    }\n",
       "</style>\n",
       "<table border=\"1\" class=\"dataframe\">\n",
       "  <thead>\n",
       "    <tr style=\"text-align: right;\">\n",
       "      <th></th>\n",
       "      <th>0</th>\n",
       "      <th>1</th>\n",
       "      <th>2</th>\n",
       "      <th>3</th>\n",
       "      <th>4</th>\n",
       "      <th>5</th>\n",
       "      <th>6</th>\n",
       "      <th>7</th>\n",
       "      <th>8</th>\n",
       "      <th>9</th>\n",
       "      <th>...</th>\n",
       "      <th>237</th>\n",
       "      <th>238</th>\n",
       "      <th>239</th>\n",
       "      <th>240</th>\n",
       "      <th>241</th>\n",
       "      <th>242</th>\n",
       "      <th>243</th>\n",
       "      <th>244</th>\n",
       "      <th>245</th>\n",
       "      <th>246</th>\n",
       "    </tr>\n",
       "  </thead>\n",
       "  <tbody>\n",
       "    <tr>\n",
       "      <th>0</th>\n",
       "      <td>0</td>\n",
       "      <td>0</td>\n",
       "      <td>0</td>\n",
       "      <td>0</td>\n",
       "      <td>0</td>\n",
       "      <td>0</td>\n",
       "      <td>0</td>\n",
       "      <td>0</td>\n",
       "      <td>0</td>\n",
       "      <td>0</td>\n",
       "      <td>...</td>\n",
       "      <td>0</td>\n",
       "      <td>0</td>\n",
       "      <td>0</td>\n",
       "      <td>0</td>\n",
       "      <td>0</td>\n",
       "      <td>0</td>\n",
       "      <td>0</td>\n",
       "      <td>0</td>\n",
       "      <td>0</td>\n",
       "      <td>0</td>\n",
       "    </tr>\n",
       "    <tr>\n",
       "      <th>1</th>\n",
       "      <td>0</td>\n",
       "      <td>0</td>\n",
       "      <td>0</td>\n",
       "      <td>0</td>\n",
       "      <td>0</td>\n",
       "      <td>0</td>\n",
       "      <td>0</td>\n",
       "      <td>0</td>\n",
       "      <td>0</td>\n",
       "      <td>0</td>\n",
       "      <td>...</td>\n",
       "      <td>0</td>\n",
       "      <td>0</td>\n",
       "      <td>0</td>\n",
       "      <td>0</td>\n",
       "      <td>2675</td>\n",
       "      <td>0</td>\n",
       "      <td>0</td>\n",
       "      <td>0</td>\n",
       "      <td>0</td>\n",
       "      <td>0</td>\n",
       "    </tr>\n",
       "    <tr>\n",
       "      <th>2</th>\n",
       "      <td>0</td>\n",
       "      <td>0</td>\n",
       "      <td>4</td>\n",
       "      <td>488</td>\n",
       "      <td>0</td>\n",
       "      <td>0</td>\n",
       "      <td>0</td>\n",
       "      <td>0</td>\n",
       "      <td>0</td>\n",
       "      <td>0</td>\n",
       "      <td>...</td>\n",
       "      <td>0</td>\n",
       "      <td>0</td>\n",
       "      <td>0</td>\n",
       "      <td>0</td>\n",
       "      <td>97</td>\n",
       "      <td>0</td>\n",
       "      <td>0</td>\n",
       "      <td>2</td>\n",
       "      <td>0</td>\n",
       "      <td>0</td>\n",
       "    </tr>\n",
       "    <tr>\n",
       "      <th>3</th>\n",
       "      <td>0</td>\n",
       "      <td>0</td>\n",
       "      <td>0</td>\n",
       "      <td>0</td>\n",
       "      <td>0</td>\n",
       "      <td>0</td>\n",
       "      <td>0</td>\n",
       "      <td>0</td>\n",
       "      <td>0</td>\n",
       "      <td>0</td>\n",
       "      <td>...</td>\n",
       "      <td>0</td>\n",
       "      <td>0</td>\n",
       "      <td>0</td>\n",
       "      <td>0</td>\n",
       "      <td>0</td>\n",
       "      <td>0</td>\n",
       "      <td>0</td>\n",
       "      <td>0</td>\n",
       "      <td>0</td>\n",
       "      <td>0</td>\n",
       "    </tr>\n",
       "    <tr>\n",
       "      <th>4</th>\n",
       "      <td>0</td>\n",
       "      <td>0</td>\n",
       "      <td>0</td>\n",
       "      <td>0</td>\n",
       "      <td>0</td>\n",
       "      <td>0</td>\n",
       "      <td>0</td>\n",
       "      <td>0</td>\n",
       "      <td>0</td>\n",
       "      <td>0</td>\n",
       "      <td>...</td>\n",
       "      <td>0</td>\n",
       "      <td>0</td>\n",
       "      <td>0</td>\n",
       "      <td>0</td>\n",
       "      <td>692</td>\n",
       "      <td>0</td>\n",
       "      <td>0</td>\n",
       "      <td>1</td>\n",
       "      <td>0</td>\n",
       "      <td>0</td>\n",
       "    </tr>\n",
       "  </tbody>\n",
       "</table>\n",
       "<p>5 rows × 247 columns</p>\n",
       "</div>"
      ],
      "text/plain": [
       "   0  1  2    3  4  5  6  7  8  9 ...   237  238  239  240   241  242  243  \\\n",
       "0  0  0  0    0  0  0  0  0  0  0 ...     0    0    0    0     0    0    0   \n",
       "1  0  0  0    0  0  0  0  0  0  0 ...     0    0    0    0  2675    0    0   \n",
       "2  0  0  4  488  0  0  0  0  0  0 ...     0    0    0    0    97    0    0   \n",
       "3  0  0  0    0  0  0  0  0  0  0 ...     0    0    0    0     0    0    0   \n",
       "4  0  0  0    0  0  0  0  0  0  0 ...     0    0    0    0   692    0    0   \n",
       "\n",
       "   244  245  246  \n",
       "0    0    0    0  \n",
       "1    0    0    0  \n",
       "2    2    0    0  \n",
       "3    0    0    0  \n",
       "4    1    0    0  \n",
       "\n",
       "[5 rows x 247 columns]"
      ]
     },
     "execution_count": 86,
     "metadata": {},
     "output_type": "execute_result"
    }
   ],
   "source": [
    "test_df = pd.read_csv(\"test_1.data\")\n",
    "test_df.head(5)"
   ]
  },
  {
   "cell_type": "code",
   "execution_count": null,
   "metadata": {},
   "outputs": [],
   "source": []
  },
  {
   "cell_type": "code",
   "execution_count": 90,
   "metadata": {},
   "outputs": [],
   "source": [
    "y_gender = train_df[\"gender\"]\n",
    "y_age = train_df[\"age\"]\n",
    "train_df.drop([\"gender\", \"age\"], axis=1,inplace=True)\n",
    "\n",
    "X_train_age, X_test_age, y_train_age, y_test_age = train_test_split(train_df, y_age, test_size=0.33, random_state=42)\n",
    "X_train_gender, X_test_gender, y_train_gender, y_test_gender = train_test_split(train_df, y_gender, test_size=0.33, random_state=42)"
   ]
  },
  {
   "cell_type": "code",
   "execution_count": 121,
   "metadata": {},
   "outputs": [
    {
     "data": {
      "text/plain": [
       "0.20763636363636365"
      ]
     },
     "execution_count": 121,
     "metadata": {},
     "output_type": "execute_result"
    }
   ],
   "source": [
    "dtc_age = DecisionTreeClassifier(max_depth=4)\n",
    "dtc_age.fit(X_train_age, y_train_age)\n",
    "dtc_age.score(X_test_age, y_test_age)"
   ]
  },
  {
   "cell_type": "code",
   "execution_count": 120,
   "metadata": {},
   "outputs": [
    {
     "data": {
      "text/plain": [
       "0.6491515151515151"
      ]
     },
     "execution_count": 120,
     "metadata": {},
     "output_type": "execute_result"
    }
   ],
   "source": [
    "dtc_gender = DecisionTreeClassifier(max_depth=8)\n",
    "dtc_gender.fit(X_train_gender, y_train_gender)\n",
    "dtc_gender.score(X_test_gender, y_test_gender)"
   ]
  },
  {
   "cell_type": "code",
   "execution_count": 125,
   "metadata": {},
   "outputs": [
    {
     "data": {
      "text/plain": [
       "0.21733333333333332"
      ]
     },
     "execution_count": 125,
     "metadata": {},
     "output_type": "execute_result"
    }
   ],
   "source": [
    "gbc_age = GradientBoostingClassifier(n_estimators=10)\n",
    "gbc_age.fit(X_train_age, y_train_age)\n",
    "gbc_age.score(X_test_age, y_test_age)"
   ]
  },
  {
   "cell_type": "code",
   "execution_count": 126,
   "metadata": {},
   "outputs": [
    {
     "data": {
      "text/plain": [
       "0.6481818181818182"
      ]
     },
     "execution_count": 126,
     "metadata": {},
     "output_type": "execute_result"
    }
   ],
   "source": [
    "gbc_gender = GradientBoostingClassifier(n_estimators=10)\n",
    "gbc_gender.fit(X_train_gender, y_train_gender)\n",
    "gbc_gender.score(X_test_gender, y_test_gender)"
   ]
  },
  {
   "cell_type": "markdown",
   "metadata": {},
   "source": [
    "偶然发现，决策树才是正确的选择！\n",
    "\n",
    "改SVC为决策树"
   ]
  },
  {
   "cell_type": "code",
   "execution_count": 96,
   "metadata": {},
   "outputs": [],
   "source": [
    "test_df = pd.read_csv(\"test_1.data\")\n",
    "predict_age = dtc_age.predict(test_df)\n",
    "predict_gender = dtc_gender.predict(test_df)\n",
    "\n",
    "with open(\"Demo/deviceid_test.tsv\", \"r\", encoding=\"utf-8\") as fi:\n",
    "    users = [x.strip() for x in fi.readlines()]\n",
    "with open(\"result.csv\", \"w\", encoding=\"utf-8\") as f:\n",
    "    f.write(\"DeviceID,1-0,1-1,1-2,1-3,1-4,1-5,1-6,1-7,1-8,1-9,1-10,2-0,2-1,2-2,2-3,2-4,2-5,2-6,2-7,2-8,2-9,2-10\\n\")\n",
    "    for i in range(len(users)):\n",
    "        predict = [0.0 for i in range(22)]\n",
    "        gender = predict_gender[i]\n",
    "        age = predict_age[i]\n",
    "        predict[(gender-1) * 11 + age] = 1.0\n",
    "        f.write(users[i]+\",\" + \",\".join([str(x) for x in predict]) + \"\\n\")"
   ]
  },
  {
   "cell_type": "markdown",
   "metadata": {},
   "source": [
    "### 试一下同时分类age与gender"
   ]
  },
  {
   "cell_type": "code",
   "execution_count": 162,
   "metadata": {},
   "outputs": [],
   "source": [
    "train_df = pd.read_csv(\"train_1.data\")\n",
    "y = train_df[\"age\"] + ((train_df[\"gender\"] -1) * 11)\n",
    "train_df.drop([\"gender\", \"age\"], axis=1,inplace=True)\n",
    "X_train, X_test, y_train, y_test = train_test_split(train_df, y, test_size=0.33, random_state=42)"
   ]
  },
  {
   "cell_type": "code",
   "execution_count": 173,
   "metadata": {},
   "outputs": [
    {
     "data": {
      "text/plain": [
       "(0.18638805970149253, 0.13854545454545455)"
      ]
     },
     "execution_count": 173,
     "metadata": {},
     "output_type": "execute_result"
    }
   ],
   "source": [
    "dct = DecisionTreeClassifier(max_depth=10)\n",
    "dct.fit(X_train, y_train)\n",
    "dct.score(X_train, y_train), dct.score(X_test, y_test)"
   ]
  },
  {
   "cell_type": "code",
   "execution_count": 177,
   "metadata": {},
   "outputs": [
    {
     "data": {
      "text/plain": [
       "(0.21844776119402984, 0.1415151515151515)"
      ]
     },
     "execution_count": 177,
     "metadata": {},
     "output_type": "execute_result"
    }
   ],
   "source": [
    "gbc = GradientBoostingClassifier(n_estimators=5, max_depth=5)\n",
    "gbc.fit(X_train, y_train)\n",
    "gbc.score(X_train, y_train),gbc.score(X_test, y_test)"
   ]
  },
  {
   "cell_type": "code",
   "execution_count": null,
   "metadata": {},
   "outputs": [],
   "source": []
  },
  {
   "cell_type": "code",
   "execution_count": null,
   "metadata": {},
   "outputs": [],
   "source": []
  },
  {
   "cell_type": "code",
   "execution_count": null,
   "metadata": {},
   "outputs": [],
   "source": []
  },
  {
   "cell_type": "code",
   "execution_count": null,
   "metadata": {},
   "outputs": [],
   "source": []
  },
  {
   "cell_type": "code",
   "execution_count": null,
   "metadata": {},
   "outputs": [],
   "source": []
  }
 ],
 "metadata": {
  "kernelspec": {
   "display_name": "Python 3",
   "language": "python",
   "name": "python3"
  },
  "language_info": {
   "codemirror_mode": {
    "name": "ipython",
    "version": 3
   },
   "file_extension": ".py",
   "mimetype": "text/x-python",
   "name": "python",
   "nbconvert_exporter": "python",
   "pygments_lexer": "ipython3",
   "version": "3.5.3"
  }
 },
 "nbformat": 4,
 "nbformat_minor": 2
}
